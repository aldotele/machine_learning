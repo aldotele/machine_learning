{
 "cells": [
  {
   "cell_type": "code",
   "execution_count": 1,
   "id": "unknown-implement",
   "metadata": {},
   "outputs": [
    {
     "data": {
      "text/plain": [
       "dict_keys(['data', 'target', 'frame', 'categories', 'feature_names', 'target_names', 'DESCR', 'details', 'url'])"
      ]
     },
     "execution_count": 1,
     "metadata": {},
     "output_type": "execute_result"
    }
   ],
   "source": [
    "from sklearn.datasets import fetch_openml\n",
    "\n",
    "mnist = fetch_openml('mnist_784', version=1)\n",
    "mnist.keys()"
   ]
  },
  {
   "cell_type": "code",
   "execution_count": 2,
   "id": "hispanic-transmission",
   "metadata": {},
   "outputs": [
    {
     "data": {
      "text/plain": [
       "(70000, 784)"
      ]
     },
     "execution_count": 2,
     "metadata": {},
     "output_type": "execute_result"
    }
   ],
   "source": [
    "X, y = mnist['data'], mnist['target'] \n",
    "X.shape  # 7000 observations, 784 features (each feature is one pixel intensity, because the images are 28x28)"
   ]
  },
  {
   "cell_type": "code",
   "execution_count": 3,
   "id": "romantic-gasoline",
   "metadata": {},
   "outputs": [
    {
     "data": {
      "image/png": "[encoded data removed]",
      "text/plain": [
       "<Figure size 432x288 with 1 Axes>"
      ]
     },
     "metadata": {
      "needs_background": "light"
     },
     "output_type": "display_data"
    }
   ],
   "source": [
    "import matplotlib as mpl\n",
    "import matplotlib.pyplot as plt\n",
    "\n",
    "# instead of some_digit = X[0]\n",
    "some_digit = X.to_numpy()[0]  # new method to grab an instance\n",
    "some_digit_image = some_digit.reshape(28, 28)\n",
    "\n",
    "plt.imshow(some_digit_image, cmap='binary')\n",
    "plt.axis('off')\n",
    "plt.show()"
   ]
  },
  {
   "cell_type": "code",
   "execution_count": 4,
   "id": "primary-paste",
   "metadata": {},
   "outputs": [
    {
     "data": {
      "text/plain": [
       "'5'"
      ]
     },
     "execution_count": 4,
     "metadata": {},
     "output_type": "execute_result"
    }
   ],
   "source": [
    "y[0]  # it is indeed a 5 as it looks like"
   ]
  },
  {
   "cell_type": "code",
   "execution_count": 5,
   "id": "alternative-explosion",
   "metadata": {},
   "outputs": [],
   "source": [
    "import numpy as np\n",
    "\n",
    "y = y.astype(np.uint8)"
   ]
  },
  {
   "cell_type": "code",
   "execution_count": 6,
   "id": "exterior-williams",
   "metadata": {},
   "outputs": [],
   "source": [
    "# the MNIST dataset is already split in training and test: the first 60000 are training and the rest is testing data\n",
    "X_train, X_test, y_train, y_test = X[:60000], X[60000:], y[:60000], y[60000:]"
   ]
  },
  {
   "cell_type": "code",
   "execution_count": 7,
   "id": "auburn-living",
   "metadata": {},
   "outputs": [
    {
     "name": "stdout",
     "output_type": "stream",
     "text": [
      "training set has 60000 instances\n",
      "test set has 10000 instances\n"
     ]
    }
   ],
   "source": [
    "print('training set has {} instances'.format(len(X_train)))\n",
    "print('test set has {} instances'.format(len(X_test)))"
   ]
  },
  {
   "cell_type": "code",
   "execution_count": 8,
   "id": "plain-talent",
   "metadata": {},
   "outputs": [
    {
     "data": {
      "text/plain": [
       "5"
      ]
     },
     "execution_count": 8,
     "metadata": {},
     "output_type": "execute_result"
    }
   ],
   "source": [
    "y[0]"
   ]
  },
  {
   "cell_type": "markdown",
   "id": "elder-ballot",
   "metadata": {},
   "source": [
    "## Starting from a binary classifier which distinguishes not-5s and 5s"
   ]
  },
  {
   "cell_type": "code",
   "execution_count": 9,
   "id": "placed-wales",
   "metadata": {},
   "outputs": [
    {
     "data": {
      "text/plain": [
       "0         True\n",
       "1        False\n",
       "2        False\n",
       "3        False\n",
       "4        False\n",
       "         ...  \n",
       "59995    False\n",
       "59996    False\n",
       "59997     True\n",
       "59998    False\n",
       "59999    False\n",
       "Name: class, Length: 60000, dtype: bool"
      ]
     },
     "execution_count": 9,
     "metadata": {},
     "output_type": "execute_result"
    }
   ],
   "source": [
    "y_train_5 = (y_train == 5)\n",
    "y_test_5 = (y_test == 5)\n",
    "y_train_5"
   ]
  },
  {
   "cell_type": "markdown",
   "id": "accurate-apparel",
   "metadata": {},
   "source": [
    "# SGD Classifier"
   ]
  },
  {
   "cell_type": "code",
   "execution_count": 10,
   "id": "relative-strip",
   "metadata": {},
   "outputs": [
    {
     "data": {
      "text/plain": [
       "array([ True])"
      ]
     },
     "execution_count": 10,
     "metadata": {},
     "output_type": "execute_result"
    }
   ],
   "source": [
    "from sklearn.linear_model import SGDClassifier\n",
    "\n",
    "sgd_clf = SGDClassifier(random_state=42)\n",
    "sgd_clf.fit(X_train, y_train_5)  # train on whole training set\n",
    "sgd_clf.predict([some_digit])  # some_digit is the first observation (all 784 features of 1st observation)"
   ]
  },
  {
   "cell_type": "markdown",
   "id": "studied-certificate",
   "metadata": {},
   "source": [
    "True prediction means \"yes, it is a 5\""
   ]
  },
  {
   "cell_type": "code",
   "execution_count": 11,
   "id": "sensitive-heart",
   "metadata": {},
   "outputs": [
    {
     "data": {
      "text/plain": [
       "array([0.95035, 0.96035, 0.9604 ])"
      ]
     },
     "execution_count": 11,
     "metadata": {},
     "output_type": "execute_result"
    }
   ],
   "source": [
    "from sklearn.model_selection import cross_val_score\n",
    "\n",
    "cross_val_score(sgd_clf, X_train, y_train_5, cv=3, scoring='accuracy')\n",
    "# since it's 3-fold cross validation, I will have 3 different scores, one for each fold when used as test set"
   ]
  },
  {
   "cell_type": "markdown",
   "id": "designing-columbia",
   "metadata": {},
   "source": [
    "Each score is an \"accuracy\" score, namely the ratio of correct predictions"
   ]
  },
  {
   "cell_type": "code",
   "execution_count": 12,
   "id": "pretty-intake",
   "metadata": {},
   "outputs": [
    {
     "data": {
      "text/plain": [
       "array([0.91125, 0.90855, 0.90915])"
      ]
     },
     "execution_count": 12,
     "metadata": {},
     "output_type": "execute_result"
    }
   ],
   "source": [
    "from sklearn.base import BaseEstimator\n",
    "\n",
    "class Never5Classifier(BaseEstimator):\n",
    "    def fit(self, X, y=None):\n",
    "        return self\n",
    "    def predict(self, X):\n",
    "        return np.zeros((len(X), 1), dtype=bool)  # predicts all False (zeros as booleans)\n",
    "    \n",
    "never_5_clf = Never5Classifier()\n",
    "cross_val_score(never_5_clf, X_train, y_train_5, cv=3, scoring='accuracy')"
   ]
  },
  {
   "cell_type": "markdown",
   "id": "about-microphone",
   "metadata": {},
   "source": [
    "This very dumb classifier which always predicts \"not 5\" (False), still has high accuracy\n",
    "\n",
    "## Accuracy is not the best performance measure in classification\n",
    "### especially with *skewed* datasets"
   ]
  },
  {
   "cell_type": "code",
   "execution_count": 13,
   "id": "continent-preservation",
   "metadata": {},
   "outputs": [
    {
     "name": "stdout",
     "output_type": "stream",
     "text": [
      "[ True False False ...  True False False]\n"
     ]
    }
   ],
   "source": [
    "from sklearn.model_selection import cross_val_predict\n",
    "\n",
    "# instead of returning scores, it returns predictions made on each test fold\n",
    "# basically it returns the prediction of each training observation when it was on test fold\n",
    "y_train_pred = cross_val_predict(sgd_clf, X_train, y_train_5, cv=3)\n",
    "print(y_train_pred)"
   ]
  },
  {
   "cell_type": "code",
   "execution_count": 14,
   "id": "middle-scenario",
   "metadata": {},
   "outputs": [
    {
     "data": {
      "text/plain": [
       "(60000,)"
      ]
     },
     "execution_count": 14,
     "metadata": {},
     "output_type": "execute_result"
    }
   ],
   "source": [
    "y_train_pred.shape  # we have 60000 \"clean\" predictions as expected"
   ]
  },
  {
   "cell_type": "markdown",
   "id": "verbal-intention",
   "metadata": {},
   "source": [
    "### CONFUSION MATRIX"
   ]
  },
  {
   "cell_type": "code",
   "execution_count": 15,
   "id": "elegant-auckland",
   "metadata": {},
   "outputs": [
    {
     "data": {
      "text/plain": [
       "array([[53892,   687],\n",
       "       [ 1891,  3530]], dtype=int64)"
      ]
     },
     "execution_count": 15,
     "metadata": {},
     "output_type": "execute_result"
    }
   ],
   "source": [
    "from sklearn.metrics import confusion_matrix\n",
    "\n",
    "confusion_matrix(y_train_5, y_train_pred)\n",
    "# note that rows are actual classes and columns are predicted\n",
    "# 0,0 is TN  --> instances correctly classified as not 5s\n",
    "# 1,0 is FN  --> instances wrongly classified as not 5s\n",
    "# 0,1 is FP  --> instances wrongly classified as 5s\n",
    "# 1,1 is TP  --> instances correctly classified as 5s"
   ]
  },
  {
   "cell_type": "code",
   "execution_count": 16,
   "id": "artistic-sociology",
   "metadata": {},
   "outputs": [
    {
     "data": {
      "text/plain": [
       "array([[54579,     0],\n",
       "       [    0,  5421]], dtype=int64)"
      ]
     },
     "execution_count": 16,
     "metadata": {},
     "output_type": "execute_result"
    }
   ],
   "source": [
    "y_train_perfect_pred = y_train_5  # pretend we reached perfect predictions\n",
    "confusion_matrix(y_train_5, y_train_perfect_pred)"
   ]
  },
  {
   "cell_type": "markdown",
   "id": "female-swing",
   "metadata": {},
   "source": [
    "when all non zero elements are on the main diagonal, it means we only have either true negatives or true positives,\\\n",
    "and no false negatives nor false positives. --> PERFECT CLASSIFIER"
   ]
  },
  {
   "cell_type": "markdown",
   "id": "focused-february",
   "metadata": {},
   "source": [
    "## Precision\n",
    "accuracy of positive predictions\n",
    "## Recall\n",
    "sensitivity or true positive rate, which means the percentage of positives actually captured by the model"
   ]
  },
  {
   "cell_type": "code",
   "execution_count": 17,
   "id": "incredible-mystery",
   "metadata": {},
   "outputs": [
    {
     "name": "stdout",
     "output_type": "stream",
     "text": [
      "precision score is  0.8370879772350012\n",
      "recall score is  0.6511713705958311\n"
     ]
    }
   ],
   "source": [
    "from sklearn.metrics import precision_score, recall_score\n",
    "\n",
    "# precision score is TP / (TP + FP)\n",
    "ps = precision_score(y_train_5, y_train_pred)\n",
    "print('precision score is ', ps)\n",
    "\n",
    "# recall score is TP / (TP + FN)\n",
    "rs = recall_score(y_train_5, y_train_pred)\n",
    "print('recall score is ', rs)"
   ]
  },
  {
   "cell_type": "code",
   "execution_count": 18,
   "id": "determined-building",
   "metadata": {},
   "outputs": [
    {
     "name": "stdout",
     "output_type": "stream",
     "text": [
      "when the model claims to have detected a 5, it is correct 83.70879772350011 % of the times\n",
      "the model captured 65.11713705958311 % of the 5s\n"
     ]
    }
   ],
   "source": [
    "print('when the model claims to have detected a 5, it is correct {} % of the times'.format(ps*100))\n",
    "print('the model captured {} % of the 5s'.format(rs*100))"
   ]
  },
  {
   "cell_type": "markdown",
   "id": "documentary-pantyhose",
   "metadata": {},
   "source": [
    "for example, if I only make 1 correct predictions I have 100% precision, but I will just ignore\n",
    "all others positives that I should have captured"
   ]
  },
  {
   "cell_type": "markdown",
   "id": "collectible-hygiene",
   "metadata": {},
   "source": [
    "## F1 Score\n",
    "harmonic mean of precision and recall, useful to compare two classifier.\\\n",
    "The harmonic mean gives more weight to low values, so the F1 Score will be high\n",
    "if both precision and recall are high."
   ]
  },
  {
   "cell_type": "code",
   "execution_count": 19,
   "id": "current-cooling",
   "metadata": {},
   "outputs": [
    {
     "data": {
      "text/plain": [
       "0.7325171197343846"
      ]
     },
     "execution_count": 19,
     "metadata": {},
     "output_type": "execute_result"
    }
   ],
   "source": [
    "from sklearn.metrics import f1_score\n",
    "\n",
    "# f1 score is TP / (TP + (FN+FP)/2)\n",
    "f1_score(y_train_5, y_train_pred)"
   ]
  },
  {
   "cell_type": "markdown",
   "id": "dental-meeting",
   "metadata": {},
   "source": [
    "The F1 score favors classifier with similar precision and recall.\\\n",
    "But in some cases we might be more interested in precision or recall only."
   ]
  },
  {
   "cell_type": "markdown",
   "id": "north-shipping",
   "metadata": {},
   "source": [
    "### Decision Scores"
   ]
  },
  {
   "cell_type": "code",
   "execution_count": 20,
   "id": "indirect-blair",
   "metadata": {},
   "outputs": [
    {
     "name": "stdout",
     "output_type": "stream",
     "text": [
      "[2164.22030239]\n",
      "[ True]\n",
      "[False]\n"
     ]
    }
   ],
   "source": [
    "# accessing decision function returns a score for each instance, to be compared to threshold\n",
    "\n",
    "y_scores = sgd_clf.decision_function([some_digit])\n",
    "print(y_scores)\n",
    "\n",
    "theshold = 0  # with threshold 0 we have ...\n",
    "y_some_digit_pred = (y_scores > theshold)\n",
    "print(y_some_digit_pred)\n",
    "\n",
    "theshold = 8000  # raising threshold decreases recall and increases precision\n",
    "y_some_digit_pred = (y_scores > theshold)\n",
    "print(y_some_digit_pred)  # in this case the classifier fails to detect a 5"
   ]
  },
  {
   "cell_type": "code",
   "execution_count": 21,
   "id": "similar-plane",
   "metadata": {},
   "outputs": [
    {
     "name": "stdout",
     "output_type": "stream",
     "text": [
      "[  1200.93051237 -26883.79202424 -33072.03475406 ...  13272.12718981\n",
      "  -7258.47203373 -16877.50840447]\n"
     ]
    }
   ],
   "source": [
    "# how to decide which theshold to use ?\n",
    "\n",
    "# we get the scores for all instances but specifying to return decision scores instead of predictions\n",
    "y_scores = cross_val_predict(sgd_clf, X_train, y_train_5, cv=3, method='decision_function')\n",
    "print(y_scores)"
   ]
  },
  {
   "cell_type": "markdown",
   "id": "excessive-longitude",
   "metadata": {},
   "source": [
    "After we have found the decision scores, we compute precision and recall for all possible thresholds"
   ]
  },
  {
   "cell_type": "code",
   "execution_count": 22,
   "id": "double-bullet",
   "metadata": {},
   "outputs": [
    {
     "data": {
      "image/png": "[encoded data removed]",
      "text/plain": [
       "<Figure size 576x288 with 1 Axes>"
      ]
     },
     "metadata": {
      "needs_background": "light"
     },
     "output_type": "display_data"
    }
   ],
   "source": [
    "from sklearn.metrics import precision_recall_curve\n",
    "\n",
    "precisions, recalls, thresholds = precision_recall_curve(y_train_5, y_scores)\n",
    "\n",
    "# using matplot lib to plot precision and recall as functions of the threshold\n",
    "\n",
    "def plot_precision_recall_vs_threshold(precisions, recalls, thresholds):\n",
    "    plt.plot(thresholds, precisions[:-1], \"b--\", label='Precision')\n",
    "    plt.plot(thresholds, recalls[:-1], \"g-\", label='Recall')\n",
    "    #plt.xlim(-45000, 45000)\n",
    "    plt.legend(loc=\"center right\", fontsize=16)\n",
    "    plt.xlabel('Threshold', fontsize=16)\n",
    "    plt.grid(True)\n",
    "    plt.axis([-50000, 50000, 0, 1])  # first and secondn are the x limits, third and fourth are the y limits\n",
    "    #plt.gcf().set_size_inches(10, 5)\n",
    "    [...]\n",
    "\n",
    "plt.figure(figsize=(8,4))\n",
    "plot_precision_recall_vs_threshold(precisions, recalls, thresholds)\n",
    "plt.show()"
   ]
  },
  {
   "cell_type": "markdown",
   "id": "determined-hughes",
   "metadata": {},
   "source": [
    "Note that the precision may sometimes go down when threshold increases"
   ]
  },
  {
   "cell_type": "markdown",
   "id": "split-expression",
   "metadata": {},
   "source": [
    "Another way to analyze precision-recall tradeoff is just plotting precision vs recall directly"
   ]
  },
  {
   "cell_type": "code",
   "execution_count": 23,
   "id": "skilled-currency",
   "metadata": {},
   "outputs": [
    {
     "data": {
      "image/png": "[encoded data removed]",
      "text/plain": [
       "<Figure size 432x288 with 1 Axes>"
      ]
     },
     "metadata": {
      "needs_background": "light"
     },
     "output_type": "display_data"
    },
    {
     "data": {
      "text/plain": [
       "<Figure size 720x288 with 0 Axes>"
      ]
     },
     "metadata": {},
     "output_type": "display_data"
    }
   ],
   "source": [
    "plt.plot(recalls, precisions)  # IMPROVE ...\n",
    "plt.xlabel('Recall', fontsize=16)\n",
    "plt.ylabel('Precision', fontsize=16)\n",
    "plt.axis([0,1,0,1])\n",
    "plt.grid(True)\n",
    "plt.figure(figsize=(10,4))\n",
    "plt.show()"
   ]
  },
  {
   "cell_type": "markdown",
   "id": "passive-color",
   "metadata": {},
   "source": [
    "Precision starts to fall sharply at around 80% recall\\\n",
    "We might choose a threshold before that point, for example at around 60% recall"
   ]
  },
  {
   "cell_type": "markdown",
   "id": "diverse-exchange",
   "metadata": {},
   "source": [
    "### Suppose we want 90% precision\n",
    "looking at previous graph we see that we should aim for a threshold at around 8000"
   ]
  },
  {
   "cell_type": "code",
   "execution_count": 24,
   "id": "acquired-casino",
   "metadata": {},
   "outputs": [
    {
     "name": "stdout",
     "output_type": "stream",
     "text": [
      "3370.019499143958\n",
      "[False False False ...  True False False]\n",
      "precision score --> 0.9000345901072293\n",
      "recall score --> 0.4799852425751706\n"
     ]
    }
   ],
   "source": [
    "# choosing threshold which ensures 90% precision\n",
    "threshold_90_precision = thresholds[np.argmax(precisions >= 0.90)]  \n",
    "print(threshold_90_precision)\n",
    "# argmax will give the first index of the maximum value which in this case is True\n",
    "\n",
    "# make predictions on training set for now\n",
    "y_train_pred_90 = (y_scores >= threshold_90_precision)\n",
    "print(y_train_pred_90)\n",
    "# check precision and recall\n",
    "ps = precision_score(y_train_5, y_train_pred_90)\n",
    "rs = recall_score(y_train_5, y_train_pred_90)\n",
    "print(f'precision score --> {ps}')\n",
    "print(f'recall score --> {rs}')"
   ]
  },
  {
   "cell_type": "markdown",
   "id": "liked-beads",
   "metadata": {},
   "source": [
    "As we saw, it is easy to create a classifier with any precision."
   ]
  },
  {
   "cell_type": "markdown",
   "id": "absolute-newcastle",
   "metadata": {},
   "source": [
    "## The ROC Curve\n",
    "it plots true positive rate (recall/sensitivity) vs false positive rate (1 - specificity),\\\n",
    "where fpr is the ratio of negative instances classified as positives,\\\n",
    "while specificity is the tnr namely the ratio of negative instances correctly classified as negative."
   ]
  },
  {
   "cell_type": "code",
   "execution_count": 25,
   "id": "interracial-bobby",
   "metadata": {},
   "outputs": [
    {
     "data": {
      "image/png": "[encoded data removed]",
      "text/plain": [
       "<Figure size 432x288 with 1 Axes>"
      ]
     },
     "metadata": {
      "needs_background": "light"
     },
     "output_type": "display_data"
    }
   ],
   "source": [
    "from sklearn.metrics import roc_curve  # it plots FPR (1 - specificity) vs TPR (sensitivity or recall) \n",
    "\n",
    "fpr, tpr, thresholds = roc_curve(y_train_5, y_scores)  # calculating fpr and tpr for various thresholds\n",
    "\n",
    "\n",
    "def plot_roc_curve(fpr, tpr, label=None):\n",
    "    plt.plot(fpr, tpr, linewidth=2, label=label)\n",
    "    plt.plot([0, 1], [0, 1], 'k--')  # dashed diagonal\n",
    "    plt.grid(linestyle='--')\n",
    "    plt.title(\"ROC curve\", color='red')\n",
    "    plt.xlabel(\"false positive rate (1- specificity)\", color='blue')\n",
    "    plt.ylabel(\"true positive rate (recall or sensitivity)\", color='blue')\n",
    "    [...]\n",
    "    \n",
    "plot_roc_curve(fpr, tpr)\n",
    "plt.show()"
   ]
  },
  {
   "cell_type": "markdown",
   "id": "extreme-tooth",
   "metadata": {},
   "source": [
    "insights:\n",
    "- the tradeoff is that the higher the tpr (recall), the higher the fpr (more false positives produced)\n",
    "- a good classifier stays far away from the diagonal, towards the top-left corner"
   ]
  },
  {
   "cell_type": "markdown",
   "id": "endangered-briefs",
   "metadata": {},
   "source": [
    "## ROC AUC score (area under the curve)\n",
    "useful to compare classifiers"
   ]
  },
  {
   "cell_type": "code",
   "execution_count": 26,
   "id": "limited-family",
   "metadata": {},
   "outputs": [
    {
     "name": "stdout",
     "output_type": "stream",
     "text": [
      "AUC is 0.9604938554008616\n"
     ]
    }
   ],
   "source": [
    "from sklearn.metrics import roc_auc_score\n",
    "\n",
    "# measuring tbe area under the curve (AUC)\n",
    "auc = roc_auc_score(y_train_5, y_scores)\n",
    "print(f'AUC is {auc}')"
   ]
  },
  {
   "cell_type": "markdown",
   "id": "recovered-asbestos",
   "metadata": {},
   "source": [
    "a perfect classifier will have auc equal to 1, while a purely random classifier will have it equal to 0.5"
   ]
  },
  {
   "cell_type": "markdown",
   "id": "human-marsh",
   "metadata": {},
   "source": [
    "### What to use between ROC curve and Precision/Recall curve?\n",
    "use PR curve when a) positive class is rare and b) when caring more about fp than fn.\\\n",
    "Otherwise, ROC curve."
   ]
  },
  {
   "cell_type": "markdown",
   "id": "medical-hamburg",
   "metadata": {},
   "source": [
    "# Random Forest Classifier"
   ]
  },
  {
   "cell_type": "code",
   "execution_count": 27,
   "id": "rapid-failing",
   "metadata": {},
   "outputs": [],
   "source": [
    "from sklearn.ensemble import RandomForestClassifier\n",
    "\n",
    "\n",
    "# training now a Random Forest in order to compare ROC and AUC to those of the SGD\n",
    "# no decision function, instead:\n",
    "forest_clf = RandomForestClassifier(random_state=42)\n",
    "# the following calculates, for each instance, the probability of being a not 5 or a 5\n",
    "y_probas_forest = cross_val_predict(forest_clf, X_train, y_train_5, cv=3, method='predict_proba')\n",
    "\n",
    "y_scores_forest = y_probas_forest[:, 1]  # score = prob of positive class (column 1)\n",
    "\n",
    "# we can use the probabilities as scores for the roc curve\n",
    "fpr_forest, tpr_forest, threshold_forest = roc_curve(y_train_5, y_scores_forest)"
   ]
  },
  {
   "cell_type": "markdown",
   "id": "social-sally",
   "metadata": {},
   "source": [
    "### comparing RF and SGD ROC curves"
   ]
  },
  {
   "cell_type": "code",
   "execution_count": 28,
   "id": "loving-model",
   "metadata": {},
   "outputs": [
    {
     "data": {
      "image/png": "[encoded data removed]",
      "text/plain": [
       "<Figure size 432x288 with 1 Axes>"
      ]
     },
     "metadata": {
      "needs_background": "light"
     },
     "output_type": "display_data"
    }
   ],
   "source": [
    "# ready to plot the ROC curve, we can compare to previous one also\n",
    "plt.plot(fpr, tpr, 'b:', label='SGD')  # this one is the previous, namely the results of the SGD classifier\n",
    "plot_roc_curve(fpr_forest, tpr_forest, \"Random Forest\")  # last parameter is the label which by default is set to None\n",
    "plt.legend(loc='lower right')\n",
    "plt.show()"
   ]
  },
  {
   "cell_type": "code",
   "execution_count": 29,
   "id": "super-shopper",
   "metadata": {},
   "outputs": [
    {
     "name": "stdout",
     "output_type": "stream",
     "text": [
      "AUC 0.9983436731328145\n"
     ]
    }
   ],
   "source": [
    "# measuring the AUC\n",
    "auc = roc_auc_score(y_train_5, y_scores_forest)\n",
    "print('AUC {}'.format(auc))"
   ]
  },
  {
   "cell_type": "markdown",
   "id": "awful-tuesday",
   "metadata": {},
   "source": [
    "We see that RF performs even better, the AUC is greater as the curve is closer to the top-left corner than the SGD one."
   ]
  },
  {
   "cell_type": "code",
   "execution_count": 30,
   "id": "organic-notebook",
   "metadata": {},
   "outputs": [
    {
     "name": "stdout",
     "output_type": "stream",
     "text": [
      "random forest precision score is  0.9905083315756169\n",
      "random forest recall score is  0.8662608374838591\n"
     ]
    }
   ],
   "source": [
    "# measuring precision and recall\n",
    "y_train_pred_forest = cross_val_predict(forest_clf, X_train, y_train_5, cv=3)\n",
    "\n",
    "ps_forest = precision_score(y_train_5, y_train_pred_forest)\n",
    "print('random forest precision score is ', ps_forest)\n",
    "\n",
    "rs_forest = recall_score(y_train_5, y_train_pred_forest)\n",
    "print('random forest recall score is ', rs_forest)"
   ]
  },
  {
   "cell_type": "markdown",
   "id": "spatial-wednesday",
   "metadata": {},
   "source": [
    "We have trained a binary classifier, chosen appropriate metrics, evaluated through cross validation,\\\n",
    "selected the precision-recall tradeoff, used ROC and ROC AUC to compare models."
   ]
  },
  {
   "cell_type": "markdown",
   "id": "conservative-valuable",
   "metadata": {},
   "source": [
    "# MULTICLASS CLASSIFICATION"
   ]
  },
  {
   "cell_type": "markdown",
   "id": "interesting-religion",
   "metadata": {},
   "source": [
    "model that is able to distinguish between more than two classes. \n",
    "Some algorithms such as Logistic Regression, Random Forest, Naive Bayes, are able to do it natively.\n",
    "Others such as SGD and SVMs are binary classifiers.\n",
    "\n",
    "OvR strategy involves here training 10 binary classifiers (0 detector, 1 detector, 2 detector, ... , 9 detector)\n",
    "then choosing the highest decision score to classify the image.\n",
    "\n",
    "OvO strategy is training a binary classifier for each pair of digits (0 or 1 classifier, ...) but this means\n",
    "training (for our dataset) 45 binary classifiers (N x (N-1)/2) = (10 x 4.5).\n",
    "Then when classifying a new image, the image will go through all 45 classifiers and the class that wins\n",
    "most duels will be selected."
   ]
  },
  {
   "cell_type": "markdown",
   "id": "express-spice",
   "metadata": {},
   "source": [
    "When trying to use a binary classifier for a multiclass classification problem, Scikit learn automatically\n",
    "runs OvR or OvO"
   ]
  },
  {
   "cell_type": "markdown",
   "id": "forced-portuguese",
   "metadata": {},
   "source": [
    "## Support Vector Machine Classifier"
   ]
  },
  {
   "cell_type": "code",
   "execution_count": 31,
   "id": "combined-cover",
   "metadata": {},
   "outputs": [
    {
     "data": {
      "text/plain": [
       "array([5], dtype=uint8)"
      ]
     },
     "execution_count": 31,
     "metadata": {},
     "output_type": "execute_result"
    }
   ],
   "source": [
    "from sklearn.svm import SVC\n",
    "\n",
    "svm_cl = SVC()\n",
    "svm_cl.fit(X_train, y_train)  # y_train and not y_train_5 anymore !\n",
    "svm_cl.predict([some_digit])  # some_digit is still the first instance which is a 5"
   ]
  },
  {
   "cell_type": "markdown",
   "id": "every-mayor",
   "metadata": {},
   "source": [
    "### accessing decision scores for first instance"
   ]
  },
  {
   "cell_type": "code",
   "execution_count": 32,
   "id": "subject-digest",
   "metadata": {
    "scrolled": false
   },
   "outputs": [
    {
     "name": "stdout",
     "output_type": "stream",
     "text": [
      "[[ 1.72501977  2.72809088  7.2510018   8.3076379  -0.31087254  9.3132482\n",
      "   1.70975103  2.76765202  6.23049537  4.84771048]]\n",
      "5\n",
      "5\n"
     ]
    }
   ],
   "source": [
    "# now the SVC was trained on the training set but using the original target classes 0-9 and not 5-versus-all\n",
    "# OvO was automatically used here (trained 45 classifiers and selected class that won most duels)\n",
    "# OvR usually is preferred but some algorithms such as SVMs scale poorly with training size, so OvO is preferred then\n",
    "\n",
    "# we can check the 10 scores per instance, in this case relative to the first instance\n",
    "# each score represents approximately the number of won duels\n",
    "some_digit_scores = svm_cl.decision_function([some_digit])\n",
    "print(some_digit_scores)  # the highest score will be at index 5 which corresponds to number 5\n",
    "\n",
    "# double check\n",
    "print(np.argmax(some_digit_scores))  # we get the index of the maximum score\n",
    "# then we use the index to access the class\n",
    "print(svm_cl.classes_[5])  # when a classifier is trained, it stores the list of target classes within that attribute\n",
    "\n",
    "# in this case the index and the class are the same number but it is just a coincidence !"
   ]
  },
  {
   "cell_type": "markdown",
   "id": "deadly-orange",
   "metadata": {},
   "source": [
    "### forcing OvR instead of OvO and viceversa"
   ]
  },
  {
   "cell_type": "code",
   "execution_count": 33,
   "id": "crazy-illness",
   "metadata": {},
   "outputs": [
    {
     "data": {
      "text/plain": [
       "array([5], dtype=uint8)"
      ]
     },
     "execution_count": 33,
     "metadata": {},
     "output_type": "execute_result"
    }
   ],
   "source": [
    "# there is a way to force Scikit to use the OvR instead of OvO and viceversa\n",
    "# in this case since SVM automatically used OvO, we want to use OvR instead, namely training 10 binary classifiers in total\n",
    "# which means training one classifier per digit (0-not 0, 1-not 1, etc.)\n",
    "\n",
    "from sklearn.multiclass import OneVsRestClassifier\n",
    "\n",
    "ovr_clf = OneVsRestClassifier(SVC())  # the classifier gets passed in the constructor of the instance\n",
    "ovr_clf.fit(X_train, y_train)\n",
    "ovr_clf.predict([some_digit])  # now predicting the class of the first instance "
   ]
  },
  {
   "cell_type": "code",
   "execution_count": 34,
   "id": "enormous-liberty",
   "metadata": {},
   "outputs": [
    {
     "data": {
      "text/plain": [
       "10"
      ]
     },
     "execution_count": 34,
     "metadata": {},
     "output_type": "execute_result"
    }
   ],
   "source": [
    "len(ovr_clf.estimators_)  # 10 trained binary classifiers"
   ]
  },
  {
   "cell_type": "markdown",
   "id": "developing-simon",
   "metadata": {},
   "source": [
    "## SGD Classifier"
   ]
  },
  {
   "cell_type": "code",
   "execution_count": 35,
   "id": "broken-arabic",
   "metadata": {},
   "outputs": [
    {
     "data": {
      "text/plain": [
       "array([5], dtype=uint8)"
      ]
     },
     "execution_count": 35,
     "metadata": {},
     "output_type": "execute_result"
    }
   ],
   "source": [
    "# now training a SGD classifier  -- > note: on the book it does not create a new instance !\n",
    "sgd_clf = SGDClassifier(random_state=43)\n",
    "sgd_clf.fit(X_train, y_train)  # instance was created previously\n",
    "sgd_clf.predict([some_digit])"
   ]
  },
  {
   "cell_type": "markdown",
   "id": "distant-hunger",
   "metadata": {},
   "source": [
    "### accessing decision score assigned to each class by SGD Classifier"
   ]
  },
  {
   "cell_type": "code",
   "execution_count": 36,
   "id": "tender-perfume",
   "metadata": {},
   "outputs": [
    {
     "data": {
      "text/plain": [
       "array([[-33088.79384069, -27918.7618197 , -12448.51881789,\n",
       "          -185.8380577 , -27615.83846365,   6859.76366877,\n",
       "        -24000.69970261, -11544.65996835,  -5204.36251823,\n",
       "        -10775.95441337]])"
      ]
     },
     "execution_count": 36,
     "metadata": {},
     "output_type": "execute_result"
    }
   ],
   "source": [
    "# this time Scikit learn used OvR, we can access the score assigned to each class for the first instance\n",
    "sgd_clf.decision_function([some_digit])"
   ]
  },
  {
   "cell_type": "markdown",
   "id": "indian-fashion",
   "metadata": {},
   "source": [
    "## Evaluate Accuracy through cross validation"
   ]
  },
  {
   "cell_type": "code",
   "execution_count": 37,
   "id": "varied-mambo",
   "metadata": {},
   "outputs": [
    {
     "data": {
      "text/plain": [
       "array([0.8702 , 0.88485, 0.88725])"
      ]
     },
     "execution_count": 37,
     "metadata": {},
     "output_type": "execute_result"
    }
   ],
   "source": [
    "# evaluating the classifier with cross-validation\n",
    "\n",
    "# th following will return a score for each test fold\n",
    "# 3-fold was used so there will be 3 test folds\n",
    "cross_val_score(sgd_clf, X_train, y_train, cv=3, scoring='accuracy')\n",
    "# if I used a random classifier, I would get a much lower accuracy (about 10%)"
   ]
  },
  {
   "cell_type": "markdown",
   "id": "parental-roulette",
   "metadata": {},
   "source": [
    "### Scaling inputs to improve accuracy"
   ]
  },
  {
   "cell_type": "code",
   "execution_count": 38,
   "id": "rational-color",
   "metadata": {},
   "outputs": [
    {
     "data": {
      "text/plain": [
       "array([0.89935, 0.89195, 0.89845])"
      ]
     },
     "execution_count": 38,
     "metadata": {},
     "output_type": "execute_result"
    }
   ],
   "source": [
    "# scaling the inputs to get better accuracy\n",
    "from sklearn.preprocessing import StandardScaler  # z = (x - u) / s   namely removing mean and using unit variance\n",
    "\n",
    "scaler = StandardScaler()\n",
    "X_train_scaled = scaler.fit_transform(X_train.astype(np.float64))\n",
    "cross_val_score(sgd_clf, X_train_scaled, y_train, cv=3, scoring='accuracy')\n",
    "# same as before but scores increase now due to standardization"
   ]
  },
  {
   "cell_type": "markdown",
   "id": "promising-arcade",
   "metadata": {},
   "source": [
    "# Error Analysis"
   ]
  },
  {
   "cell_type": "code",
   "execution_count": 39,
   "id": "cleared-reward",
   "metadata": {},
   "outputs": [
    {
     "data": {
      "text/plain": [
       "array([[5555,    0,   21,    6,    8,   52,   35,    6,  239,    1],\n",
       "       [   0, 6400,   36,   24,    4,   46,    4,    7,  211,   10],\n",
       "       [  27,   29, 5222,   94,   72,   25,   64,   36,  383,    6],\n",
       "       [  21,   16,  117, 5227,    2,  209,   25,   40,  403,   71],\n",
       "       [  10,   14,   46,    9, 5190,   11,   35,   25,  339,  163],\n",
       "       [  26,   15,   28,  163,   54, 4447,   74,   15,  541,   58],\n",
       "       [  30,   15,   40,    3,   43,   97, 5551,    5,  133,    1],\n",
       "       [  19,   10,   50,   30,   50,   15,    3, 5697,  190,  201],\n",
       "       [  17,   65,   45,   93,    3,  131,   25,   10, 5423,   39],\n",
       "       [  25,   18,   30,   67,  117,   35,    1,  178,  395, 5083]],\n",
       "      dtype=int64)"
      ]
     },
     "execution_count": 39,
     "metadata": {},
     "output_type": "execute_result"
    }
   ],
   "source": [
    "# ERROR ANALYSIS \n",
    "# make predictions and look at confusion matrix\n",
    "\n",
    "y_train_pred = cross_val_predict(sgd_clf, X_train_scaled, y_train, cv=3)\n",
    "conf_mx = confusion_matrix(y_train, y_train_pred)\n",
    "conf_mx"
   ]
  },
  {
   "cell_type": "markdown",
   "id": "italic-testing",
   "metadata": {},
   "source": [
    "### image representation of the confusion matrix"
   ]
  },
  {
   "cell_type": "code",
   "execution_count": 40,
   "id": "raised-brooklyn",
   "metadata": {},
   "outputs": [
    {
     "data": {
      "image/png": "[encoded data removed]",
      "text/plain": [
       "<Figure size 288x288 with 1 Axes>"
      ]
     },
     "metadata": {
      "needs_background": "light"
     },
     "output_type": "display_data"
    }
   ],
   "source": [
    "plt.matshow(conf_mx, cmap=plt.cm.gray)\n",
    "plt.show()\n",
    "\n",
    "# Note: rows=actual classes and columns=predicted classes\n",
    "# since images are mostly on the diagonal, it means most images were classified correctly\n",
    "# in the 8 columns you can see lighter squares, which means many images were misclassified as 8 (mainly 2-3-4-5)\n",
    "# the 5-5 square is slightly darker which might mean 1) there are fewer 5s and 2) model does not recognize well 5s\n",
    "\n",
    "# the higher the value of the square, the lighter the square"
   ]
  },
  {
   "cell_type": "markdown",
   "id": "binary-clark",
   "metadata": {},
   "source": [
    "## getting error rates instead of absolute error"
   ]
  },
  {
   "cell_type": "code",
   "execution_count": 41,
   "id": "introductory-christopher",
   "metadata": {},
   "outputs": [],
   "source": [
    "# next step is dividing each value in the matrix by the number of images in the corresponding class\n",
    "# this way we can compare error rates instead of absolute number of errors\n",
    "# absolute number of errors would make abundant classes look unfairly bad\n",
    "\n",
    "row_sums = conf_mx.sum(axis=1, keepdims=True)  # sums of each actual class\n",
    "#print(row_sums)\n",
    "norm_conf_mx = conf_mx / row_sums\n",
    "#print(norm_conf_mx)"
   ]
  },
  {
   "cell_type": "code",
   "execution_count": 42,
   "id": "informative-astronomy",
   "metadata": {},
   "outputs": [
    {
     "data": {
      "image/png": "[encoded data removed]",
      "text/plain": [
       "<Figure size 288x288 with 1 Axes>"
      ]
     },
     "metadata": {
      "needs_background": "light"
     },
     "output_type": "display_data"
    }
   ],
   "source": [
    "# filling the diagonal with zeros in order to focus only on errors\n",
    "np.fill_diagonal(norm_conf_mx, 0)\n",
    "plt.matshow(norm_conf_mx, cmap=plt.cm.gray)\n",
    "plt.show()\n",
    "\n",
    "# now type of errors are more clear\n",
    "# for example column 8 is brighter than others, which means many not-8 obs got misclassified as 8s\n",
    "# for example a lot of 5s were classified as 8 (lots of false 8s)\n",
    "# also, a lot of 5s were classified as 3s, and a lot of 3s as 5s (they get confused in general)\n",
    "# also 2s and 3s got confused several times"
   ]
  },
  {
   "cell_type": "markdown",
   "id": "atmospheric-george",
   "metadata": {},
   "source": [
    "insights:\n",
    "- efforts should spent on improving 8s classification \\\n",
    "    (e.g. by gathering more not 8s data that look like 8s, in order to make the model distinguish them)\n",
    "- make some pattern like closed loops stand out more through preprocessing"
   ]
  },
  {
   "cell_type": "markdown",
   "id": "equal-american",
   "metadata": {},
   "source": [
    "### Individual Error Analysis (time-consuming): focusing on 3s and 5s classifications"
   ]
  },
  {
   "cell_type": "code",
   "execution_count": 43,
   "id": "compressed-spelling",
   "metadata": {},
   "outputs": [],
   "source": [
    "# focus on 3s and 5s by plotting examples\n",
    "\n",
    "cl_a, cl_b = 3, 5\n",
    "X_aa = X_train[(y_train == cl_a) & (y_train_pred == cl_a)]  # indexes of the respected conditions are passed into the list\n",
    "X_ab = X_train[(y_train == cl_a) & (y_train_pred == cl_b)]\n",
    "X_ba = X_train[(y_train == cl_b) & (y_train_pred == cl_a)]\n",
    "X_bb = X_train[(y_train == cl_b) & (y_train_pred == cl_b)]\n",
    "\n",
    "# X aa will be the obs of 3s that get correctly classified\n",
    "# X ab will be the obs of 3s that get classified as 5s\n",
    "# X ba will be the obs of 5s that get classified as 3s\n",
    "# X bb will be the obs of 5s that get correctly classified\n",
    "\n",
    "\n",
    "# for example if I print X_ba I will see that the first observation is in that set\n",
    "# indeed if I print y_train_pred[0] I get 3, which means that the first prediction was wrong (3 instead of 5)\n",
    "\n",
    "# plt.figure(figsize=(8,8))\n",
    "\n",
    "# plt.subplot(221); plot_digits(X_aa[:25], images_per_row=5)\n",
    "# plt.subplot(222); plot_digits(X_ab[:25], images_per_row=5)\n",
    "# plt.subplot(223); plot_digits(X_ba[:25], images_per_row=5)\n",
    "# plt.subplot(224); plot_digits(X_bb[:25], images_per_row=5)\n",
    "\n",
    "# plt.show()  # NOT WORKING\n",
    "\n",
    "# there will be 5 blocks: on the left all obs classified as 3s and on the right as 5s\n",
    "# the upper left and bottom right blocks will be correct classifications\n",
    "# the upper right will be misclassifications of 3s as 5s\n",
    "# the bottom left will be misclassifications of 5s as 3s\n",
    "\n",
    "# on many observations we can see that the model did not perform well: they were clearly 3s or 5s but were confused\n",
    "# the reason is that we used a linear model: SGD\n",
    "# the linear model assigns a weight per class to each pixel; 5s and 3s vary only for a few pixels\n",
    "# more specifically, this classifier is sensitive to image shifting/rotation"
   ]
  },
  {
   "cell_type": "markdown",
   "id": "polar-purple",
   "metadata": {},
   "source": [
    "# Multilabel Classification\n",
    "it outputs multiple binary tags"
   ]
  },
  {
   "cell_type": "code",
   "execution_count": 44,
   "id": "occupational-plane",
   "metadata": {},
   "outputs": [
    {
     "data": {
      "text/plain": [
       "array([[False,  True]])"
      ]
     },
     "execution_count": 44,
     "metadata": {},
     "output_type": "execute_result"
    }
   ],
   "source": [
    "# MULTILABEL CLASSIFICATION\n",
    "\n",
    "from sklearn.neighbors import KNeighborsClassifier\n",
    "\n",
    "y_train_large = (y_train >= 7)\n",
    "y_train_odd = (y_train % 2 == 1)\n",
    "y_multilabel = np.c_[y_train_large, y_train_odd]  # array containing two target labels for each digit image\n",
    "# the c_ concatenates each pair of element in the two passed lists\n",
    "\n",
    "knn_clf = KNeighborsClassifier()\n",
    "knn_clf.fit(X_train, y_multilabel)\n",
    "\n",
    "knn_clf.predict([some_digit])  # predicting if the first observation (a 5) is >= 7 and odd"
   ]
  },
  {
   "cell_type": "markdown",
   "id": "important-alberta",
   "metadata": {},
   "source": [
    "## Evaluating multilabel classifier"
   ]
  },
  {
   "cell_type": "code",
   "execution_count": 45,
   "id": "tribal-restoration",
   "metadata": {},
   "outputs": [
    {
     "data": {
      "text/plain": [
       "0.976410265560605"
      ]
     },
     "execution_count": 45,
     "metadata": {},
     "output_type": "execute_result"
    }
   ],
   "source": [
    "# evaluate multilabel classifier by measuring F1 score for each individual label\n",
    "\n",
    "y_train_knn_pred = cross_val_predict(knn_clf, X_train, y_multilabel, cv=3)\n",
    "f1_score(y_multilabel, y_train_knn_pred, average='macro')  # assumes all labels are equally important"
   ]
  },
  {
   "cell_type": "code",
   "execution_count": 46,
   "id": "included-ticket",
   "metadata": {},
   "outputs": [
    {
     "data": {
      "text/plain": [
       "0.9778357403921755"
      ]
     },
     "execution_count": 46,
     "metadata": {},
     "output_type": "execute_result"
    }
   ],
   "source": [
    "f1_score(y_multilabel, y_train_knn_pred, average='weighted')  # labels weighted according to support --> number of instances with that target label"
   ]
  },
  {
   "cell_type": "markdown",
   "id": "further-aside",
   "metadata": {},
   "source": [
    "# Multioutput Classification\n",
    "generalization of multilabel classification where each label can be multiclass"
   ]
  },
  {
   "cell_type": "code",
   "execution_count": 47,
   "id": "experienced-china",
   "metadata": {},
   "outputs": [],
   "source": [
    "# MULTIOUTPUT CLASSIFICATION\n",
    "# building a system that removes noise from images\n",
    "\n",
    "noise = np.random.randint(0, 100, (len(X_train), 784))  # third argument is size/output shape (784 columns/features)\n",
    "X_train_mod = X_train + noise  # original images get added noise\n",
    "noise = np.random.randint(0, 100, (len(X_test), 784))\n",
    "X_test_mod = X_test + noise \n",
    "# the targe images will be the original images\n",
    "y_train_mod = X_train\n",
    "y_test_mod = X_test"
   ]
  },
  {
   "cell_type": "code",
   "execution_count": 49,
   "id": "documented-looking",
   "metadata": {},
   "outputs": [],
   "source": [
    "# # let's train the classifier and make it clean an image\n",
    "# knn_clf.fit(X_train_mod, y_train_mod)\n",
    "# some_index = 0\n",
    "# clean_digit = knn_clf.predict([X_test_mod[some_index]])  # need some_index value\n",
    "# plot_digit(clean_digit)"
   ]
  },
  {
   "cell_type": "markdown",
   "id": "searching-mystery",
   "metadata": {},
   "source": [
    "## Aiming at over 97 % Accuracy"
   ]
  },
  {
   "cell_type": "markdown",
   "id": "amended-legend",
   "metadata": {},
   "source": [
    "## K-Neighbors Classifier with Grid Search"
   ]
  },
  {
   "cell_type": "code",
   "execution_count": 50,
   "id": "intimate-harrison",
   "metadata": {},
   "outputs": [
    {
     "name": "stdout",
     "output_type": "stream",
     "text": [
      "Fitting 3 folds for each of 6 candidates, totalling 18 fits\n"
     ]
    },
    {
     "data": {
      "text/plain": [
       "GridSearchCV(cv=3, estimator=KNeighborsClassifier(), n_jobs=-1,\n",
       "             param_grid={'n_neighbors': [3, 5, 7],\n",
       "                         'weights': ['uniform', 'distance']},\n",
       "             scoring='accuracy', verbose=1)"
      ]
     },
     "execution_count": 50,
     "metadata": {},
     "output_type": "execute_result"
    }
   ],
   "source": [
    "from sklearn.model_selection import GridSearchCV\n",
    "from sklearn.neighbors import KNeighborsClassifier\n",
    "\n",
    "grid_params = {\n",
    "    'n_neighbors': [3,5,7],\n",
    "    'weights': ['uniform', 'distance'],\n",
    "}\n",
    "\n",
    "# consider adding 'metric': ['euclidean', 'manhattan']\n",
    "\n",
    "kn = KNeighborsClassifier()\n",
    "\n",
    "gs = GridSearchCV(kn, grid_params, cv=3, scoring='accuracy', verbose=1, n_jobs=-1)\n",
    "gs.fit(X_train, y_train)"
   ]
  },
  {
   "cell_type": "code",
   "execution_count": 51,
   "id": "patient-scheduling",
   "metadata": {},
   "outputs": [
    {
     "name": "stdout",
     "output_type": "stream",
     "text": [
      "{'n_neighbors': 3, 'weights': 'distance'}\n",
      "0.9693333333333333\n"
     ]
    }
   ],
   "source": [
    "# information\n",
    "print(gs.best_params_)\n",
    "print(gs.best_score_)"
   ]
  },
  {
   "cell_type": "code",
   "execution_count": 53,
   "id": "jewish-september",
   "metadata": {},
   "outputs": [
    {
     "name": "stdout",
     "output_type": "stream",
     "text": [
      "Accuracy is 97.17\n"
     ]
    }
   ],
   "source": [
    "from sklearn.metrics import accuracy_score\n",
    "\n",
    "\n",
    "best_model = gs.best_estimator_\n",
    "final_pred = best_model.predict(X_test)\n",
    "# getting accuracy\n",
    "acc = accuracy_score(y_test, final_pred)\n",
    "print('Accuracy is {}'.format(acc*100))"
   ]
  },
  {
   "cell_type": "markdown",
   "id": "second-calgary",
   "metadata": {},
   "source": [
    "#### The K-Neighbors Classifier improved with hyperparameter tuning allowed to get over 97 % accuracy."
   ]
  }
 ],
 "metadata": {
  "kernelspec": {
   "display_name": "Python 3",
   "language": "python",
   "name": "python3"
  },
  "language_info": {
   "codemirror_mode": {
    "name": "ipython",
    "version": 3
   },
   "file_extension": ".py",
   "mimetype": "text/x-python",
   "name": "python",
   "nbconvert_exporter": "python",
   "pygments_lexer": "ipython3",
   "version": "3.7.9"
  }
 },
 "nbformat": 4,
 "nbformat_minor": 5
}
