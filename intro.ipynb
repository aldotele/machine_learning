{
 "cells": [
  {
   "cell_type": "markdown",
   "id": "living-blame",
   "metadata": {},
   "source": [
    "# Machine Learning Projects\n",
    "\n",
    "- projects are organized into folders\n",
    "\n",
    "\n",
    "- projects built on knowledge and best practices from the book *Hands-on Machine Learning with Scikit-Learn, Keras & TensorFlow* by Aurélien Géron\n",
    "\n",
    "\n",
    "- dataset are taken mostly from Kaggle"
   ]
  }
 ],
 "metadata": {
  "kernelspec": {
   "display_name": "Python 3",
   "language": "python",
   "name": "python3"
  },
  "language_info": {
   "codemirror_mode": {
    "name": "ipython",
    "version": 3
   },
   "file_extension": ".py",
   "mimetype": "text/x-python",
   "name": "python",
   "nbconvert_exporter": "python",
   "pygments_lexer": "ipython3",
   "version": "3.7.9"
  }
 },
 "nbformat": 4,
 "nbformat_minor": 5
}