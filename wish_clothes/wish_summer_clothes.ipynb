{
 "cells": [
  {
   "cell_type": "markdown",
   "id": "administrative-plumbing",
   "metadata": {},
   "source": [
    "# Wish Summer Clothes Classification Project\n",
    "The purpose is to predict the success of wish summer clothes based on the number of units sold in August 2020.\n",
    "Each observation is a summer clothing unit."
   ]
  },
  {
   "cell_type": "code",
   "execution_count": 1,
   "id": "logical-delicious",
   "metadata": {},
   "outputs": [],
   "source": [
    "import pandas as pd\n",
    "import numpy as np\n",
    "import seaborn as sns\n",
    "import matplotlib.pyplot as plt"
   ]
  },
  {
   "cell_type": "code",
   "execution_count": 2,
   "id": "surrounded-meditation",
   "metadata": {},
   "outputs": [],
   "source": [
    "import warnings\n",
    "warnings.filterwarnings(\"ignore\")"
   ]
  },
  {
   "cell_type": "code",
   "execution_count": 3,
   "id": "olympic-cartoon",
   "metadata": {},
   "outputs": [],
   "source": [
    "import os\n",
    "\n",
    "\n",
    "path = os.path.join('summer_clothes.csv')\n",
    "\n",
    "def load_clothes_data(clothes_data=path):\n",
    "    return pd.read_csv(path)\n",
    "\n",
    "dataset = load_clothes_data()"
   ]
  },
  {
   "cell_type": "code",
   "execution_count": 4,
   "id": "occupied-enclosure",
   "metadata": {},
   "outputs": [
    {
     "output_type": "execute_result",
     "data": {
      "text/plain": [
       "                                               title  \\\n",
       "0  2020 Summer Vintage Flamingo Print  Pajamas Se...   \n",
       "1  SSHOUSE Summer Casual Sleeveless Soirée Party ...   \n",
       "2  2020 Nouvelle Arrivée Femmes Printemps et Été ...   \n",
       "\n",
       "                                          title_orig  price  retail_price  \\\n",
       "0  2020 Summer Vintage Flamingo Print  Pajamas Se...   16.0            14   \n",
       "1   Women's Casual Summer Sleeveless Sexy Mini Dress    8.0            22   \n",
       "2  2020 New Arrival Women Spring and Summer Beach...    8.0            43   \n",
       "\n",
       "  currency_buyer  units_sold  uses_ad_boosts  rating  rating_count  \\\n",
       "0            EUR         100               0    3.76            54   \n",
       "1            EUR       20000               1    3.45          6135   \n",
       "2            EUR         100               0    3.57            14   \n",
       "\n",
       "   rating_five_count  ...  merchant_rating_count  merchant_rating  \\\n",
       "0               26.0  ...                    568         4.128521   \n",
       "1             2269.0  ...                  17752         3.899673   \n",
       "2                5.0  ...                    295         3.989831   \n",
       "\n",
       "                merchant_id  merchant_has_profile_picture  \\\n",
       "0  595097d6a26f6e070cb878d1                             0   \n",
       "1  56458aa03a698c35c9050988                             0   \n",
       "2  5d464a1ffdf7bc44ee933c65                             0   \n",
       "\n",
       "   merchant_profile_picture                                      product_url  \\\n",
       "0                       NaN  https://www.wish.com/c/5e9ae51d43d6a96e303acdb0   \n",
       "1                       NaN  https://www.wish.com/c/58940d436a0d3d5da4e95a38   \n",
       "2                       NaN  https://www.wish.com/c/5ea10e2c617580260d55310a   \n",
       "\n",
       "                                     product_picture  \\\n",
       "0  https://contestimg.wish.com/api/webimage/5e9ae...   \n",
       "1  https://contestimg.wish.com/api/webimage/58940...   \n",
       "2  https://contestimg.wish.com/api/webimage/5ea10...   \n",
       "\n",
       "                 product_id   theme crawl_month  \n",
       "0  5e9ae51d43d6a96e303acdb0  summer     2020-08  \n",
       "1  58940d436a0d3d5da4e95a38  summer     2020-08  \n",
       "2  5ea10e2c617580260d55310a  summer     2020-08  \n",
       "\n",
       "[3 rows x 43 columns]"
      ],
      "text/html": "<div>\n<style scoped>\n    .dataframe tbody tr th:only-of-type {\n        vertical-align: middle;\n    }\n\n    .dataframe tbody tr th {\n        vertical-align: top;\n    }\n\n    .dataframe thead th {\n        text-align: right;\n    }\n</style>\n<table border=\"1\" class=\"dataframe\">\n  <thead>\n    <tr style=\"text-align: right;\">\n      <th></th>\n      <th>title</th>\n      <th>title_orig</th>\n      <th>price</th>\n      <th>retail_price</th>\n      <th>currency_buyer</th>\n      <th>units_sold</th>\n      <th>uses_ad_boosts</th>\n      <th>rating</th>\n      <th>rating_count</th>\n      <th>rating_five_count</th>\n      <th>...</th>\n      <th>merchant_rating_count</th>\n      <th>merchant_rating</th>\n      <th>merchant_id</th>\n      <th>merchant_has_profile_picture</th>\n      <th>merchant_profile_picture</th>\n      <th>product_url</th>\n      <th>product_picture</th>\n      <th>product_id</th>\n      <th>theme</th>\n      <th>crawl_month</th>\n    </tr>\n  </thead>\n  <tbody>\n    <tr>\n      <th>0</th>\n      <td>2020 Summer Vintage Flamingo Print  Pajamas Se...</td>\n      <td>2020 Summer Vintage Flamingo Print  Pajamas Se...</td>\n      <td>16.0</td>\n      <td>14</td>\n      <td>EUR</td>\n      <td>100</td>\n      <td>0</td>\n      <td>3.76</td>\n      <td>54</td>\n      <td>26.0</td>\n      <td>...</td>\n      <td>568</td>\n      <td>4.128521</td>\n      <td>595097d6a26f6e070cb878d1</td>\n      <td>0</td>\n      <td>NaN</td>\n      <td>https://www.wish.com/c/5e9ae51d43d6a96e303acdb0</td>\n      <td>https://contestimg.wish.com/api/webimage/5e9ae...</td>\n      <td>5e9ae51d43d6a96e303acdb0</td>\n      <td>summer</td>\n      <td>2020-08</td>\n    </tr>\n    <tr>\n      <th>1</th>\n      <td>SSHOUSE Summer Casual Sleeveless Soirée Party ...</td>\n      <td>Women's Casual Summer Sleeveless Sexy Mini Dress</td>\n      <td>8.0</td>\n      <td>22</td>\n      <td>EUR</td>\n      <td>20000</td>\n      <td>1</td>\n      <td>3.45</td>\n      <td>6135</td>\n      <td>2269.0</td>\n      <td>...</td>\n      <td>17752</td>\n      <td>3.899673</td>\n      <td>56458aa03a698c35c9050988</td>\n      <td>0</td>\n      <td>NaN</td>\n      <td>https://www.wish.com/c/58940d436a0d3d5da4e95a38</td>\n      <td>https://contestimg.wish.com/api/webimage/58940...</td>\n      <td>58940d436a0d3d5da4e95a38</td>\n      <td>summer</td>\n      <td>2020-08</td>\n    </tr>\n    <tr>\n      <th>2</th>\n      <td>2020 Nouvelle Arrivée Femmes Printemps et Été ...</td>\n      <td>2020 New Arrival Women Spring and Summer Beach...</td>\n      <td>8.0</td>\n      <td>43</td>\n      <td>EUR</td>\n      <td>100</td>\n      <td>0</td>\n      <td>3.57</td>\n      <td>14</td>\n      <td>5.0</td>\n      <td>...</td>\n      <td>295</td>\n      <td>3.989831</td>\n      <td>5d464a1ffdf7bc44ee933c65</td>\n      <td>0</td>\n      <td>NaN</td>\n      <td>https://www.wish.com/c/5ea10e2c617580260d55310a</td>\n      <td>https://contestimg.wish.com/api/webimage/5ea10...</td>\n      <td>5ea10e2c617580260d55310a</td>\n      <td>summer</td>\n      <td>2020-08</td>\n    </tr>\n  </tbody>\n</table>\n<p>3 rows × 43 columns</p>\n</div>"
     },
     "metadata": {},
     "execution_count": 4
    }
   ],
   "source": [
    "dataset.head(3)"
   ]
  },
  {
   "cell_type": "code",
   "execution_count": 126,
   "id": "developed-butler",
   "metadata": {},
   "outputs": [
    {
     "name": "stdout",
     "output_type": "stream",
     "text": [
      "<class 'pandas.core.frame.DataFrame'>\n",
      "RangeIndex: 1573 entries, 0 to 1572\n",
      "Data columns (total 43 columns):\n",
      " #   Column                        Non-Null Count  Dtype  \n",
      "---  ------                        --------------  -----  \n",
      " 0   title                         1573 non-null   object \n",
      " 1   title_orig                    1573 non-null   object \n",
      " 2   price                         1573 non-null   float64\n",
      " 3   retail_price                  1573 non-null   int64  \n",
      " 4   currency_buyer                1573 non-null   object \n",
      " 5   units_sold                    1573 non-null   int64  \n",
      " 6   uses_ad_boosts                1573 non-null   int64  \n",
      " 7   rating                        1573 non-null   float64\n",
      " 8   rating_count                  1573 non-null   int64  \n",
      " 9   rating_five_count             1528 non-null   float64\n",
      " 10  rating_four_count             1528 non-null   float64\n",
      " 11  rating_three_count            1528 non-null   float64\n",
      " 12  rating_two_count              1528 non-null   float64\n",
      " 13  rating_one_count              1528 non-null   float64\n",
      " 14  badges_count                  1573 non-null   int64  \n",
      " 15  badge_local_product           1573 non-null   int64  \n",
      " 16  badge_product_quality         1573 non-null   int64  \n",
      " 17  badge_fast_shipping           1573 non-null   int64  \n",
      " 18  tags                          1573 non-null   object \n",
      " 19  product_color                 1532 non-null   object \n",
      " 20  product_variation_size_id     1559 non-null   object \n",
      " 21  product_variation_inventory   1573 non-null   int64  \n",
      " 22  shipping_option_name          1573 non-null   object \n",
      " 23  shipping_option_price         1573 non-null   int64  \n",
      " 24  shipping_is_express           1573 non-null   int64  \n",
      " 25  countries_shipped_to          1573 non-null   int64  \n",
      " 26  inventory_total               1573 non-null   int64  \n",
      " 27  has_urgency_banner            473 non-null    float64\n",
      " 28  urgency_text                  473 non-null    object \n",
      " 29  origin_country                1556 non-null   object \n",
      " 30  merchant_title                1573 non-null   object \n",
      " 31  merchant_name                 1569 non-null   object \n",
      " 32  merchant_info_subtitle        1572 non-null   object \n",
      " 33  merchant_rating_count         1573 non-null   int64  \n",
      " 34  merchant_rating               1573 non-null   float64\n",
      " 35  merchant_id                   1573 non-null   object \n",
      " 36  merchant_has_profile_picture  1573 non-null   int64  \n",
      " 37  merchant_profile_picture      226 non-null    object \n",
      " 38  product_url                   1573 non-null   object \n",
      " 39  product_picture               1573 non-null   object \n",
      " 40  product_id                    1573 non-null   object \n",
      " 41  theme                         1573 non-null   object \n",
      " 42  crawl_month                   1573 non-null   object \n",
      "dtypes: float64(9), int64(15), object(19)\n",
      "memory usage: 528.6+ KB\n"
     ]
    }
   ],
   "source": [
    "dataset.info()"
   ]
  },
  {
   "cell_type": "markdown",
   "id": "beautiful-clock",
   "metadata": {},
   "source": [
    "# DATA CLEANING"
   ]
  },
  {
   "cell_type": "markdown",
   "id": "logical-software",
   "metadata": {},
   "source": [
    "## inspecting features and removing useless ones"
   ]
  },
  {
   "cell_type": "code",
   "execution_count": 127,
   "id": "loaded-property",
   "metadata": {},
   "outputs": [],
   "source": [
    "# manipulation to dataset will be stored in data\n",
    "data = dataset.copy()"
   ]
  },
  {
   "cell_type": "code",
   "execution_count": 128,
   "id": "muslim-ireland",
   "metadata": {},
   "outputs": [
    {
     "data": {
      "text/plain": [
       "34"
      ]
     },
     "execution_count": 128,
     "metadata": {},
     "output_type": "execute_result"
    }
   ],
   "source": [
    "dup=data.duplicated()\n",
    "#dupes\n",
    "sum(dup)"
   ]
  },
  {
   "cell_type": "code",
   "execution_count": 129,
   "id": "broad-smooth",
   "metadata": {},
   "outputs": [],
   "source": [
    "data = data.drop_duplicates()"
   ]
  },
  {
   "cell_type": "code",
   "execution_count": 130,
   "id": "resistant-divide",
   "metadata": {},
   "outputs": [
    {
     "data": {
      "text/plain": [
       "1539"
      ]
     },
     "execution_count": 130,
     "metadata": {},
     "output_type": "execute_result"
    }
   ],
   "source": [
    "len(data)"
   ]
  },
  {
   "cell_type": "code",
   "execution_count": 131,
   "id": "endangered-allergy",
   "metadata": {},
   "outputs": [
    {
     "data": {
      "text/plain": [
       "title                              0\n",
       "title_orig                         0\n",
       "price                              0\n",
       "retail_price                       0\n",
       "currency_buyer                     0\n",
       "units_sold                         0\n",
       "uses_ad_boosts                     0\n",
       "rating                             0\n",
       "rating_count                       0\n",
       "rating_five_count                 43\n",
       "rating_four_count                 43\n",
       "rating_three_count                43\n",
       "rating_two_count                  43\n",
       "rating_one_count                  43\n",
       "badges_count                       0\n",
       "badge_local_product                0\n",
       "badge_product_quality              0\n",
       "badge_fast_shipping                0\n",
       "tags                               0\n",
       "product_color                     41\n",
       "product_variation_size_id         14\n",
       "product_variation_inventory        0\n",
       "shipping_option_name               0\n",
       "shipping_option_price              0\n",
       "shipping_is_express                0\n",
       "countries_shipped_to               0\n",
       "inventory_total                    0\n",
       "has_urgency_banner              1071\n",
       "urgency_text                    1071\n",
       "origin_country                    16\n",
       "merchant_title                     0\n",
       "merchant_name                      3\n",
       "merchant_info_subtitle             1\n",
       "merchant_rating_count              0\n",
       "merchant_rating                    0\n",
       "merchant_id                        0\n",
       "merchant_has_profile_picture       0\n",
       "merchant_profile_picture        1314\n",
       "product_url                        0\n",
       "product_picture                    0\n",
       "product_id                         0\n",
       "theme                              0\n",
       "crawl_month                        0\n",
       "dtype: int64"
      ]
     },
     "execution_count": 131,
     "metadata": {},
     "output_type": "execute_result"
    }
   ],
   "source": [
    "data.isnull().sum()"
   ]
  },
  {
   "cell_type": "markdown",
   "id": "initial-richmond",
   "metadata": {},
   "source": [
    "## removing features that have only one possible value"
   ]
  },
  {
   "cell_type": "code",
   "execution_count": 132,
   "id": "local-underwear",
   "metadata": {},
   "outputs": [
    {
     "name": "stdout",
     "output_type": "stream",
     "text": [
      "going to remove currency_buyer\n",
      "going to remove theme\n",
      "going to remove crawl_month\n"
     ]
    }
   ],
   "source": [
    "# removing features with one single possible value\n",
    "for feature in data.columns:\n",
    "    if len(data[feature].unique()) == 1:\n",
    "        print('going to remove {}'.format(feature))\n",
    "        data = data.drop(feature, axis=1)"
   ]
  },
  {
   "cell_type": "markdown",
   "id": "standard-count",
   "metadata": {},
   "source": [
    "## inspecting features one by one to decide which ones to start removing"
   ]
  },
  {
   "cell_type": "code",
   "execution_count": 133,
   "id": "shared-survival",
   "metadata": {},
   "outputs": [],
   "source": [
    "# # inspecting features one by one to start removing some of them\n",
    "# for feature in data.columns:\n",
    "#     a = input()\n",
    "#     if a == 'stop':\n",
    "#         break\n",
    "#     print(feature,'has',len(data[feature].unique()), 'unique values')\n",
    "#     print(list(data[feature].unique()[:10]))"
   ]
  },
  {
   "cell_type": "code",
   "execution_count": 134,
   "id": "fossil-diabetes",
   "metadata": {},
   "outputs": [],
   "source": [
    "to_remove = ['title', 'title_orig', 'merchant_profile_picture', 'merchant_name', 'merchant_id',\n",
    "             'product_url', 'product_picture', 'product_id', 'merchant_title', 'merchant_info_subtitle']\n",
    "\n",
    "data = data.drop(to_remove, axis=1)"
   ]
  },
  {
   "cell_type": "code",
   "execution_count": 135,
   "id": "revolutionary-soundtrack",
   "metadata": {},
   "outputs": [
    {
     "name": "stdout",
     "output_type": "stream",
     "text": [
      "13 features removed\n"
     ]
    }
   ],
   "source": [
    "print('{} features removed'.format(len(dataset.columns) - len(data.columns)))"
   ]
  },
  {
   "cell_type": "code",
   "execution_count": 136,
   "id": "miniature-nevada",
   "metadata": {},
   "outputs": [
    {
     "name": "stdout",
     "output_type": "stream",
     "text": [
      "<class 'pandas.core.frame.DataFrame'>\n",
      "Int64Index: 1539 entries, 0 to 1572\n",
      "Data columns (total 30 columns):\n",
      " #   Column                        Non-Null Count  Dtype  \n",
      "---  ------                        --------------  -----  \n",
      " 0   price                         1539 non-null   float64\n",
      " 1   retail_price                  1539 non-null   int64  \n",
      " 2   units_sold                    1539 non-null   int64  \n",
      " 3   uses_ad_boosts                1539 non-null   int64  \n",
      " 4   rating                        1539 non-null   float64\n",
      " 5   rating_count                  1539 non-null   int64  \n",
      " 6   rating_five_count             1496 non-null   float64\n",
      " 7   rating_four_count             1496 non-null   float64\n",
      " 8   rating_three_count            1496 non-null   float64\n",
      " 9   rating_two_count              1496 non-null   float64\n",
      " 10  rating_one_count              1496 non-null   float64\n",
      " 11  badges_count                  1539 non-null   int64  \n",
      " 12  badge_local_product           1539 non-null   int64  \n",
      " 13  badge_product_quality         1539 non-null   int64  \n",
      " 14  badge_fast_shipping           1539 non-null   int64  \n",
      " 15  tags                          1539 non-null   object \n",
      " 16  product_color                 1498 non-null   object \n",
      " 17  product_variation_size_id     1525 non-null   object \n",
      " 18  product_variation_inventory   1539 non-null   int64  \n",
      " 19  shipping_option_name          1539 non-null   object \n",
      " 20  shipping_option_price         1539 non-null   int64  \n",
      " 21  shipping_is_express           1539 non-null   int64  \n",
      " 22  countries_shipped_to          1539 non-null   int64  \n",
      " 23  inventory_total               1539 non-null   int64  \n",
      " 24  has_urgency_banner            468 non-null    float64\n",
      " 25  urgency_text                  468 non-null    object \n",
      " 26  origin_country                1523 non-null   object \n",
      " 27  merchant_rating_count         1539 non-null   int64  \n",
      " 28  merchant_rating               1539 non-null   float64\n",
      " 29  merchant_has_profile_picture  1539 non-null   int64  \n",
      "dtypes: float64(9), int64(15), object(6)\n",
      "memory usage: 372.7+ KB\n"
     ]
    }
   ],
   "source": [
    "data.info()\n",
    "#data.dtypes"
   ]
  },
  {
   "cell_type": "code",
   "execution_count": 137,
   "id": "bacterial-wisconsin",
   "metadata": {},
   "outputs": [],
   "source": [
    "# separating categorical and numerical features\n",
    "\n",
    "categorical = []\n",
    "numerical = []\n",
    "\n",
    "for f in data.columns:\n",
    "    if data[f].dtype == 'object':\n",
    "        categorical.append(f)\n",
    "    else:\n",
    "        numerical.append(f)    "
   ]
  },
  {
   "cell_type": "code",
   "execution_count": 138,
   "id": "dimensional-robert",
   "metadata": {},
   "outputs": [
    {
     "name": "stdout",
     "output_type": "stream",
     "text": [
      "numerical feature:\n",
      "['price', 'retail_price', 'units_sold', 'uses_ad_boosts', 'rating', 'rating_count', 'rating_five_count', 'rating_four_count', 'rating_three_count', 'rating_two_count', 'rating_one_count', 'badges_count', 'badge_local_product', 'badge_product_quality', 'badge_fast_shipping', 'product_variation_inventory', 'shipping_option_price', 'shipping_is_express', 'countries_shipped_to', 'inventory_total', 'has_urgency_banner', 'merchant_rating_count', 'merchant_rating', 'merchant_has_profile_picture']\n",
      "\n",
      "categorical feature:\n",
      "['tags', 'product_color', 'product_variation_size_id', 'shipping_option_name', 'urgency_text', 'origin_country']\n"
     ]
    }
   ],
   "source": [
    "print('numerical feature:\\n{}'.format(numerical))\n",
    "print()\n",
    "print('categorical feature:\\n{}'.format(categorical))"
   ]
  },
  {
   "cell_type": "code",
   "execution_count": 139,
   "id": "peripheral-fetish",
   "metadata": {},
   "outputs": [],
   "source": [
    "def inspect_feature(data, f):  # custom function to inspect single feature\n",
    "    print('{} has {} unique categories'.format(f, len(data[f].unique())))\n",
    "    print('{}'.format(data[f].unique()))"
   ]
  },
  {
   "cell_type": "code",
   "execution_count": 140,
   "id": "numeric-classroom",
   "metadata": {},
   "outputs": [],
   "source": [
    "# f = input('enter feature: ')\n",
    "# inspect_feature(data, f)"
   ]
  },
  {
   "cell_type": "code",
   "execution_count": 141,
   "id": "downtown-arnold",
   "metadata": {
    "scrolled": true
   },
   "outputs": [],
   "source": [
    "# data['units_sold'].value_counts()"
   ]
  },
  {
   "cell_type": "code",
   "execution_count": 142,
   "id": "incredible-professor",
   "metadata": {},
   "outputs": [
    {
     "data": {
      "text/html": [
       "<div>\n",
       "<style scoped>\n",
       "    .dataframe tbody tr th:only-of-type {\n",
       "        vertical-align: middle;\n",
       "    }\n",
       "\n",
       "    .dataframe tbody tr th {\n",
       "        vertical-align: top;\n",
       "    }\n",
       "\n",
       "    .dataframe thead th {\n",
       "        text-align: right;\n",
       "    }\n",
       "</style>\n",
       "<table border=\"1\" class=\"dataframe\">\n",
       "  <thead>\n",
       "    <tr style=\"text-align: right;\">\n",
       "      <th></th>\n",
       "      <th>price</th>\n",
       "      <th>retail_price</th>\n",
       "      <th>units_sold</th>\n",
       "      <th>uses_ad_boosts</th>\n",
       "      <th>rating</th>\n",
       "      <th>rating_count</th>\n",
       "      <th>rating_five_count</th>\n",
       "      <th>rating_four_count</th>\n",
       "      <th>rating_three_count</th>\n",
       "      <th>rating_two_count</th>\n",
       "      <th>...</th>\n",
       "      <th>badge_fast_shipping</th>\n",
       "      <th>product_variation_inventory</th>\n",
       "      <th>shipping_option_price</th>\n",
       "      <th>shipping_is_express</th>\n",
       "      <th>countries_shipped_to</th>\n",
       "      <th>inventory_total</th>\n",
       "      <th>has_urgency_banner</th>\n",
       "      <th>merchant_rating_count</th>\n",
       "      <th>merchant_rating</th>\n",
       "      <th>merchant_has_profile_picture</th>\n",
       "    </tr>\n",
       "  </thead>\n",
       "  <tbody>\n",
       "    <tr>\n",
       "      <th>count</th>\n",
       "      <td>1539.0</td>\n",
       "      <td>1539.0</td>\n",
       "      <td>1539.0</td>\n",
       "      <td>1539.0</td>\n",
       "      <td>1539.0</td>\n",
       "      <td>1539.0</td>\n",
       "      <td>1496.0</td>\n",
       "      <td>1496.0</td>\n",
       "      <td>1496.0</td>\n",
       "      <td>1496.0</td>\n",
       "      <td>...</td>\n",
       "      <td>1539.0</td>\n",
       "      <td>1539.0</td>\n",
       "      <td>1539.0</td>\n",
       "      <td>1539.0</td>\n",
       "      <td>1539.0</td>\n",
       "      <td>1539.0</td>\n",
       "      <td>468.0</td>\n",
       "      <td>1539.0</td>\n",
       "      <td>1539.0</td>\n",
       "      <td>1539.0</td>\n",
       "    </tr>\n",
       "    <tr>\n",
       "      <th>mean</th>\n",
       "      <td>8.0</td>\n",
       "      <td>23.0</td>\n",
       "      <td>4422.0</td>\n",
       "      <td>0.0</td>\n",
       "      <td>4.0</td>\n",
       "      <td>907.0</td>\n",
       "      <td>451.0</td>\n",
       "      <td>183.0</td>\n",
       "      <td>137.0</td>\n",
       "      <td>65.0</td>\n",
       "      <td>...</td>\n",
       "      <td>0.0</td>\n",
       "      <td>33.0</td>\n",
       "      <td>2.0</td>\n",
       "      <td>0.0</td>\n",
       "      <td>40.0</td>\n",
       "      <td>50.0</td>\n",
       "      <td>1.0</td>\n",
       "      <td>26772.0</td>\n",
       "      <td>4.0</td>\n",
       "      <td>0.0</td>\n",
       "    </tr>\n",
       "    <tr>\n",
       "      <th>std</th>\n",
       "      <td>4.0</td>\n",
       "      <td>30.0</td>\n",
       "      <td>9438.0</td>\n",
       "      <td>0.0</td>\n",
       "      <td>1.0</td>\n",
       "      <td>2002.0</td>\n",
       "      <td>989.0</td>\n",
       "      <td>404.0</td>\n",
       "      <td>314.0</td>\n",
       "      <td>153.0</td>\n",
       "      <td>...</td>\n",
       "      <td>0.0</td>\n",
       "      <td>21.0</td>\n",
       "      <td>1.0</td>\n",
       "      <td>0.0</td>\n",
       "      <td>20.0</td>\n",
       "      <td>3.0</td>\n",
       "      <td>0.0</td>\n",
       "      <td>79191.0</td>\n",
       "      <td>0.0</td>\n",
       "      <td>0.0</td>\n",
       "    </tr>\n",
       "    <tr>\n",
       "      <th>min</th>\n",
       "      <td>1.0</td>\n",
       "      <td>1.0</td>\n",
       "      <td>1.0</td>\n",
       "      <td>0.0</td>\n",
       "      <td>1.0</td>\n",
       "      <td>0.0</td>\n",
       "      <td>0.0</td>\n",
       "      <td>0.0</td>\n",
       "      <td>0.0</td>\n",
       "      <td>0.0</td>\n",
       "      <td>...</td>\n",
       "      <td>0.0</td>\n",
       "      <td>1.0</td>\n",
       "      <td>1.0</td>\n",
       "      <td>0.0</td>\n",
       "      <td>6.0</td>\n",
       "      <td>1.0</td>\n",
       "      <td>1.0</td>\n",
       "      <td>0.0</td>\n",
       "      <td>2.0</td>\n",
       "      <td>0.0</td>\n",
       "    </tr>\n",
       "    <tr>\n",
       "      <th>25%</th>\n",
       "      <td>6.0</td>\n",
       "      <td>7.0</td>\n",
       "      <td>100.0</td>\n",
       "      <td>0.0</td>\n",
       "      <td>4.0</td>\n",
       "      <td>26.0</td>\n",
       "      <td>13.0</td>\n",
       "      <td>5.0</td>\n",
       "      <td>4.0</td>\n",
       "      <td>2.0</td>\n",
       "      <td>...</td>\n",
       "      <td>0.0</td>\n",
       "      <td>7.0</td>\n",
       "      <td>2.0</td>\n",
       "      <td>0.0</td>\n",
       "      <td>31.0</td>\n",
       "      <td>50.0</td>\n",
       "      <td>1.0</td>\n",
       "      <td>2052.0</td>\n",
       "      <td>4.0</td>\n",
       "      <td>0.0</td>\n",
       "    </tr>\n",
       "    <tr>\n",
       "      <th>50%</th>\n",
       "      <td>8.0</td>\n",
       "      <td>10.0</td>\n",
       "      <td>1000.0</td>\n",
       "      <td>0.0</td>\n",
       "      <td>4.0</td>\n",
       "      <td>161.0</td>\n",
       "      <td>84.0</td>\n",
       "      <td>33.0</td>\n",
       "      <td>26.0</td>\n",
       "      <td>12.0</td>\n",
       "      <td>...</td>\n",
       "      <td>0.0</td>\n",
       "      <td>50.0</td>\n",
       "      <td>2.0</td>\n",
       "      <td>0.0</td>\n",
       "      <td>40.0</td>\n",
       "      <td>50.0</td>\n",
       "      <td>1.0</td>\n",
       "      <td>8197.0</td>\n",
       "      <td>4.0</td>\n",
       "      <td>0.0</td>\n",
       "    </tr>\n",
       "    <tr>\n",
       "      <th>75%</th>\n",
       "      <td>11.0</td>\n",
       "      <td>26.0</td>\n",
       "      <td>5000.0</td>\n",
       "      <td>1.0</td>\n",
       "      <td>4.0</td>\n",
       "      <td>873.0</td>\n",
       "      <td>431.0</td>\n",
       "      <td>171.0</td>\n",
       "      <td>134.0</td>\n",
       "      <td>64.0</td>\n",
       "      <td>...</td>\n",
       "      <td>0.0</td>\n",
       "      <td>50.0</td>\n",
       "      <td>3.0</td>\n",
       "      <td>0.0</td>\n",
       "      <td>43.0</td>\n",
       "      <td>50.0</td>\n",
       "      <td>1.0</td>\n",
       "      <td>24564.0</td>\n",
       "      <td>4.0</td>\n",
       "      <td>0.0</td>\n",
       "    </tr>\n",
       "    <tr>\n",
       "      <th>max</th>\n",
       "      <td>49.0</td>\n",
       "      <td>252.0</td>\n",
       "      <td>100000.0</td>\n",
       "      <td>1.0</td>\n",
       "      <td>5.0</td>\n",
       "      <td>20744.0</td>\n",
       "      <td>11548.0</td>\n",
       "      <td>4152.0</td>\n",
       "      <td>3658.0</td>\n",
       "      <td>2003.0</td>\n",
       "      <td>...</td>\n",
       "      <td>1.0</td>\n",
       "      <td>50.0</td>\n",
       "      <td>12.0</td>\n",
       "      <td>1.0</td>\n",
       "      <td>140.0</td>\n",
       "      <td>50.0</td>\n",
       "      <td>1.0</td>\n",
       "      <td>2174765.0</td>\n",
       "      <td>5.0</td>\n",
       "      <td>1.0</td>\n",
       "    </tr>\n",
       "  </tbody>\n",
       "</table>\n",
       "<p>8 rows × 24 columns</p>\n",
       "</div>"
      ],
      "text/plain": [
       "        price  retail_price  units_sold  uses_ad_boosts  rating  rating_count  \\\n",
       "count  1539.0        1539.0      1539.0          1539.0  1539.0        1539.0   \n",
       "mean      8.0          23.0      4422.0             0.0     4.0         907.0   \n",
       "std       4.0          30.0      9438.0             0.0     1.0        2002.0   \n",
       "min       1.0           1.0         1.0             0.0     1.0           0.0   \n",
       "25%       6.0           7.0       100.0             0.0     4.0          26.0   \n",
       "50%       8.0          10.0      1000.0             0.0     4.0         161.0   \n",
       "75%      11.0          26.0      5000.0             1.0     4.0         873.0   \n",
       "max      49.0         252.0    100000.0             1.0     5.0       20744.0   \n",
       "\n",
       "       rating_five_count  rating_four_count  rating_three_count  \\\n",
       "count             1496.0             1496.0              1496.0   \n",
       "mean               451.0              183.0               137.0   \n",
       "std                989.0              404.0               314.0   \n",
       "min                  0.0                0.0                 0.0   \n",
       "25%                 13.0                5.0                 4.0   \n",
       "50%                 84.0               33.0                26.0   \n",
       "75%                431.0              171.0               134.0   \n",
       "max              11548.0             4152.0              3658.0   \n",
       "\n",
       "       rating_two_count  ...  badge_fast_shipping  \\\n",
       "count            1496.0  ...               1539.0   \n",
       "mean               65.0  ...                  0.0   \n",
       "std               153.0  ...                  0.0   \n",
       "min                 0.0  ...                  0.0   \n",
       "25%                 2.0  ...                  0.0   \n",
       "50%                12.0  ...                  0.0   \n",
       "75%                64.0  ...                  0.0   \n",
       "max              2003.0  ...                  1.0   \n",
       "\n",
       "       product_variation_inventory  shipping_option_price  \\\n",
       "count                       1539.0                 1539.0   \n",
       "mean                          33.0                    2.0   \n",
       "std                           21.0                    1.0   \n",
       "min                            1.0                    1.0   \n",
       "25%                            7.0                    2.0   \n",
       "50%                           50.0                    2.0   \n",
       "75%                           50.0                    3.0   \n",
       "max                           50.0                   12.0   \n",
       "\n",
       "       shipping_is_express  countries_shipped_to  inventory_total  \\\n",
       "count               1539.0                1539.0           1539.0   \n",
       "mean                   0.0                  40.0             50.0   \n",
       "std                    0.0                  20.0              3.0   \n",
       "min                    0.0                   6.0              1.0   \n",
       "25%                    0.0                  31.0             50.0   \n",
       "50%                    0.0                  40.0             50.0   \n",
       "75%                    0.0                  43.0             50.0   \n",
       "max                    1.0                 140.0             50.0   \n",
       "\n",
       "       has_urgency_banner  merchant_rating_count  merchant_rating  \\\n",
       "count               468.0                 1539.0           1539.0   \n",
       "mean                  1.0                26772.0              4.0   \n",
       "std                   0.0                79191.0              0.0   \n",
       "min                   1.0                    0.0              2.0   \n",
       "25%                   1.0                 2052.0              4.0   \n",
       "50%                   1.0                 8197.0              4.0   \n",
       "75%                   1.0                24564.0              4.0   \n",
       "max                   1.0              2174765.0              5.0   \n",
       "\n",
       "       merchant_has_profile_picture  \n",
       "count                        1539.0  \n",
       "mean                            0.0  \n",
       "std                             0.0  \n",
       "min                             0.0  \n",
       "25%                             0.0  \n",
       "50%                             0.0  \n",
       "75%                             0.0  \n",
       "max                             1.0  \n",
       "\n",
       "[8 rows x 24 columns]"
      ]
     },
     "execution_count": 142,
     "metadata": {},
     "output_type": "execute_result"
    }
   ],
   "source": [
    "round(data.describe())"
   ]
  },
  {
   "cell_type": "code",
   "execution_count": 143,
   "id": "cheap-footage",
   "metadata": {},
   "outputs": [],
   "source": [
    "# %matplotlib inline\n",
    "# data[numerical].hist(bins=50, figsize=(20,15));"
   ]
  },
  {
   "cell_type": "markdown",
   "id": "demanding-latter",
   "metadata": {},
   "source": [
    "### removing features with too much imbalance between categories\n",
    "decision based on the previous histograms"
   ]
  },
  {
   "cell_type": "code",
   "execution_count": 144,
   "id": "cheap-indian",
   "metadata": {},
   "outputs": [
    {
     "data": {
      "text/plain": [
       "0    1535\n",
       "1       4\n",
       "Name: shipping_is_express, dtype: int64"
      ]
     },
     "execution_count": 144,
     "metadata": {},
     "output_type": "execute_result"
    }
   ],
   "source": [
    "data['shipping_is_express'].value_counts()"
   ]
  },
  {
   "cell_type": "code",
   "execution_count": 145,
   "id": "intermediate-tampa",
   "metadata": {},
   "outputs": [
    {
     "data": {
      "text/plain": [
       "50    1529\n",
       "2        2\n",
       "1        1\n",
       "9        1\n",
       "24       1\n",
       "30       1\n",
       "36       1\n",
       "37       1\n",
       "38       1\n",
       "40       1\n",
       "Name: inventory_total, dtype: int64"
      ]
     },
     "execution_count": 145,
     "metadata": {},
     "output_type": "execute_result"
    }
   ],
   "source": [
    "data['inventory_total'].value_counts()"
   ]
  },
  {
   "cell_type": "code",
   "execution_count": 146,
   "id": "integrated-village",
   "metadata": {},
   "outputs": [],
   "source": [
    "to_remove = ['shipping_is_express', 'inventory_total']"
   ]
  },
  {
   "cell_type": "code",
   "execution_count": 147,
   "id": "geographic-superintendent",
   "metadata": {},
   "outputs": [],
   "source": [
    "data = data.drop(to_remove, axis=1)"
   ]
  },
  {
   "cell_type": "code",
   "execution_count": 148,
   "id": "dirty-gallery",
   "metadata": {},
   "outputs": [
    {
     "data": {
      "text/plain": [
       "['price',\n",
       " 'retail_price',\n",
       " 'units_sold',\n",
       " 'uses_ad_boosts',\n",
       " 'rating',\n",
       " 'rating_count',\n",
       " 'rating_five_count',\n",
       " 'rating_four_count',\n",
       " 'rating_three_count',\n",
       " 'rating_two_count',\n",
       " 'rating_one_count',\n",
       " 'badges_count',\n",
       " 'badge_local_product',\n",
       " 'badge_product_quality',\n",
       " 'badge_fast_shipping',\n",
       " 'product_variation_inventory',\n",
       " 'shipping_option_price',\n",
       " 'countries_shipped_to',\n",
       " 'has_urgency_banner',\n",
       " 'merchant_rating_count',\n",
       " 'merchant_rating',\n",
       " 'merchant_has_profile_picture']"
      ]
     },
     "execution_count": 148,
     "metadata": {},
     "output_type": "execute_result"
    }
   ],
   "source": [
    "numerical = [f for f in numerical if f not in to_remove]\n",
    "numerical"
   ]
  },
  {
   "cell_type": "code",
   "execution_count": 149,
   "id": "impressed-shade",
   "metadata": {},
   "outputs": [],
   "source": [
    "# %matplotlib inline\n",
    "# data[numerical].hist(bins=50, figsize=(20,15));"
   ]
  },
  {
   "cell_type": "markdown",
   "id": "moving-monthly",
   "metadata": {},
   "source": [
    "## setting label and seeking correlations"
   ]
  },
  {
   "cell_type": "code",
   "execution_count": 150,
   "id": "declared-carbon",
   "metadata": {},
   "outputs": [],
   "source": [
    "label = 'units_sold'\n",
    "corr_matrix = data.corr()"
   ]
  },
  {
   "cell_type": "markdown",
   "id": "civilian-season",
   "metadata": {},
   "source": [
    "## looking at moderate-to-strong correlations\n",
    "only including in correlation matrix those features that have at least one 0.3+ correlation with another feature"
   ]
  },
  {
   "cell_type": "code",
   "execution_count": 151,
   "id": "artistic-piano",
   "metadata": {
    "scrolled": false
   },
   "outputs": [],
   "source": [
    "feature_for_corr_matrix = []\n",
    "\n",
    "for f in corr_matrix:\n",
    "    if True in ((abs(x) >= 0.3 and abs(x) != 1) for x in corr_matrix[f].values):\n",
    "        feature_for_corr_matrix.append(f)\n",
    "\n",
    "# reduced_corr_matrix = data[feature_for_corr_matrix].corr()\n",
    "\n",
    "# plt.figure(figsize=(20,10))\n",
    "# sns.heatmap(reduced_corr_matrix, annot=True, cmap='Dark2_r', linewidths=2);"
   ]
  },
  {
   "cell_type": "markdown",
   "id": "impossible-contact",
   "metadata": {},
   "source": [
    "## closer look at correlations with label"
   ]
  },
  {
   "cell_type": "code",
   "execution_count": 152,
   "id": "noticed-italy",
   "metadata": {},
   "outputs": [],
   "source": [
    "# plt.figure(figsize=(8, 12))\n",
    "# heatmap = sns.heatmap(corr_matrix[[label]].sort_values(by=label, ascending=False), vmin=-1, vmax=1, annot=True, cmap='BrBG')\n",
    "# heatmap.set_title(f'Correlations with {label}', fontdict={'fontsize':18}, pad=16);"
   ]
  },
  {
   "cell_type": "code",
   "execution_count": 153,
   "id": "specialized-brass",
   "metadata": {},
   "outputs": [
    {
     "data": {
      "image/png": "[encoded data removed]",
      "text/plain": [
       "<Figure size 432x288 with 1 Axes>"
      ]
     },
     "metadata": {
      "needs_background": "light"
     },
     "output_type": "display_data"
    }
   ],
   "source": [
    "data.plot(kind=\"scatter\", x=\"rating_count\", y=\"units_sold\");"
   ]
  },
  {
   "cell_type": "markdown",
   "id": "persistent-press",
   "metadata": {},
   "source": [
    "## processing categorical features"
   ]
  },
  {
   "cell_type": "code",
   "execution_count": 154,
   "id": "tropical-perception",
   "metadata": {},
   "outputs": [
    {
     "name": "stdout",
     "output_type": "stream",
     "text": [
      "tags\n",
      "product_color\n",
      "product_variation_size_id\n",
      "shipping_option_name\n",
      "urgency_text\n",
      "origin_country\n"
     ]
    }
   ],
   "source": [
    "for f in categorical:\n",
    "    print(f)"
   ]
  },
  {
   "cell_type": "markdown",
   "id": "steady-interest",
   "metadata": {},
   "source": [
    "## <span style='color:blue'>product_color</span>"
   ]
  },
  {
   "cell_type": "code",
   "execution_count": 155,
   "id": "loose-couple",
   "metadata": {},
   "outputs": [
    {
     "data": {
      "text/plain": [
       "array(['white', 'green', 'leopardprint', 'black', 'yellow', 'navyblue',\n",
       "       'blue', 'beige', 'grey', 'lightblue', 'orange', 'red', 'Black',\n",
       "       'armygreen', nan, 'pink', 'khaki', 'red & blue', 'blue & pink',\n",
       "       'RED', 'white & green', 'winered', 'black & green', 'purple',\n",
       "       'whitefloral', 'floral', 'fluorescentgreen', 'orange & camouflage',\n",
       "       'lightyellow', 'coolblack', 'multicolor', 'camouflage',\n",
       "       'lightpink', 'pink & black', 'silver', 'Army green', 'lightgreen',\n",
       "       'mintgreen', 'pink & grey', 'gray', 'coffee', 'rose',\n",
       "       'light green', 'leopard', 'black & white', 'orange-red',\n",
       "       'dustypink', 'White', 'star', 'white & black', 'apricot',\n",
       "       'skyblue', 'burgundy', 'claret', 'pink & white', 'rosered', 'tan',\n",
       "       'navy blue', 'wine red', 'lightred', 'Pink', 'coralred', 'brown',\n",
       "       'lakeblue', 'darkblue', 'camel', 'pink & blue', 'nude', 'Blue',\n",
       "       'lightpurple', 'army', 'black & stripe', 'Rose red',\n",
       "       'greysnakeskinprint', 'denimblue', 'applegreen', 'offwhite',\n",
       "       'lightgray', 'navy', 'gray & white', 'brown & yellow',\n",
       "       'winered & yellow', 'army green', 'whitestripe', 'rainbow',\n",
       "       'lightgrey', 'watermelonred', 'prussianblue', 'navyblue & white',\n",
       "       'white & red', 'wine', 'ivory', 'black & yellow', 'jasper',\n",
       "       'lightkhaki', 'offblack', 'violet', 'black & blue', 'blackwhite',\n",
       "       'darkgreen', 'rosegold', 'gold'], dtype=object)"
      ]
     },
     "execution_count": 155,
     "metadata": {},
     "output_type": "execute_result"
    }
   ],
   "source": [
    "all_colors = data['product_color'].unique()\n",
    "all_colors"
   ]
  },
  {
   "cell_type": "code",
   "execution_count": 156,
   "id": "dress-cologne",
   "metadata": {},
   "outputs": [],
   "source": [
    "data['product_color'] = data['product_color'].str.lower()  # all colors written in lowercase"
   ]
  },
  {
   "cell_type": "code",
   "execution_count": 157,
   "id": "changing-interstate",
   "metadata": {},
   "outputs": [
    {
     "data": {
      "text/plain": [
       "['red & blue',\n",
       " 'blue & pink',\n",
       " 'white & green',\n",
       " 'black & green',\n",
       " 'orange & camouflage',\n",
       " 'pink & black',\n",
       " 'pink & grey',\n",
       " 'black & white',\n",
       " 'white & black',\n",
       " 'pink & white',\n",
       " 'pink & blue',\n",
       " 'black & stripe',\n",
       " 'gray & white',\n",
       " 'brown & yellow',\n",
       " 'winered & yellow',\n",
       " 'navyblue & white',\n",
       " 'white & red',\n",
       " 'black & yellow',\n",
       " 'black & blue']"
      ]
     },
     "execution_count": 157,
     "metadata": {},
     "output_type": "execute_result"
    }
   ],
   "source": [
    "# getting values which contains an &\n",
    "dual_color = [el for el in all_colors if str(el).__contains__('&')]\n",
    "dual_color"
   ]
  },
  {
   "cell_type": "code",
   "execution_count": 158,
   "id": "august-airline",
   "metadata": {},
   "outputs": [
    {
     "data": {
      "text/plain": [
       "['white',\n",
       " 'green',\n",
       " 'leopardprint',\n",
       " 'black',\n",
       " 'yellow',\n",
       " 'navyblue',\n",
       " 'blue',\n",
       " 'beige',\n",
       " 'grey',\n",
       " 'lightblue',\n",
       " 'orange',\n",
       " 'red',\n",
       " 'Black',\n",
       " 'armygreen',\n",
       " nan,\n",
       " 'pink',\n",
       " 'khaki',\n",
       " 'RED',\n",
       " 'winered',\n",
       " 'purple',\n",
       " 'whitefloral',\n",
       " 'floral',\n",
       " 'fluorescentgreen',\n",
       " 'lightyellow',\n",
       " 'coolblack',\n",
       " 'multicolor',\n",
       " 'camouflage',\n",
       " 'lightpink',\n",
       " 'silver',\n",
       " 'Army green',\n",
       " 'lightgreen',\n",
       " 'mintgreen',\n",
       " 'gray',\n",
       " 'coffee',\n",
       " 'rose',\n",
       " 'light green',\n",
       " 'leopard',\n",
       " 'orange-red',\n",
       " 'dustypink',\n",
       " 'White',\n",
       " 'star',\n",
       " 'apricot',\n",
       " 'skyblue',\n",
       " 'burgundy',\n",
       " 'claret',\n",
       " 'rosered',\n",
       " 'tan',\n",
       " 'navy blue',\n",
       " 'wine red',\n",
       " 'lightred',\n",
       " 'Pink',\n",
       " 'coralred',\n",
       " 'brown',\n",
       " 'lakeblue',\n",
       " 'darkblue',\n",
       " 'camel',\n",
       " 'nude',\n",
       " 'Blue',\n",
       " 'lightpurple',\n",
       " 'army',\n",
       " 'Rose red',\n",
       " 'greysnakeskinprint',\n",
       " 'denimblue',\n",
       " 'applegreen',\n",
       " 'offwhite',\n",
       " 'lightgray',\n",
       " 'navy',\n",
       " 'army green',\n",
       " 'whitestripe',\n",
       " 'rainbow',\n",
       " 'lightgrey',\n",
       " 'watermelonred',\n",
       " 'prussianblue',\n",
       " 'wine',\n",
       " 'ivory',\n",
       " 'jasper',\n",
       " 'lightkhaki',\n",
       " 'offblack',\n",
       " 'violet',\n",
       " 'blackwhite',\n",
       " 'darkgreen',\n",
       " 'rosegold',\n",
       " 'gold']"
      ]
     },
     "execution_count": 158,
     "metadata": {},
     "output_type": "execute_result"
    }
   ],
   "source": [
    "# getting all single colors\n",
    "single_color = [el for el in all_colors if el not in dual_color]\n",
    "single_color"
   ]
  },
  {
   "cell_type": "code",
   "execution_count": 159,
   "id": "rental-abraham",
   "metadata": {},
   "outputs": [],
   "source": [
    "# # creating own table of colors iteratively and quickly\n",
    "\n",
    "# colors_table = {}\n",
    "\n",
    "# for color in single_color:\n",
    "#     print(color)\n",
    "#     new_color = input('associate to one color: ')\n",
    "#     if new_color != '':\n",
    "#         colors_table[color] = new_color\n",
    "#     print()\n",
    "\n",
    "# colors_table"
   ]
  },
  {
   "cell_type": "code",
   "execution_count": 160,
   "id": "functional-nitrogen",
   "metadata": {},
   "outputs": [],
   "source": [
    "reduced_colors = {'white': 'white',\n",
    " 'green': 'green',\n",
    " 'leopardprint': 'leopardprint',\n",
    " 'black': 'black',\n",
    " 'yellow': 'yellow',\n",
    " 'navyblue': 'blue',\n",
    " 'blue': 'blue',\n",
    " 'beige': 'brown',\n",
    " 'grey': 'grey',\n",
    " 'lightblue': 'blue',\n",
    " 'orange': 'orange',\n",
    " 'red': 'red',\n",
    " 'Black': 'black',\n",
    " 'armygreen': 'green',\n",
    " 'pink': 'pink',\n",
    " 'khaki': 'green',\n",
    " 'RED': 'red',\n",
    " 'winered': 'red',\n",
    " 'purple': 'purple',\n",
    " 'whitefloral': 'white',\n",
    " 'floral': 'floral',\n",
    " 'fluorescentgreen': 'green',\n",
    " 'lightyellow': 'yellow',\n",
    " 'coolblack': 'black',\n",
    " 'multicolor': 'multicolor',\n",
    " 'camouflage': 'green',\n",
    " 'lightpink': 'pink',\n",
    " 'silver': 'grey',\n",
    " 'Army green': 'green',\n",
    " 'lightgreen': 'green',\n",
    " 'mintgreen': 'green',\n",
    " 'gray': 'grey',\n",
    " 'coffee': 'brown',\n",
    " 'rose': 'pink',\n",
    " 'light green': 'green',\n",
    " 'leopard': 'leopardprint',\n",
    " 'orange-red': 'red',\n",
    " 'dustypink': 'pink',\n",
    " 'White': 'white',\n",
    " 'star': 'yellow',\n",
    " 'apricot': 'orange',\n",
    " 'skyblue': 'blue',\n",
    " 'burgundy': 'red',\n",
    " 'claret': 'red',\n",
    " 'rosered': 'red',\n",
    " 'tan': 'brown',\n",
    " 'navy blue': 'blue',\n",
    " 'wine red': 'red',\n",
    " 'lightred': 'red',\n",
    " 'Pink': 'pink',\n",
    " 'coralred': 'red',\n",
    " 'brown': 'brown',\n",
    " 'lakeblue': 'blue',\n",
    " 'darkblue': 'blue',\n",
    " 'camel': 'brown',\n",
    " 'nude': 'pink',\n",
    " 'Blue': 'blue',\n",
    " 'lightpurple': 'purple',\n",
    " 'army': 'green',\n",
    " 'Rose red': 'red',\n",
    " 'greysnakeskinprint': 'grey',\n",
    " 'denimblue': 'blue',\n",
    " 'applegreen': 'green',\n",
    " 'offwhite': 'white',\n",
    " 'lightgray': 'grey',\n",
    " 'navy': 'blue',\n",
    " 'army green': 'green',\n",
    " 'whitestripe': 'white',\n",
    " 'rainbow': 'multicolor',\n",
    " 'lightgrey': 'grey',\n",
    " 'watermelonred': 'red',\n",
    " 'prussianblue': 'blue',\n",
    " 'wine': 'red',\n",
    " 'ivory': 'yellow',\n",
    " 'jasper': 'red',\n",
    " 'lightkhaki': 'green',\n",
    " 'offblack': 'black',\n",
    " 'violet': 'purple',\n",
    " 'blackwhite': 'white',\n",
    " 'darkgreen': 'green',\n",
    " 'rosegold': 'pink',\n",
    " 'gold': 'yellow'}"
   ]
  },
  {
   "cell_type": "code",
   "execution_count": 161,
   "id": "rising-albuquerque",
   "metadata": {},
   "outputs": [],
   "source": [
    "for el in dual_color:\n",
    "    reduced_colors[el] = 'multicolor'  # all values which contain an & will be assigned as multicolor"
   ]
  },
  {
   "cell_type": "code",
   "execution_count": 162,
   "id": "foreign-energy",
   "metadata": {},
   "outputs": [
    {
     "data": {
      "text/plain": [
       "{'white': 'white',\n",
       " 'green': 'green',\n",
       " 'leopardprint': 'leopardprint',\n",
       " 'black': 'black',\n",
       " 'yellow': 'yellow',\n",
       " 'navyblue': 'blue',\n",
       " 'blue': 'blue',\n",
       " 'beige': 'brown',\n",
       " 'grey': 'grey',\n",
       " 'lightblue': 'blue',\n",
       " 'orange': 'orange',\n",
       " 'red': 'red',\n",
       " 'Black': 'black',\n",
       " 'armygreen': 'green',\n",
       " 'pink': 'pink',\n",
       " 'khaki': 'green',\n",
       " 'RED': 'red',\n",
       " 'winered': 'red',\n",
       " 'purple': 'purple',\n",
       " 'whitefloral': 'white',\n",
       " 'floral': 'floral',\n",
       " 'fluorescentgreen': 'green',\n",
       " 'lightyellow': 'yellow',\n",
       " 'coolblack': 'black',\n",
       " 'multicolor': 'multicolor',\n",
       " 'camouflage': 'green',\n",
       " 'lightpink': 'pink',\n",
       " 'silver': 'grey',\n",
       " 'Army green': 'green',\n",
       " 'lightgreen': 'green',\n",
       " 'mintgreen': 'green',\n",
       " 'gray': 'grey',\n",
       " 'coffee': 'brown',\n",
       " 'rose': 'pink',\n",
       " 'light green': 'green',\n",
       " 'leopard': 'leopardprint',\n",
       " 'orange-red': 'red',\n",
       " 'dustypink': 'pink',\n",
       " 'White': 'white',\n",
       " 'star': 'yellow',\n",
       " 'apricot': 'orange',\n",
       " 'skyblue': 'blue',\n",
       " 'burgundy': 'red',\n",
       " 'claret': 'red',\n",
       " 'rosered': 'red',\n",
       " 'tan': 'brown',\n",
       " 'navy blue': 'blue',\n",
       " 'wine red': 'red',\n",
       " 'lightred': 'red',\n",
       " 'Pink': 'pink',\n",
       " 'coralred': 'red',\n",
       " 'brown': 'brown',\n",
       " 'lakeblue': 'blue',\n",
       " 'darkblue': 'blue',\n",
       " 'camel': 'brown',\n",
       " 'nude': 'pink',\n",
       " 'Blue': 'blue',\n",
       " 'lightpurple': 'purple',\n",
       " 'army': 'green',\n",
       " 'Rose red': 'red',\n",
       " 'greysnakeskinprint': 'grey',\n",
       " 'denimblue': 'blue',\n",
       " 'applegreen': 'green',\n",
       " 'offwhite': 'white',\n",
       " 'lightgray': 'grey',\n",
       " 'navy': 'blue',\n",
       " 'army green': 'green',\n",
       " 'whitestripe': 'white',\n",
       " 'rainbow': 'multicolor',\n",
       " 'lightgrey': 'grey',\n",
       " 'watermelonred': 'red',\n",
       " 'prussianblue': 'blue',\n",
       " 'wine': 'red',\n",
       " 'ivory': 'yellow',\n",
       " 'jasper': 'red',\n",
       " 'lightkhaki': 'green',\n",
       " 'offblack': 'black',\n",
       " 'violet': 'purple',\n",
       " 'blackwhite': 'white',\n",
       " 'darkgreen': 'green',\n",
       " 'rosegold': 'pink',\n",
       " 'gold': 'yellow',\n",
       " 'red & blue': 'multicolor',\n",
       " 'blue & pink': 'multicolor',\n",
       " 'white & green': 'multicolor',\n",
       " 'black & green': 'multicolor',\n",
       " 'orange & camouflage': 'multicolor',\n",
       " 'pink & black': 'multicolor',\n",
       " 'pink & grey': 'multicolor',\n",
       " 'black & white': 'multicolor',\n",
       " 'white & black': 'multicolor',\n",
       " 'pink & white': 'multicolor',\n",
       " 'pink & blue': 'multicolor',\n",
       " 'black & stripe': 'multicolor',\n",
       " 'gray & white': 'multicolor',\n",
       " 'brown & yellow': 'multicolor',\n",
       " 'winered & yellow': 'multicolor',\n",
       " 'navyblue & white': 'multicolor',\n",
       " 'white & red': 'multicolor',\n",
       " 'black & yellow': 'multicolor',\n",
       " 'black & blue': 'multicolor'}"
      ]
     },
     "execution_count": 162,
     "metadata": {},
     "output_type": "execute_result"
    }
   ],
   "source": [
    "reduced_colors  # this is the complete colors table, customized"
   ]
  },
  {
   "cell_type": "code",
   "execution_count": 163,
   "id": "superb-greenhouse",
   "metadata": {},
   "outputs": [
    {
     "data": {
      "text/plain": [
       "41"
      ]
     },
     "execution_count": 163,
     "metadata": {},
     "output_type": "execute_result"
    }
   ],
   "source": [
    "data.product_color.isna().sum()  # need to handle those missing values as they are not in the product table"
   ]
  },
  {
   "cell_type": "code",
   "execution_count": 164,
   "id": "endless-fence",
   "metadata": {},
   "outputs": [],
   "source": [
    "data['product_color'] = data['product_color'].map(reduced_colors)"
   ]
  },
  {
   "cell_type": "code",
   "execution_count": 165,
   "id": "supposed-executive",
   "metadata": {},
   "outputs": [],
   "source": [
    "data['product_color'].replace(np.nan, 'others', inplace=True)  # associating missing values with others value"
   ]
  },
  {
   "cell_type": "code",
   "execution_count": 166,
   "id": "destroyed-mirror",
   "metadata": {},
   "outputs": [
    {
     "data": {
      "text/plain": [
       "0"
      ]
     },
     "execution_count": 166,
     "metadata": {},
     "output_type": "execute_result"
    }
   ],
   "source": [
    "data.product_color.isna().sum()  # no more missing values"
   ]
  },
  {
   "cell_type": "code",
   "execution_count": 167,
   "id": "visible-posting",
   "metadata": {},
   "outputs": [
    {
     "data": {
      "text/plain": [
       "array(['white', 'green', 'leopardprint', 'black', 'yellow', 'blue',\n",
       "       'brown', 'grey', 'orange', 'red', 'others', 'pink', 'multicolor',\n",
       "       'purple', 'floral'], dtype=object)"
      ]
     },
     "execution_count": 167,
     "metadata": {},
     "output_type": "execute_result"
    }
   ],
   "source": [
    "data['product_color'].unique()  # those are the new unique categories of color"
   ]
  },
  {
   "cell_type": "code",
   "execution_count": 168,
   "id": "lined-pizza",
   "metadata": {},
   "outputs": [
    {
     "data": {
      "text/plain": [
       "black           304\n",
       "white           254\n",
       "blue            159\n",
       "green           149\n",
       "red             143\n",
       "pink            112\n",
       "yellow          106\n",
       "grey             85\n",
       "multicolor       61\n",
       "purple           55\n",
       "others           42\n",
       "brown            30\n",
       "orange           29\n",
       "floral            5\n",
       "leopardprint      5\n",
       "Name: product_color, dtype: int64"
      ]
     },
     "execution_count": 168,
     "metadata": {},
     "output_type": "execute_result"
    }
   ],
   "source": [
    "data['product_color'].value_counts()"
   ]
  },
  {
   "cell_type": "code",
   "execution_count": 169,
   "id": "surgical-candle",
   "metadata": {},
   "outputs": [
    {
     "data": {
      "text/html": [
       "<div>\n",
       "<style scoped>\n",
       "    .dataframe tbody tr th:only-of-type {\n",
       "        vertical-align: middle;\n",
       "    }\n",
       "\n",
       "    .dataframe tbody tr th {\n",
       "        vertical-align: top;\n",
       "    }\n",
       "\n",
       "    .dataframe thead th {\n",
       "        text-align: right;\n",
       "    }\n",
       "</style>\n",
       "<table border=\"1\" class=\"dataframe\">\n",
       "  <thead>\n",
       "    <tr style=\"text-align: right;\">\n",
       "      <th></th>\n",
       "      <th>product_color</th>\n",
       "      <th>units_sold</th>\n",
       "    </tr>\n",
       "  </thead>\n",
       "  <tbody>\n",
       "    <tr>\n",
       "      <th>0</th>\n",
       "      <td>black</td>\n",
       "      <td>1599253</td>\n",
       "    </tr>\n",
       "    <tr>\n",
       "      <th>13</th>\n",
       "      <td>white</td>\n",
       "      <td>1169809</td>\n",
       "    </tr>\n",
       "    <tr>\n",
       "      <th>4</th>\n",
       "      <td>green</td>\n",
       "      <td>599085</td>\n",
       "    </tr>\n",
       "    <tr>\n",
       "      <th>1</th>\n",
       "      <td>blue</td>\n",
       "      <td>577598</td>\n",
       "    </tr>\n",
       "    <tr>\n",
       "      <th>5</th>\n",
       "      <td>grey</td>\n",
       "      <td>512630</td>\n",
       "    </tr>\n",
       "    <tr>\n",
       "      <th>12</th>\n",
       "      <td>red</td>\n",
       "      <td>500200</td>\n",
       "    </tr>\n",
       "    <tr>\n",
       "      <th>9</th>\n",
       "      <td>others</td>\n",
       "      <td>347472</td>\n",
       "    </tr>\n",
       "    <tr>\n",
       "      <th>11</th>\n",
       "      <td>purple</td>\n",
       "      <td>340480</td>\n",
       "    </tr>\n",
       "    <tr>\n",
       "      <th>10</th>\n",
       "      <td>pink</td>\n",
       "      <td>325800</td>\n",
       "    </tr>\n",
       "    <tr>\n",
       "      <th>14</th>\n",
       "      <td>yellow</td>\n",
       "      <td>257912</td>\n",
       "    </tr>\n",
       "    <tr>\n",
       "      <th>7</th>\n",
       "      <td>multicolor</td>\n",
       "      <td>236300</td>\n",
       "    </tr>\n",
       "    <tr>\n",
       "      <th>8</th>\n",
       "      <td>orange</td>\n",
       "      <td>193908</td>\n",
       "    </tr>\n",
       "    <tr>\n",
       "      <th>2</th>\n",
       "      <td>brown</td>\n",
       "      <td>71650</td>\n",
       "    </tr>\n",
       "    <tr>\n",
       "      <th>3</th>\n",
       "      <td>floral</td>\n",
       "      <td>61000</td>\n",
       "    </tr>\n",
       "    <tr>\n",
       "      <th>6</th>\n",
       "      <td>leopardprint</td>\n",
       "      <td>13100</td>\n",
       "    </tr>\n",
       "  </tbody>\n",
       "</table>\n",
       "</div>"
      ],
      "text/plain": [
       "   product_color  units_sold\n",
       "0          black     1599253\n",
       "13         white     1169809\n",
       "4          green      599085\n",
       "1           blue      577598\n",
       "5           grey      512630\n",
       "12           red      500200\n",
       "9         others      347472\n",
       "11        purple      340480\n",
       "10          pink      325800\n",
       "14        yellow      257912\n",
       "7     multicolor      236300\n",
       "8         orange      193908\n",
       "2          brown       71650\n",
       "3         floral       61000\n",
       "6   leopardprint       13100"
      ]
     },
     "execution_count": 169,
     "metadata": {},
     "output_type": "execute_result"
    }
   ],
   "source": [
    "color_sales = data.groupby('product_color').agg('sum')['units_sold'].to_frame() \n",
    "color_sales.reset_index(level=0, inplace=True)\n",
    "color_sales = color_sales.sort_values('units_sold', ascending=False)\n",
    "color_sales"
   ]
  },
  {
   "cell_type": "code",
   "execution_count": 170,
   "id": "refined-andorra",
   "metadata": {},
   "outputs": [],
   "source": [
    "# color_fig = plt.gcf()\n",
    "# color_fig.set_size_inches(16,10)\n",
    "# sns.barplot(x='product_color', y='units_sold', data=color_sales);"
   ]
  },
  {
   "cell_type": "markdown",
   "id": "moderate-precipitation",
   "metadata": {},
   "source": [
    "## <span style='color:blue'>tags</span>"
   ]
  },
  {
   "cell_type": "code",
   "execution_count": 171,
   "id": "reserved-lease",
   "metadata": {},
   "outputs": [
    {
     "name": "stdout",
     "output_type": "stream",
     "text": [
      "Summer,Fashion,womenunderwearsuit,printedpajamasset,womencasualshort,Women's Fashion,flamingo,loungewearset,Casual,Shirt,casualsleepwear,Shorts,flamingotshirt,Elastic,Vintage,Tops,tshirtandshortsset,Women,Sleepwear,Print,womenpajamasset,womennightwear,Pajamas,womensleepwearset\n",
      "\n",
      "Mini,womens dresses,Summer,Patchwork,fashion dress,Dress,Mini dress,Women's Fashion,Women S Clothing,backless,party,summer dresses,sleeveless,sexy,Casual\n",
      "\n",
      "Summer,cardigan,women beachwear,chiffon,Sexy women,Coat,summercardigan,openfront,short sleeves,Swimsuit,Women's Fashion,leaf,Green,printed,Spring,longcardigan,Women,Beach,kimono\n",
      "\n",
      "Summer,Shorts,Cotton,Cotton T Shirt,Sleeve,printedletterstop,Clothing,Tops,Necks,short sleeves,Women's Fashion,Women Clothing,printed,Women,tshirtforwomen,Fashion,T Shirts,Shirt\n",
      "\n",
      "Summer,Plus Size,Lace,Casual pants,Bottom,pants,Loose,Women's Fashion,Shorts,Lace Up,Elastic,Casual,Women\n",
      "\n"
     ]
    }
   ],
   "source": [
    "for i in range(5):\n",
    "    print(data.tags.unique()[i])\n",
    "    print()"
   ]
  },
  {
   "cell_type": "code",
   "execution_count": 172,
   "id": "advance-improvement",
   "metadata": {},
   "outputs": [
    {
     "data": {
      "text/plain": [
       "0    24\n",
       "1    15\n",
       "2    19\n",
       "3    18\n",
       "4    13\n",
       "Name: tags_count, dtype: int64"
      ]
     },
     "execution_count": 172,
     "metadata": {},
     "output_type": "execute_result"
    }
   ],
   "source": [
    "data['tags_count'] = data['tags'].str.split(',').str.len()  # len returns the length of the object in the pandas series\n",
    "data['tags_count'].head(5)"
   ]
  },
  {
   "cell_type": "markdown",
   "id": "generous-paraguay",
   "metadata": {},
   "source": [
    "we can see that the fourth observation has 13 tags, which we can see it is correct from the previous output."
   ]
  },
  {
   "cell_type": "code",
   "execution_count": 173,
   "id": "fixed-climate",
   "metadata": {},
   "outputs": [
    {
     "data": {
      "text/plain": [
       "<AxesSubplot:xlabel='tags_count', ylabel='units_sold'>"
      ]
     },
     "execution_count": 173,
     "metadata": {},
     "output_type": "execute_result"
    },
    {
     "data": {
      "image/png": "[encoded data removed]",
      "text/plain": [
       "<Figure size 1152x720 with 1 Axes>"
      ]
     },
     "metadata": {
      "needs_background": "light"
     },
     "output_type": "display_data"
    }
   ],
   "source": [
    "tags_fig = plt.gcf()\n",
    "tags_fig.set_size_inches(16,10)\n",
    "sns.lineplot(x='tags_count', y='units_sold', ci=None, data=data)"
   ]
  },
  {
   "cell_type": "markdown",
   "id": "indian-feature",
   "metadata": {},
   "source": [
    "in general, above 30 tags the sales of clothes start growing.\\\n",
    "Below 10 there tags there is a spike which might be due to outliers.\\\n",
    "Let's check:"
   ]
  },
  {
   "cell_type": "code",
   "execution_count": 174,
   "id": "spatial-stomach",
   "metadata": {},
   "outputs": [
    {
     "data": {
      "text/html": [
       "<div>\n",
       "<style scoped>\n",
       "    .dataframe tbody tr th:only-of-type {\n",
       "        vertical-align: middle;\n",
       "    }\n",
       "\n",
       "    .dataframe tbody tr th {\n",
       "        vertical-align: top;\n",
       "    }\n",
       "\n",
       "    .dataframe thead th {\n",
       "        text-align: right;\n",
       "    }\n",
       "</style>\n",
       "<table border=\"1\" class=\"dataframe\">\n",
       "  <thead>\n",
       "    <tr style=\"text-align: right;\">\n",
       "      <th></th>\n",
       "      <th>price</th>\n",
       "      <th>retail_price</th>\n",
       "      <th>units_sold</th>\n",
       "      <th>uses_ad_boosts</th>\n",
       "      <th>rating</th>\n",
       "      <th>rating_count</th>\n",
       "      <th>rating_five_count</th>\n",
       "      <th>rating_four_count</th>\n",
       "      <th>rating_three_count</th>\n",
       "      <th>rating_two_count</th>\n",
       "      <th>...</th>\n",
       "      <th>shipping_option_name</th>\n",
       "      <th>shipping_option_price</th>\n",
       "      <th>countries_shipped_to</th>\n",
       "      <th>has_urgency_banner</th>\n",
       "      <th>urgency_text</th>\n",
       "      <th>origin_country</th>\n",
       "      <th>merchant_rating_count</th>\n",
       "      <th>merchant_rating</th>\n",
       "      <th>merchant_has_profile_picture</th>\n",
       "      <th>tags_count</th>\n",
       "    </tr>\n",
       "  </thead>\n",
       "  <tbody>\n",
       "    <tr>\n",
       "      <th>5</th>\n",
       "      <td>3.92</td>\n",
       "      <td>9</td>\n",
       "      <td>10</td>\n",
       "      <td>0</td>\n",
       "      <td>5.00</td>\n",
       "      <td>1</td>\n",
       "      <td>1.0</td>\n",
       "      <td>0.0</td>\n",
       "      <td>0.0</td>\n",
       "      <td>0.0</td>\n",
       "      <td>...</td>\n",
       "      <td>Livraison standard</td>\n",
       "      <td>1</td>\n",
       "      <td>40</td>\n",
       "      <td>NaN</td>\n",
       "      <td>NaN</td>\n",
       "      <td>CN</td>\n",
       "      <td>65</td>\n",
       "      <td>3.507692</td>\n",
       "      <td>0</td>\n",
       "      <td>10</td>\n",
       "    </tr>\n",
       "    <tr>\n",
       "      <th>12</th>\n",
       "      <td>1.91</td>\n",
       "      <td>6</td>\n",
       "      <td>1000</td>\n",
       "      <td>1</td>\n",
       "      <td>3.45</td>\n",
       "      <td>141</td>\n",
       "      <td>49.0</td>\n",
       "      <td>29.0</td>\n",
       "      <td>24.0</td>\n",
       "      <td>14.0</td>\n",
       "      <td>...</td>\n",
       "      <td>Envio Padrão</td>\n",
       "      <td>1</td>\n",
       "      <td>38</td>\n",
       "      <td>NaN</td>\n",
       "      <td>NaN</td>\n",
       "      <td>CN</td>\n",
       "      <td>557</td>\n",
       "      <td>4.123878</td>\n",
       "      <td>0</td>\n",
       "      <td>8</td>\n",
       "    </tr>\n",
       "    <tr>\n",
       "      <th>42</th>\n",
       "      <td>12.00</td>\n",
       "      <td>14</td>\n",
       "      <td>100</td>\n",
       "      <td>1</td>\n",
       "      <td>3.79</td>\n",
       "      <td>24</td>\n",
       "      <td>11.0</td>\n",
       "      <td>6.0</td>\n",
       "      <td>2.0</td>\n",
       "      <td>1.0</td>\n",
       "      <td>...</td>\n",
       "      <td>Standardversand</td>\n",
       "      <td>3</td>\n",
       "      <td>22</td>\n",
       "      <td>NaN</td>\n",
       "      <td>NaN</td>\n",
       "      <td>CN</td>\n",
       "      <td>196</td>\n",
       "      <td>4.020408</td>\n",
       "      <td>0</td>\n",
       "      <td>10</td>\n",
       "    </tr>\n",
       "    <tr>\n",
       "      <th>61</th>\n",
       "      <td>5.00</td>\n",
       "      <td>38</td>\n",
       "      <td>50</td>\n",
       "      <td>1</td>\n",
       "      <td>5.00</td>\n",
       "      <td>2</td>\n",
       "      <td>2.0</td>\n",
       "      <td>0.0</td>\n",
       "      <td>0.0</td>\n",
       "      <td>0.0</td>\n",
       "      <td>...</td>\n",
       "      <td>Livraison standard</td>\n",
       "      <td>1</td>\n",
       "      <td>33</td>\n",
       "      <td>NaN</td>\n",
       "      <td>NaN</td>\n",
       "      <td>CN</td>\n",
       "      <td>9</td>\n",
       "      <td>3.666667</td>\n",
       "      <td>0</td>\n",
       "      <td>10</td>\n",
       "    </tr>\n",
       "    <tr>\n",
       "      <th>87</th>\n",
       "      <td>5.78</td>\n",
       "      <td>8</td>\n",
       "      <td>20000</td>\n",
       "      <td>1</td>\n",
       "      <td>4.00</td>\n",
       "      <td>3975</td>\n",
       "      <td>2054.0</td>\n",
       "      <td>774.0</td>\n",
       "      <td>576.0</td>\n",
       "      <td>242.0</td>\n",
       "      <td>...</td>\n",
       "      <td>Standardowa wysyłka</td>\n",
       "      <td>1</td>\n",
       "      <td>29</td>\n",
       "      <td>NaN</td>\n",
       "      <td>NaN</td>\n",
       "      <td>CN</td>\n",
       "      <td>6555</td>\n",
       "      <td>4.184134</td>\n",
       "      <td>0</td>\n",
       "      <td>9</td>\n",
       "    </tr>\n",
       "    <tr>\n",
       "      <th>95</th>\n",
       "      <td>1.86</td>\n",
       "      <td>9</td>\n",
       "      <td>100</td>\n",
       "      <td>1</td>\n",
       "      <td>3.57</td>\n",
       "      <td>42</td>\n",
       "      <td>17.0</td>\n",
       "      <td>9.0</td>\n",
       "      <td>4.0</td>\n",
       "      <td>5.0</td>\n",
       "      <td>...</td>\n",
       "      <td>Livraison standard</td>\n",
       "      <td>1</td>\n",
       "      <td>40</td>\n",
       "      <td>1.0</td>\n",
       "      <td>Quantité limitée !</td>\n",
       "      <td>CN</td>\n",
       "      <td>7248</td>\n",
       "      <td>3.943019</td>\n",
       "      <td>0</td>\n",
       "      <td>10</td>\n",
       "    </tr>\n",
       "    <tr>\n",
       "      <th>428</th>\n",
       "      <td>12.00</td>\n",
       "      <td>14</td>\n",
       "      <td>50</td>\n",
       "      <td>0</td>\n",
       "      <td>3.88</td>\n",
       "      <td>8</td>\n",
       "      <td>2.0</td>\n",
       "      <td>4.0</td>\n",
       "      <td>1.0</td>\n",
       "      <td>1.0</td>\n",
       "      <td>...</td>\n",
       "      <td>Livraison standard</td>\n",
       "      <td>3</td>\n",
       "      <td>22</td>\n",
       "      <td>NaN</td>\n",
       "      <td>NaN</td>\n",
       "      <td>CN</td>\n",
       "      <td>52</td>\n",
       "      <td>3.884615</td>\n",
       "      <td>0</td>\n",
       "      <td>10</td>\n",
       "    </tr>\n",
       "    <tr>\n",
       "      <th>460</th>\n",
       "      <td>9.00</td>\n",
       "      <td>46</td>\n",
       "      <td>100</td>\n",
       "      <td>0</td>\n",
       "      <td>4.86</td>\n",
       "      <td>7</td>\n",
       "      <td>6.0</td>\n",
       "      <td>1.0</td>\n",
       "      <td>0.0</td>\n",
       "      <td>0.0</td>\n",
       "      <td>...</td>\n",
       "      <td>Livraison standard</td>\n",
       "      <td>3</td>\n",
       "      <td>74</td>\n",
       "      <td>NaN</td>\n",
       "      <td>NaN</td>\n",
       "      <td>CN</td>\n",
       "      <td>2228</td>\n",
       "      <td>4.228007</td>\n",
       "      <td>0</td>\n",
       "      <td>10</td>\n",
       "    </tr>\n",
       "    <tr>\n",
       "      <th>476</th>\n",
       "      <td>11.00</td>\n",
       "      <td>108</td>\n",
       "      <td>5000</td>\n",
       "      <td>0</td>\n",
       "      <td>2.95</td>\n",
       "      <td>299</td>\n",
       "      <td>72.0</td>\n",
       "      <td>47.0</td>\n",
       "      <td>59.0</td>\n",
       "      <td>36.0</td>\n",
       "      <td>...</td>\n",
       "      <td>Livraison standard</td>\n",
       "      <td>3</td>\n",
       "      <td>52</td>\n",
       "      <td>NaN</td>\n",
       "      <td>NaN</td>\n",
       "      <td>CN</td>\n",
       "      <td>2608</td>\n",
       "      <td>3.873083</td>\n",
       "      <td>0</td>\n",
       "      <td>10</td>\n",
       "    </tr>\n",
       "    <tr>\n",
       "      <th>527</th>\n",
       "      <td>3.83</td>\n",
       "      <td>4</td>\n",
       "      <td>100</td>\n",
       "      <td>0</td>\n",
       "      <td>3.57</td>\n",
       "      <td>67</td>\n",
       "      <td>27.0</td>\n",
       "      <td>15.0</td>\n",
       "      <td>6.0</td>\n",
       "      <td>7.0</td>\n",
       "      <td>...</td>\n",
       "      <td>Livraison standard</td>\n",
       "      <td>1</td>\n",
       "      <td>38</td>\n",
       "      <td>NaN</td>\n",
       "      <td>NaN</td>\n",
       "      <td>CN</td>\n",
       "      <td>5654</td>\n",
       "      <td>3.958790</td>\n",
       "      <td>0</td>\n",
       "      <td>10</td>\n",
       "    </tr>\n",
       "    <tr>\n",
       "      <th>642</th>\n",
       "      <td>7.00</td>\n",
       "      <td>9</td>\n",
       "      <td>5000</td>\n",
       "      <td>1</td>\n",
       "      <td>3.83</td>\n",
       "      <td>1169</td>\n",
       "      <td>557.0</td>\n",
       "      <td>216.0</td>\n",
       "      <td>174.0</td>\n",
       "      <td>83.0</td>\n",
       "      <td>...</td>\n",
       "      <td>Livraison standard</td>\n",
       "      <td>2</td>\n",
       "      <td>43</td>\n",
       "      <td>1.0</td>\n",
       "      <td>Quantité limitée !</td>\n",
       "      <td>CN</td>\n",
       "      <td>33705</td>\n",
       "      <td>4.134935</td>\n",
       "      <td>0</td>\n",
       "      <td>10</td>\n",
       "    </tr>\n",
       "    <tr>\n",
       "      <th>663</th>\n",
       "      <td>14.00</td>\n",
       "      <td>86</td>\n",
       "      <td>1000</td>\n",
       "      <td>0</td>\n",
       "      <td>4.08</td>\n",
       "      <td>546</td>\n",
       "      <td>302.0</td>\n",
       "      <td>108.0</td>\n",
       "      <td>58.0</td>\n",
       "      <td>35.0</td>\n",
       "      <td>...</td>\n",
       "      <td>Livraison standard</td>\n",
       "      <td>3</td>\n",
       "      <td>17</td>\n",
       "      <td>1.0</td>\n",
       "      <td>Quantité limitée !</td>\n",
       "      <td>CN</td>\n",
       "      <td>62240</td>\n",
       "      <td>4.265472</td>\n",
       "      <td>0</td>\n",
       "      <td>10</td>\n",
       "    </tr>\n",
       "    <tr>\n",
       "      <th>668</th>\n",
       "      <td>5.00</td>\n",
       "      <td>127</td>\n",
       "      <td>100</td>\n",
       "      <td>0</td>\n",
       "      <td>2.79</td>\n",
       "      <td>19</td>\n",
       "      <td>4.0</td>\n",
       "      <td>4.0</td>\n",
       "      <td>2.0</td>\n",
       "      <td>2.0</td>\n",
       "      <td>...</td>\n",
       "      <td>Livraison standard</td>\n",
       "      <td>2</td>\n",
       "      <td>54</td>\n",
       "      <td>NaN</td>\n",
       "      <td>NaN</td>\n",
       "      <td>CN</td>\n",
       "      <td>9357</td>\n",
       "      <td>4.225393</td>\n",
       "      <td>0</td>\n",
       "      <td>10</td>\n",
       "    </tr>\n",
       "    <tr>\n",
       "      <th>683</th>\n",
       "      <td>3.83</td>\n",
       "      <td>4</td>\n",
       "      <td>100</td>\n",
       "      <td>0</td>\n",
       "      <td>3.57</td>\n",
       "      <td>67</td>\n",
       "      <td>27.0</td>\n",
       "      <td>15.0</td>\n",
       "      <td>6.0</td>\n",
       "      <td>7.0</td>\n",
       "      <td>...</td>\n",
       "      <td>Livraison standard</td>\n",
       "      <td>1</td>\n",
       "      <td>38</td>\n",
       "      <td>1.0</td>\n",
       "      <td>Quantité limitée !</td>\n",
       "      <td>CN</td>\n",
       "      <td>5654</td>\n",
       "      <td>3.958790</td>\n",
       "      <td>0</td>\n",
       "      <td>10</td>\n",
       "    </tr>\n",
       "    <tr>\n",
       "      <th>701</th>\n",
       "      <td>5.00</td>\n",
       "      <td>127</td>\n",
       "      <td>100</td>\n",
       "      <td>0</td>\n",
       "      <td>2.79</td>\n",
       "      <td>19</td>\n",
       "      <td>4.0</td>\n",
       "      <td>4.0</td>\n",
       "      <td>2.0</td>\n",
       "      <td>2.0</td>\n",
       "      <td>...</td>\n",
       "      <td>Livraison standard</td>\n",
       "      <td>2</td>\n",
       "      <td>54</td>\n",
       "      <td>1.0</td>\n",
       "      <td>Quantité limitée !</td>\n",
       "      <td>CN</td>\n",
       "      <td>9357</td>\n",
       "      <td>4.225393</td>\n",
       "      <td>0</td>\n",
       "      <td>10</td>\n",
       "    </tr>\n",
       "    <tr>\n",
       "      <th>825</th>\n",
       "      <td>9.00</td>\n",
       "      <td>8</td>\n",
       "      <td>100</td>\n",
       "      <td>1</td>\n",
       "      <td>4.13</td>\n",
       "      <td>23</td>\n",
       "      <td>13.0</td>\n",
       "      <td>4.0</td>\n",
       "      <td>4.0</td>\n",
       "      <td>0.0</td>\n",
       "      <td>...</td>\n",
       "      <td>Livraison standard</td>\n",
       "      <td>3</td>\n",
       "      <td>47</td>\n",
       "      <td>NaN</td>\n",
       "      <td>NaN</td>\n",
       "      <td>CN</td>\n",
       "      <td>3769</td>\n",
       "      <td>4.239851</td>\n",
       "      <td>0</td>\n",
       "      <td>10</td>\n",
       "    </tr>\n",
       "    <tr>\n",
       "      <th>921</th>\n",
       "      <td>5.83</td>\n",
       "      <td>8</td>\n",
       "      <td>5000</td>\n",
       "      <td>0</td>\n",
       "      <td>3.99</td>\n",
       "      <td>639</td>\n",
       "      <td>337.0</td>\n",
       "      <td>118.0</td>\n",
       "      <td>89.0</td>\n",
       "      <td>33.0</td>\n",
       "      <td>...</td>\n",
       "      <td>Livraison standard</td>\n",
       "      <td>2</td>\n",
       "      <td>40</td>\n",
       "      <td>NaN</td>\n",
       "      <td>NaN</td>\n",
       "      <td>NaN</td>\n",
       "      <td>91631</td>\n",
       "      <td>3.837937</td>\n",
       "      <td>1</td>\n",
       "      <td>10</td>\n",
       "    </tr>\n",
       "    <tr>\n",
       "      <th>929</th>\n",
       "      <td>5.73</td>\n",
       "      <td>5</td>\n",
       "      <td>100</td>\n",
       "      <td>0</td>\n",
       "      <td>4.03</td>\n",
       "      <td>63</td>\n",
       "      <td>29.0</td>\n",
       "      <td>14.0</td>\n",
       "      <td>15.0</td>\n",
       "      <td>3.0</td>\n",
       "      <td>...</td>\n",
       "      <td>Livraison standard</td>\n",
       "      <td>1</td>\n",
       "      <td>137</td>\n",
       "      <td>NaN</td>\n",
       "      <td>NaN</td>\n",
       "      <td>CN</td>\n",
       "      <td>3852</td>\n",
       "      <td>4.003115</td>\n",
       "      <td>0</td>\n",
       "      <td>10</td>\n",
       "    </tr>\n",
       "    <tr>\n",
       "      <th>1059</th>\n",
       "      <td>11.00</td>\n",
       "      <td>10</td>\n",
       "      <td>1000</td>\n",
       "      <td>1</td>\n",
       "      <td>3.73</td>\n",
       "      <td>128</td>\n",
       "      <td>54.0</td>\n",
       "      <td>24.0</td>\n",
       "      <td>28.0</td>\n",
       "      <td>6.0</td>\n",
       "      <td>...</td>\n",
       "      <td>Livraison standard</td>\n",
       "      <td>2</td>\n",
       "      <td>38</td>\n",
       "      <td>1.0</td>\n",
       "      <td>Quantité limitée !</td>\n",
       "      <td>NaN</td>\n",
       "      <td>105015</td>\n",
       "      <td>3.789601</td>\n",
       "      <td>0</td>\n",
       "      <td>10</td>\n",
       "    </tr>\n",
       "    <tr>\n",
       "      <th>1203</th>\n",
       "      <td>5.00</td>\n",
       "      <td>7</td>\n",
       "      <td>20000</td>\n",
       "      <td>1</td>\n",
       "      <td>4.13</td>\n",
       "      <td>2409</td>\n",
       "      <td>1337.0</td>\n",
       "      <td>495.0</td>\n",
       "      <td>296.0</td>\n",
       "      <td>117.0</td>\n",
       "      <td>...</td>\n",
       "      <td>Livraison standard</td>\n",
       "      <td>2</td>\n",
       "      <td>28</td>\n",
       "      <td>NaN</td>\n",
       "      <td>NaN</td>\n",
       "      <td>CN</td>\n",
       "      <td>88193</td>\n",
       "      <td>4.080891</td>\n",
       "      <td>1</td>\n",
       "      <td>10</td>\n",
       "    </tr>\n",
       "    <tr>\n",
       "      <th>1211</th>\n",
       "      <td>2.65</td>\n",
       "      <td>3</td>\n",
       "      <td>20000</td>\n",
       "      <td>0</td>\n",
       "      <td>3.40</td>\n",
       "      <td>3443</td>\n",
       "      <td>1232.0</td>\n",
       "      <td>593.0</td>\n",
       "      <td>622.0</td>\n",
       "      <td>327.0</td>\n",
       "      <td>...</td>\n",
       "      <td>Livraison standard</td>\n",
       "      <td>1</td>\n",
       "      <td>31</td>\n",
       "      <td>NaN</td>\n",
       "      <td>NaN</td>\n",
       "      <td>CN</td>\n",
       "      <td>68022</td>\n",
       "      <td>4.320587</td>\n",
       "      <td>1</td>\n",
       "      <td>9</td>\n",
       "    </tr>\n",
       "    <tr>\n",
       "      <th>1260</th>\n",
       "      <td>11.00</td>\n",
       "      <td>47</td>\n",
       "      <td>100</td>\n",
       "      <td>0</td>\n",
       "      <td>4.39</td>\n",
       "      <td>23</td>\n",
       "      <td>14.0</td>\n",
       "      <td>7.0</td>\n",
       "      <td>0.0</td>\n",
       "      <td>1.0</td>\n",
       "      <td>...</td>\n",
       "      <td>الشحن القياسي</td>\n",
       "      <td>3</td>\n",
       "      <td>40</td>\n",
       "      <td>NaN</td>\n",
       "      <td>NaN</td>\n",
       "      <td>CN</td>\n",
       "      <td>7197</td>\n",
       "      <td>4.360984</td>\n",
       "      <td>0</td>\n",
       "      <td>10</td>\n",
       "    </tr>\n",
       "    <tr>\n",
       "      <th>1343</th>\n",
       "      <td>5.86</td>\n",
       "      <td>5</td>\n",
       "      <td>100</td>\n",
       "      <td>1</td>\n",
       "      <td>4.55</td>\n",
       "      <td>76</td>\n",
       "      <td>57.0</td>\n",
       "      <td>9.0</td>\n",
       "      <td>7.0</td>\n",
       "      <td>1.0</td>\n",
       "      <td>...</td>\n",
       "      <td>Livraison standard</td>\n",
       "      <td>2</td>\n",
       "      <td>23</td>\n",
       "      <td>NaN</td>\n",
       "      <td>NaN</td>\n",
       "      <td>CN</td>\n",
       "      <td>96</td>\n",
       "      <td>4.364583</td>\n",
       "      <td>0</td>\n",
       "      <td>10</td>\n",
       "    </tr>\n",
       "    <tr>\n",
       "      <th>1365</th>\n",
       "      <td>8.00</td>\n",
       "      <td>7</td>\n",
       "      <td>50</td>\n",
       "      <td>1</td>\n",
       "      <td>3.43</td>\n",
       "      <td>7</td>\n",
       "      <td>3.0</td>\n",
       "      <td>0.0</td>\n",
       "      <td>2.0</td>\n",
       "      <td>1.0</td>\n",
       "      <td>...</td>\n",
       "      <td>Livraison standard</td>\n",
       "      <td>3</td>\n",
       "      <td>15</td>\n",
       "      <td>NaN</td>\n",
       "      <td>NaN</td>\n",
       "      <td>CN</td>\n",
       "      <td>249</td>\n",
       "      <td>3.979920</td>\n",
       "      <td>0</td>\n",
       "      <td>10</td>\n",
       "    </tr>\n",
       "    <tr>\n",
       "      <th>1459</th>\n",
       "      <td>11.00</td>\n",
       "      <td>47</td>\n",
       "      <td>100</td>\n",
       "      <td>0</td>\n",
       "      <td>4.39</td>\n",
       "      <td>23</td>\n",
       "      <td>14.0</td>\n",
       "      <td>7.0</td>\n",
       "      <td>0.0</td>\n",
       "      <td>1.0</td>\n",
       "      <td>...</td>\n",
       "      <td>الشحن القياسي</td>\n",
       "      <td>3</td>\n",
       "      <td>40</td>\n",
       "      <td>1.0</td>\n",
       "      <td>Quantité limitée !</td>\n",
       "      <td>CN</td>\n",
       "      <td>7197</td>\n",
       "      <td>4.360984</td>\n",
       "      <td>0</td>\n",
       "      <td>10</td>\n",
       "    </tr>\n",
       "    <tr>\n",
       "      <th>1501</th>\n",
       "      <td>8.00</td>\n",
       "      <td>7</td>\n",
       "      <td>1000</td>\n",
       "      <td>1</td>\n",
       "      <td>3.52</td>\n",
       "      <td>118</td>\n",
       "      <td>46.0</td>\n",
       "      <td>20.0</td>\n",
       "      <td>20.0</td>\n",
       "      <td>13.0</td>\n",
       "      <td>...</td>\n",
       "      <td>Livraison standard</td>\n",
       "      <td>3</td>\n",
       "      <td>39</td>\n",
       "      <td>NaN</td>\n",
       "      <td>NaN</td>\n",
       "      <td>CN</td>\n",
       "      <td>612</td>\n",
       "      <td>4.109477</td>\n",
       "      <td>0</td>\n",
       "      <td>8</td>\n",
       "    </tr>\n",
       "    <tr>\n",
       "      <th>1526</th>\n",
       "      <td>8.00</td>\n",
       "      <td>7</td>\n",
       "      <td>1000</td>\n",
       "      <td>1</td>\n",
       "      <td>3.52</td>\n",
       "      <td>118</td>\n",
       "      <td>46.0</td>\n",
       "      <td>20.0</td>\n",
       "      <td>20.0</td>\n",
       "      <td>13.0</td>\n",
       "      <td>...</td>\n",
       "      <td>Livraison standard</td>\n",
       "      <td>3</td>\n",
       "      <td>39</td>\n",
       "      <td>1.0</td>\n",
       "      <td>Quantité limitée !</td>\n",
       "      <td>CN</td>\n",
       "      <td>612</td>\n",
       "      <td>4.109477</td>\n",
       "      <td>0</td>\n",
       "      <td>8</td>\n",
       "    </tr>\n",
       "  </tbody>\n",
       "</table>\n",
       "<p>27 rows × 29 columns</p>\n",
       "</div>"
      ],
      "text/plain": [
       "      price  retail_price  units_sold  uses_ad_boosts  rating  rating_count  \\\n",
       "5      3.92             9          10               0    5.00             1   \n",
       "12     1.91             6        1000               1    3.45           141   \n",
       "42    12.00            14         100               1    3.79            24   \n",
       "61     5.00            38          50               1    5.00             2   \n",
       "87     5.78             8       20000               1    4.00          3975   \n",
       "95     1.86             9         100               1    3.57            42   \n",
       "428   12.00            14          50               0    3.88             8   \n",
       "460    9.00            46         100               0    4.86             7   \n",
       "476   11.00           108        5000               0    2.95           299   \n",
       "527    3.83             4         100               0    3.57            67   \n",
       "642    7.00             9        5000               1    3.83          1169   \n",
       "663   14.00            86        1000               0    4.08           546   \n",
       "668    5.00           127         100               0    2.79            19   \n",
       "683    3.83             4         100               0    3.57            67   \n",
       "701    5.00           127         100               0    2.79            19   \n",
       "825    9.00             8         100               1    4.13            23   \n",
       "921    5.83             8        5000               0    3.99           639   \n",
       "929    5.73             5         100               0    4.03            63   \n",
       "1059  11.00            10        1000               1    3.73           128   \n",
       "1203   5.00             7       20000               1    4.13          2409   \n",
       "1211   2.65             3       20000               0    3.40          3443   \n",
       "1260  11.00            47         100               0    4.39            23   \n",
       "1343   5.86             5         100               1    4.55            76   \n",
       "1365   8.00             7          50               1    3.43             7   \n",
       "1459  11.00            47         100               0    4.39            23   \n",
       "1501   8.00             7        1000               1    3.52           118   \n",
       "1526   8.00             7        1000               1    3.52           118   \n",
       "\n",
       "      rating_five_count  rating_four_count  rating_three_count  \\\n",
       "5                   1.0                0.0                 0.0   \n",
       "12                 49.0               29.0                24.0   \n",
       "42                 11.0                6.0                 2.0   \n",
       "61                  2.0                0.0                 0.0   \n",
       "87               2054.0              774.0               576.0   \n",
       "95                 17.0                9.0                 4.0   \n",
       "428                 2.0                4.0                 1.0   \n",
       "460                 6.0                1.0                 0.0   \n",
       "476                72.0               47.0                59.0   \n",
       "527                27.0               15.0                 6.0   \n",
       "642               557.0              216.0               174.0   \n",
       "663               302.0              108.0                58.0   \n",
       "668                 4.0                4.0                 2.0   \n",
       "683                27.0               15.0                 6.0   \n",
       "701                 4.0                4.0                 2.0   \n",
       "825                13.0                4.0                 4.0   \n",
       "921               337.0              118.0                89.0   \n",
       "929                29.0               14.0                15.0   \n",
       "1059               54.0               24.0                28.0   \n",
       "1203             1337.0              495.0               296.0   \n",
       "1211             1232.0              593.0               622.0   \n",
       "1260               14.0                7.0                 0.0   \n",
       "1343               57.0                9.0                 7.0   \n",
       "1365                3.0                0.0                 2.0   \n",
       "1459               14.0                7.0                 0.0   \n",
       "1501               46.0               20.0                20.0   \n",
       "1526               46.0               20.0                20.0   \n",
       "\n",
       "      rating_two_count  ...  shipping_option_name  shipping_option_price  \\\n",
       "5                  0.0  ...    Livraison standard                      1   \n",
       "12                14.0  ...          Envio Padrão                      1   \n",
       "42                 1.0  ...       Standardversand                      3   \n",
       "61                 0.0  ...    Livraison standard                      1   \n",
       "87               242.0  ...   Standardowa wysyłka                      1   \n",
       "95                 5.0  ...    Livraison standard                      1   \n",
       "428                1.0  ...    Livraison standard                      3   \n",
       "460                0.0  ...    Livraison standard                      3   \n",
       "476               36.0  ...    Livraison standard                      3   \n",
       "527                7.0  ...    Livraison standard                      1   \n",
       "642               83.0  ...    Livraison standard                      2   \n",
       "663               35.0  ...    Livraison standard                      3   \n",
       "668                2.0  ...    Livraison standard                      2   \n",
       "683                7.0  ...    Livraison standard                      1   \n",
       "701                2.0  ...    Livraison standard                      2   \n",
       "825                0.0  ...    Livraison standard                      3   \n",
       "921               33.0  ...    Livraison standard                      2   \n",
       "929                3.0  ...    Livraison standard                      1   \n",
       "1059               6.0  ...    Livraison standard                      2   \n",
       "1203             117.0  ...    Livraison standard                      2   \n",
       "1211             327.0  ...    Livraison standard                      1   \n",
       "1260               1.0  ...         الشحن القياسي                      3   \n",
       "1343               1.0  ...    Livraison standard                      2   \n",
       "1365               1.0  ...    Livraison standard                      3   \n",
       "1459               1.0  ...         الشحن القياسي                      3   \n",
       "1501              13.0  ...    Livraison standard                      3   \n",
       "1526              13.0  ...    Livraison standard                      3   \n",
       "\n",
       "      countries_shipped_to  has_urgency_banner        urgency_text  \\\n",
       "5                       40                 NaN                 NaN   \n",
       "12                      38                 NaN                 NaN   \n",
       "42                      22                 NaN                 NaN   \n",
       "61                      33                 NaN                 NaN   \n",
       "87                      29                 NaN                 NaN   \n",
       "95                      40                 1.0  Quantité limitée !   \n",
       "428                     22                 NaN                 NaN   \n",
       "460                     74                 NaN                 NaN   \n",
       "476                     52                 NaN                 NaN   \n",
       "527                     38                 NaN                 NaN   \n",
       "642                     43                 1.0  Quantité limitée !   \n",
       "663                     17                 1.0  Quantité limitée !   \n",
       "668                     54                 NaN                 NaN   \n",
       "683                     38                 1.0  Quantité limitée !   \n",
       "701                     54                 1.0  Quantité limitée !   \n",
       "825                     47                 NaN                 NaN   \n",
       "921                     40                 NaN                 NaN   \n",
       "929                    137                 NaN                 NaN   \n",
       "1059                    38                 1.0  Quantité limitée !   \n",
       "1203                    28                 NaN                 NaN   \n",
       "1211                    31                 NaN                 NaN   \n",
       "1260                    40                 NaN                 NaN   \n",
       "1343                    23                 NaN                 NaN   \n",
       "1365                    15                 NaN                 NaN   \n",
       "1459                    40                 1.0  Quantité limitée !   \n",
       "1501                    39                 NaN                 NaN   \n",
       "1526                    39                 1.0  Quantité limitée !   \n",
       "\n",
       "     origin_country merchant_rating_count merchant_rating  \\\n",
       "5                CN                    65        3.507692   \n",
       "12               CN                   557        4.123878   \n",
       "42               CN                   196        4.020408   \n",
       "61               CN                     9        3.666667   \n",
       "87               CN                  6555        4.184134   \n",
       "95               CN                  7248        3.943019   \n",
       "428              CN                    52        3.884615   \n",
       "460              CN                  2228        4.228007   \n",
       "476              CN                  2608        3.873083   \n",
       "527              CN                  5654        3.958790   \n",
       "642              CN                 33705        4.134935   \n",
       "663              CN                 62240        4.265472   \n",
       "668              CN                  9357        4.225393   \n",
       "683              CN                  5654        3.958790   \n",
       "701              CN                  9357        4.225393   \n",
       "825              CN                  3769        4.239851   \n",
       "921             NaN                 91631        3.837937   \n",
       "929              CN                  3852        4.003115   \n",
       "1059            NaN                105015        3.789601   \n",
       "1203             CN                 88193        4.080891   \n",
       "1211             CN                 68022        4.320587   \n",
       "1260             CN                  7197        4.360984   \n",
       "1343             CN                    96        4.364583   \n",
       "1365             CN                   249        3.979920   \n",
       "1459             CN                  7197        4.360984   \n",
       "1501             CN                   612        4.109477   \n",
       "1526             CN                   612        4.109477   \n",
       "\n",
       "      merchant_has_profile_picture tags_count  \n",
       "5                                0         10  \n",
       "12                               0          8  \n",
       "42                               0         10  \n",
       "61                               0         10  \n",
       "87                               0          9  \n",
       "95                               0         10  \n",
       "428                              0         10  \n",
       "460                              0         10  \n",
       "476                              0         10  \n",
       "527                              0         10  \n",
       "642                              0         10  \n",
       "663                              0         10  \n",
       "668                              0         10  \n",
       "683                              0         10  \n",
       "701                              0         10  \n",
       "825                              0         10  \n",
       "921                              1         10  \n",
       "929                              0         10  \n",
       "1059                             0         10  \n",
       "1203                             1         10  \n",
       "1211                             1          9  \n",
       "1260                             0         10  \n",
       "1343                             0         10  \n",
       "1365                             0         10  \n",
       "1459                             0         10  \n",
       "1501                             0          8  \n",
       "1526                             0          8  \n",
       "\n",
       "[27 rows x 29 columns]"
      ]
     },
     "execution_count": 174,
     "metadata": {},
     "output_type": "execute_result"
    }
   ],
   "source": [
    "data[data['tags_count'] <= 10]"
   ]
  },
  {
   "cell_type": "markdown",
   "id": "interested-baghdad",
   "metadata": {},
   "source": [
    "the peak is due to 3 observations having 20000 sales each"
   ]
  },
  {
   "cell_type": "code",
   "execution_count": 175,
   "id": "ahead-kruger",
   "metadata": {},
   "outputs": [
    {
     "data": {
      "image/png": "[encoded data removed]",
      "text/plain": [
       "<Figure size 936x720 with 1 Axes>"
      ]
     },
     "metadata": {
      "needs_background": "light"
     },
     "output_type": "display_data"
    }
   ],
   "source": [
    "from wordcloud import WordCloud\n",
    "\n",
    "# following is a single string with all the tags (repetitions included, because we have to form a wordcloud)\n",
    "unique_str = \" \".join(data['tags'].str.lower().str.split(',').sum())\n",
    "wc_fig = plt.gcf()\n",
    "wc_fig.set_size_inches( 13, 10)\n",
    "wordcloud = WordCloud(background_color='white').generate(unique_str) \n",
    "plt.imshow(wordcloud)\n",
    "plt.axis('off')\n",
    "plt.show()"
   ]
  },
  {
   "cell_type": "code",
   "execution_count": 176,
   "id": "planned-transportation",
   "metadata": {},
   "outputs": [],
   "source": [
    "data.drop('tags', axis=1, inplace=True)"
   ]
  },
  {
   "cell_type": "code",
   "execution_count": 177,
   "id": "intensive-prophet",
   "metadata": {},
   "outputs": [
    {
     "data": {
      "text/plain": [
       "array(['M', 'XS', 'S', 'Size-XS', 'M.', 'XXS', 'L', 'XXL', nan, 'S.', 's',\n",
       "       'choose a size', 'XS.', '32/L', 'Suit-S', 'XXXXXL', 'EU 35', '4',\n",
       "       'Size S.', '1m by 3m', '3XL', 'Size S', 'XL', 'Women Size 36',\n",
       "       'US 6.5 (EU 37)', 'XXXS', 'SIZE XS', '26(Waist 72cm 28inch)',\n",
       "       'Size XXS', '29', '1pc', '100 cm', 'One Size', 'SIZE-4XL', '1',\n",
       "       'S/M(child)', '2pcs', 'XXXL', 'S..', '30 cm', '5XL', '33',\n",
       "       'Size M', '100 x 100cm(39.3 x 39.3inch)', '100pcs', '2XL', '4XL',\n",
       "       'SizeL', 'SIZE XXS', 'XXXXL', 'Base & Top & Matte Top Coat',\n",
       "       'size S', '35', '34', 'SIZE-XXS', 'S(bust 88cm)',\n",
       "       'S (waist58-62cm)', 'S(Pink & Black)', '20pcs', 'US-S',\n",
       "       'Size -XXS', 'X   L', 'White', '25', 'Size-S', 'Round',\n",
       "       'Pack of 1', '1 pc.', 'S Diameter 30cm', '6XL',\n",
       "       'AU plug Low quality', '5PAIRS', '25-S', 'Size/S', 'S Pink',\n",
       "       'Size-5XL', 'daughter 24M', '2', 'Baby Float Boat', '10 ml', '60',\n",
       "       'Size-L', 'US5.5-EU35', '10pcs', '17', 'Size-XXS', 'Women Size 37',\n",
       "       '3 layered anklet', '4-5 Years', 'Size4XL', 'first  generation',\n",
       "       '80 X 200 CM', 'EU39(US8)', 'L.', 'Base Coat', '36', '04-3XL',\n",
       "       'pants-S', 'Floating Chair for Kid', '20PCS-10PAIRS', 'B',\n",
       "       'Size--S', '5', '1 PC - XL', 'H01', '40 cm', 'SIZE S'],\n",
       "      dtype=object)"
      ]
     },
     "execution_count": 177,
     "metadata": {},
     "output_type": "execute_result"
    }
   ],
   "source": [
    "data['product_variation_size_id'].unique()"
   ]
  },
  {
   "cell_type": "markdown",
   "id": "affiliated-relay",
   "metadata": {},
   "source": [
    "## <span style='color:blue'>product_variation_size_id</span>"
   ]
  },
  {
   "cell_type": "code",
   "execution_count": 178,
   "id": "laden-winning",
   "metadata": {},
   "outputs": [
    {
     "data": {
      "text/plain": [
       "array(['M', 'XS', 'S', 'Size-XS', 'M.', 'XXS', 'L', 'XXL', nan, 'S.', 's',\n",
       "       'choose a size', 'XS.', '32/L', 'Suit-S', 'XXXXXL', 'EU 35', '4',\n",
       "       'Size S.', '1m by 3m', '3XL', 'Size S', 'XL', 'Women Size 36',\n",
       "       'US 6.5 (EU 37)', 'XXXS', 'SIZE XS', '26(Waist 72cm 28inch)',\n",
       "       'Size XXS', '29', '1pc', '100 cm', 'One Size', 'SIZE-4XL', '1',\n",
       "       'S/M(child)', '2pcs', 'XXXL', 'S..', '30 cm', '5XL', '33',\n",
       "       'Size M', '100 x 100cm(39.3 x 39.3inch)', '100pcs', '2XL', '4XL',\n",
       "       'SizeL', 'SIZE XXS', 'XXXXL', 'Base & Top & Matte Top Coat',\n",
       "       'size S', '35', '34', 'SIZE-XXS', 'S(bust 88cm)',\n",
       "       'S (waist58-62cm)', 'S(Pink & Black)', '20pcs', 'US-S',\n",
       "       'Size -XXS', 'X   L', 'White', '25', 'Size-S', 'Round',\n",
       "       'Pack of 1', '1 pc.', 'S Diameter 30cm', '6XL',\n",
       "       'AU plug Low quality', '5PAIRS', '25-S', 'Size/S', 'S Pink',\n",
       "       'Size-5XL', 'daughter 24M', '2', 'Baby Float Boat', '10 ml', '60',\n",
       "       'Size-L', 'US5.5-EU35', '10pcs', '17', 'Size-XXS', 'Women Size 37',\n",
       "       '3 layered anklet', '4-5 Years', 'Size4XL', 'first  generation',\n",
       "       '80 X 200 CM', 'EU39(US8)', 'L.', 'Base Coat', '36', '04-3XL',\n",
       "       'pants-S', 'Floating Chair for Kid', '20PCS-10PAIRS', 'B',\n",
       "       'Size--S', '5', '1 PC - XL', 'H01', '40 cm', 'SIZE S'],\n",
       "      dtype=object)"
      ]
     },
     "execution_count": 178,
     "metadata": {},
     "output_type": "execute_result"
    }
   ],
   "source": [
    "data['product_variation_size_id'].unique()"
   ]
  },
  {
   "cell_type": "code",
   "execution_count": 179,
   "id": "complimentary-despite",
   "metadata": {},
   "outputs": [],
   "source": [
    "draft = data.copy()"
   ]
  },
  {
   "cell_type": "code",
   "execution_count": 180,
   "id": "alleged-thickness",
   "metadata": {},
   "outputs": [],
   "source": [
    "draft['product_size'] = draft['product_variation_size_id'] \n",
    "draft.drop('product_variation_size_id', axis=1, inplace=True)"
   ]
  },
  {
   "cell_type": "code",
   "execution_count": 181,
   "id": "matched-couple",
   "metadata": {},
   "outputs": [
    {
     "data": {
      "text/plain": [
       "14"
      ]
     },
     "execution_count": 181,
     "metadata": {},
     "output_type": "execute_result"
    }
   ],
   "source": [
    "draft['product_size'].isna().sum()  # missing values"
   ]
  },
  {
   "cell_type": "markdown",
   "id": "optical-colonial",
   "metadata": {},
   "source": [
    "replacing missing values with mode"
   ]
  },
  {
   "cell_type": "code",
   "execution_count": 182,
   "id": "limited-thumb",
   "metadata": {},
   "outputs": [
    {
     "data": {
      "text/plain": [
       "0    S\n",
       "dtype: object"
      ]
     },
     "execution_count": 182,
     "metadata": {},
     "output_type": "execute_result"
    }
   ],
   "source": [
    "draft['product_size'].mode()"
   ]
  },
  {
   "cell_type": "code",
   "execution_count": 183,
   "id": "intended-cosmetic",
   "metadata": {},
   "outputs": [],
   "source": [
    "draft['product_size'].fillna('S', inplace=True)"
   ]
  },
  {
   "cell_type": "code",
   "execution_count": 184,
   "id": "rational-webcam",
   "metadata": {},
   "outputs": [
    {
     "data": {
      "text/plain": [
       "0"
      ]
     },
     "execution_count": 184,
     "metadata": {},
     "output_type": "execute_result"
    }
   ],
   "source": [
    "draft['product_size'].isna().sum()  # missing values filled"
   ]
  },
  {
   "cell_type": "code",
   "execution_count": 185,
   "id": "related-opposition",
   "metadata": {},
   "outputs": [
    {
     "data": {
      "text/plain": [
       "S                644\n",
       "XS               344\n",
       "M                198\n",
       "XXS               94\n",
       "L                 49\n",
       "XL                17\n",
       "S.                16\n",
       "XXL               15\n",
       "XXXS               6\n",
       "s                  5\n",
       "Size S             5\n",
       "XS.                5\n",
       "4XL                5\n",
       "2XL                4\n",
       "Size-XS            4\n",
       "M.                 4\n",
       "SIZE XS            4\n",
       "Size-S             3\n",
       "33                 3\n",
       "34                 3\n",
       "10 ml              3\n",
       "SizeL              3\n",
       "2pcs               3\n",
       "1                  2\n",
       "Size4XL            2\n",
       "Size -XXS          2\n",
       "Size S.            2\n",
       "1 pc.              2\n",
       "XXXXL              2\n",
       "35                 2\n",
       "S Pink             2\n",
       "29                 2\n",
       "size S             2\n",
       "One Size           2\n",
       "5XL                2\n",
       "XXXXXL             2\n",
       "S(bust 88cm)       2\n",
       "SIZE-XXS           2\n",
       "EU 35              2\n",
       "Suit-S             2\n",
       "Size M             2\n",
       "3XL                2\n",
       "20PCS-10PAIRS      1\n",
       "4                  1\n",
       "L.                 1\n",
       "Name: product_size, dtype: int64"
      ]
     },
     "execution_count": 185,
     "metadata": {},
     "output_type": "execute_result"
    }
   ],
   "source": [
    "draft['product_size'].value_counts().head(45)"
   ]
  },
  {
   "cell_type": "code",
   "execution_count": 186,
   "id": "creative-cholesterol",
   "metadata": {},
   "outputs": [],
   "source": [
    "draft['product_size'] = draft['product_size'].str.lower().str.replace('.','').str.replace('size ','').str.replace('size-','')\\\n",
    ".str.replace('size','').str.replace(' size','').str.replace('suit-','').str.replace('size -','').str.replace(' pink','')"
   ]
  },
  {
   "cell_type": "code",
   "execution_count": 187,
   "id": "numeric-canvas",
   "metadata": {},
   "outputs": [
    {
     "data": {
      "text/plain": [
       "s                         683\n",
       "xs                        357\n",
       "m                         204\n",
       "xxs                        99\n",
       "l                          54\n",
       "xl                         17\n",
       "xxl                        15\n",
       "4xl                         8\n",
       "xxxs                        6\n",
       "2xl                         4\n",
       "33                          3\n",
       "10 ml                       3\n",
       "2pcs                        3\n",
       "5xl                         3\n",
       "34                          3\n",
       "eu 35                       2\n",
       "-xxs                        2\n",
       "xxxxl                       2\n",
       "3xl                         2\n",
       "1 pc                        2\n",
       "1                           2\n",
       "one                         2\n",
       "s(bust 88cm)                2\n",
       "35                          2\n",
       "xxxxxl                      2\n",
       "29                          2\n",
       "5pairs                      1\n",
       "1 pc - xl                   1\n",
       "-s                          1\n",
       "pack of 1                   1\n",
       "au plug low quality         1\n",
       "4                           1\n",
       "36                          1\n",
       "daughter 24m                1\n",
       "x   l                       1\n",
       "floating chair for kid      1\n",
       "17                          1\n",
       "us 65 (eu 37)               1\n",
       "6xl                         1\n",
       "s (waist58-62cm)            1\n",
       "5                           1\n",
       "b                           1\n",
       "26(waist 72cm 28inch)       1\n",
       "women 36                    1\n",
       "base coat                   1\n",
       "Name: product_size, dtype: int64"
      ]
     },
     "execution_count": 187,
     "metadata": {},
     "output_type": "execute_result"
    }
   ],
   "source": [
    "draft['product_size'].value_counts().head(45)"
   ]
  },
  {
   "cell_type": "code",
   "execution_count": 188,
   "id": "confidential-invasion",
   "metadata": {},
   "outputs": [],
   "source": [
    "draft['product_size'] = draft['product_size'].str.replace('-','').str.replace(' diameter 30cm','').str.replace('pants-','')\\\n",
    ".str.replace('25-','').str.replace('us-','').str.replace('/','')"
   ]
  },
  {
   "cell_type": "code",
   "execution_count": 189,
   "id": "designing-evidence",
   "metadata": {},
   "outputs": [
    {
     "data": {
      "text/plain": [
       "s                         686\n",
       "xs                        357\n",
       "m                         204\n",
       "xxs                       101\n",
       "l                          54\n",
       "xl                         17\n",
       "xxl                        15\n",
       "4xl                         8\n",
       "xxxs                        6\n",
       "2xl                         4\n",
       "33                          3\n",
       "10 ml                       3\n",
       "2pcs                        3\n",
       "5xl                         3\n",
       "34                          3\n",
       "one                         2\n",
       "29                          2\n",
       "35                          2\n",
       "s(bust 88cm)                2\n",
       "1                           2\n",
       "eu 35                       2\n",
       "3xl                         2\n",
       "1 pc                        2\n",
       "xxxxl                       2\n",
       "xxxxxl                      2\n",
       "32l                         1\n",
       "us55eu35                    1\n",
       "5pairs                      1\n",
       "women 36                    1\n",
       "au plug low quality         1\n",
       "pack of 1                   1\n",
       "base coat                   1\n",
       "26(waist 72cm 28inch)       1\n",
       "b                           1\n",
       "5                           1\n",
       "6xl                         1\n",
       "4                           1\n",
       "us 65 (eu 37)               1\n",
       "17                          1\n",
       "043xl                       1\n",
       "floating chair for kid      1\n",
       "x   l                       1\n",
       "daughter 24m                1\n",
       "36                          1\n",
       "2                           1\n",
       "Name: product_size, dtype: int64"
      ]
     },
     "execution_count": 189,
     "metadata": {},
     "output_type": "execute_result"
    }
   ],
   "source": [
    "draft['product_size'].value_counts().head(45)"
   ]
  },
  {
   "cell_type": "code",
   "execution_count": 190,
   "id": "eleven-purple",
   "metadata": {},
   "outputs": [],
   "source": [
    "draft['product_size'] = draft['product_size'].str.replace('bust 88cm','').str.replace('pink & black','')\\\n",
    ".str.replace('xxl','xl').str.replace('xxxxl','xl').str.replace('xxxxxl','xl').str.replace('4xl','xl')\\\n",
    ".str.replace('5xl','xl').str.replace('3xl','xl').str.replace('xxxs','xxs').str.replace('2xl','xl')\\\n",
    ".str.replace('043','').str.replace('32l','l').str.replace('25s','s').str.replace('pants','')\\\n",
    ".str.replace('1 pc  xl','xl').str.replace('6xl','xl').str.replace('us','').str.replace('0xl','xl')\\\n",
    ".str.replace('x   l','xl')"
   ]
  },
  {
   "cell_type": "code",
   "execution_count": 191,
   "id": "daily-gospel",
   "metadata": {},
   "outputs": [
    {
     "data": {
      "text/plain": [
       "s                              689\n",
       "xs                             357\n",
       "m                              204\n",
       "xxs                            107\n",
       "l                               55\n",
       "xl                              54\n",
       "2pcs                             3\n",
       "34                               3\n",
       "33                               3\n",
       "10 ml                            3\n",
       "s()                              3\n",
       "35                               2\n",
       "xxxl                             2\n",
       "1                                2\n",
       "one                              2\n",
       "1 pc                             2\n",
       "29                               2\n",
       "eu 35                            2\n",
       "2                                1\n",
       "5pairs                           1\n",
       "s (waist5862cm)                  1\n",
       "pack of 1                        1\n",
       "au plug low quality              1\n",
       "3 layered anklet                 1\n",
       "base coat                        1\n",
       "women 36                         1\n",
       "26(waist 72cm 28inch)            1\n",
       "b                                1\n",
       "5                                1\n",
       "eu39(8)                          1\n",
       "4                                1\n",
       "17                               1\n",
       "floating chair for kid           1\n",
       "daughter 24m                     1\n",
       "36                               1\n",
       "xxl                              1\n",
       " 65 (eu 37)                      1\n",
       "40 cm                            1\n",
       "sm(child)                        1\n",
       "04xl                             1\n",
       "20pcs10pairs                     1\n",
       "1m by 3m                         1\n",
       "white                            1\n",
       "55eu35                           1\n",
       "women 37                         1\n",
       "100pcs                           1\n",
       "60                               1\n",
       "round                            1\n",
       "25                               1\n",
       "base & top & matte top coat      1\n",
       "Name: product_size, dtype: int64"
      ]
     },
     "execution_count": 191,
     "metadata": {},
     "output_type": "execute_result"
    }
   ],
   "source": [
    "draft['product_size'].value_counts().head(50)"
   ]
  },
  {
   "cell_type": "markdown",
   "id": "clear-jefferson",
   "metadata": {},
   "source": [
    "need to handle all not readable size and put them in \"other\" category"
   ]
  },
  {
   "cell_type": "code",
   "execution_count": 192,
   "id": "partial-skill",
   "metadata": {},
   "outputs": [],
   "source": [
    "def handle_size(c):\n",
    "    if c in 'xxs,xs,s,m,l,xl'.split(','):\n",
    "        return c\n",
    "    else:\n",
    "        return 'other'"
   ]
  },
  {
   "cell_type": "code",
   "execution_count": 193,
   "id": "imperial-title",
   "metadata": {},
   "outputs": [],
   "source": [
    "draft['product_size'] = draft['product_size'].apply(handle_size)  # all sizes handled and simplified"
   ]
  },
  {
   "cell_type": "code",
   "execution_count": 194,
   "id": "applicable-heather",
   "metadata": {},
   "outputs": [
    {
     "data": {
      "text/plain": [
       "s        689\n",
       "xs       357\n",
       "m        204\n",
       "xxs      107\n",
       "other     73\n",
       "l         55\n",
       "xl        54\n",
       "Name: product_size, dtype: int64"
      ]
     },
     "execution_count": 194,
     "metadata": {},
     "output_type": "execute_result"
    }
   ],
   "source": [
    "draft['product_size'].value_counts()"
   ]
  },
  {
   "cell_type": "code",
   "execution_count": 195,
   "id": "standard-tunnel",
   "metadata": {},
   "outputs": [
    {
     "data": {
      "text/plain": [
       "1539"
      ]
     },
     "execution_count": 195,
     "metadata": {},
     "output_type": "execute_result"
    }
   ],
   "source": [
    "draft['product_size'].value_counts().sum()  # correct"
   ]
  },
  {
   "cell_type": "code",
   "execution_count": 196,
   "id": "english-plane",
   "metadata": {},
   "outputs": [],
   "source": [
    "data = draft.copy()  # back to original dataframe name"
   ]
  },
  {
   "cell_type": "code",
   "execution_count": 197,
   "id": "above-breeding",
   "metadata": {},
   "outputs": [
    {
     "data": {
      "text/plain": [
       "array(['m', 'xs', 's', 'xxs', 'l', 'xl', 'other'], dtype=object)"
      ]
     },
     "execution_count": 197,
     "metadata": {},
     "output_type": "execute_result"
    }
   ],
   "source": [
    "data['product_size'].unique()"
   ]
  },
  {
   "cell_type": "code",
   "execution_count": 198,
   "id": "continuing-stanford",
   "metadata": {},
   "outputs": [
    {
     "data": {
      "text/html": [
       "<div>\n",
       "<style scoped>\n",
       "    .dataframe tbody tr th:only-of-type {\n",
       "        vertical-align: middle;\n",
       "    }\n",
       "\n",
       "    .dataframe tbody tr th {\n",
       "        vertical-align: top;\n",
       "    }\n",
       "\n",
       "    .dataframe thead th {\n",
       "        text-align: right;\n",
       "    }\n",
       "</style>\n",
       "<table border=\"1\" class=\"dataframe\">\n",
       "  <thead>\n",
       "    <tr style=\"text-align: right;\">\n",
       "      <th></th>\n",
       "      <th>product_size</th>\n",
       "      <th>units_sold</th>\n",
       "    </tr>\n",
       "  </thead>\n",
       "  <tbody>\n",
       "    <tr>\n",
       "      <th>3</th>\n",
       "      <td>s</td>\n",
       "      <td>3517908</td>\n",
       "    </tr>\n",
       "    <tr>\n",
       "      <th>1</th>\n",
       "      <td>m</td>\n",
       "      <td>1415337</td>\n",
       "    </tr>\n",
       "    <tr>\n",
       "      <th>5</th>\n",
       "      <td>xs</td>\n",
       "      <td>899189</td>\n",
       "    </tr>\n",
       "    <tr>\n",
       "      <th>0</th>\n",
       "      <td>l</td>\n",
       "      <td>305353</td>\n",
       "    </tr>\n",
       "    <tr>\n",
       "      <th>2</th>\n",
       "      <td>other</td>\n",
       "      <td>248312</td>\n",
       "    </tr>\n",
       "    <tr>\n",
       "      <th>4</th>\n",
       "      <td>xl</td>\n",
       "      <td>236610</td>\n",
       "    </tr>\n",
       "    <tr>\n",
       "      <th>6</th>\n",
       "      <td>xxs</td>\n",
       "      <td>183488</td>\n",
       "    </tr>\n",
       "  </tbody>\n",
       "</table>\n",
       "</div>"
      ],
      "text/plain": [
       "  product_size  units_sold\n",
       "3            s     3517908\n",
       "1            m     1415337\n",
       "5           xs      899189\n",
       "0            l      305353\n",
       "2        other      248312\n",
       "4           xl      236610\n",
       "6          xxs      183488"
      ]
     },
     "execution_count": 198,
     "metadata": {},
     "output_type": "execute_result"
    }
   ],
   "source": [
    "size_sales = data.groupby('product_size').agg('sum')['units_sold'].to_frame() \n",
    "size_sales.reset_index(level=0, inplace=True)\n",
    "size_sales = size_sales.sort_values('units_sold', ascending=False)\n",
    "size_sales"
   ]
  },
  {
   "cell_type": "code",
   "execution_count": 199,
   "id": "native-mystery",
   "metadata": {},
   "outputs": [
    {
     "data": {
      "image/png": "[encoded data removed]",
      "text/plain": [
       "<Figure size 1152x720 with 1 Axes>"
      ]
     },
     "metadata": {
      "needs_background": "light"
     },
     "output_type": "display_data"
    }
   ],
   "source": [
    "size_fig = plt.gcf()\n",
    "size_fig.set_size_inches(16,10)\n",
    "sns.barplot(x='product_size', y='units_sold', data=size_sales);"
   ]
  },
  {
   "cell_type": "markdown",
   "id": "liberal-wright",
   "metadata": {},
   "source": [
    "units sold are expressed in millions.\n",
    "For example, 3.5 million size s items were sold."
   ]
  },
  {
   "cell_type": "code",
   "execution_count": 200,
   "id": "dominant-region",
   "metadata": {},
   "outputs": [
    {
     "data": {
      "image/png": "[encoded data removed]",
      "text/plain": [
       "<Figure size 1152x720 with 1 Axes>"
      ]
     },
     "metadata": {
      "needs_background": "light"
     },
     "output_type": "display_data"
    }
   ],
   "source": [
    "count_size_fig = plt.gcf()\n",
    "count_size_fig.set_size_inches(16,10)\n",
    "sns.countplot('product_size', order = data['product_size'].value_counts().index, data=data)\n",
    "plt.show();"
   ]
  },
  {
   "cell_type": "markdown",
   "id": "compound-official",
   "metadata": {},
   "source": [
    "Items sold only partially reflect the distribution of sizes.\\\n",
    "For example, size m items were less present than xs items, but they collected more sales."
   ]
  },
  {
   "cell_type": "markdown",
   "id": "effective-spoke",
   "metadata": {},
   "source": [
    "## <span style='color:blue'>urgency_text</span>"
   ]
  },
  {
   "cell_type": "code",
   "execution_count": 201,
   "id": "comic-heath",
   "metadata": {},
   "outputs": [
    {
     "data": {
      "text/plain": [
       "Quantité limitée !                  467\n",
       "Réduction sur les achats en gros      1\n",
       "Name: urgency_text, dtype: int64"
      ]
     },
     "execution_count": 201,
     "metadata": {},
     "output_type": "execute_result"
    }
   ],
   "source": [
    "data['urgency_text'].value_counts()"
   ]
  },
  {
   "cell_type": "code",
   "execution_count": 202,
   "id": "surgical-burns",
   "metadata": {},
   "outputs": [],
   "source": [
    "data.drop('urgency_text', axis=1, inplace=True)  # removed"
   ]
  },
  {
   "cell_type": "markdown",
   "id": "running-program",
   "metadata": {},
   "source": [
    "## <span style='color:blue'>shipping_option_name</span>"
   ]
  },
  {
   "cell_type": "code",
   "execution_count": 203,
   "id": "weighted-arcade",
   "metadata": {},
   "outputs": [
    {
     "data": {
      "text/html": [
       "<div>\n",
       "<style scoped>\n",
       "    .dataframe tbody tr th:only-of-type {\n",
       "        vertical-align: middle;\n",
       "    }\n",
       "\n",
       "    .dataframe tbody tr th {\n",
       "        vertical-align: top;\n",
       "    }\n",
       "\n",
       "    .dataframe thead th {\n",
       "        text-align: right;\n",
       "    }\n",
       "</style>\n",
       "<table border=\"1\" class=\"dataframe\">\n",
       "  <thead>\n",
       "    <tr style=\"text-align: right;\">\n",
       "      <th></th>\n",
       "      <th>count</th>\n",
       "      <th>sum</th>\n",
       "    </tr>\n",
       "    <tr>\n",
       "      <th>shipping_option_name</th>\n",
       "      <th></th>\n",
       "      <th></th>\n",
       "    </tr>\n",
       "  </thead>\n",
       "  <tbody>\n",
       "    <tr>\n",
       "      <th>Ekspresowa wysyłka</th>\n",
       "      <td>1</td>\n",
       "      <td>10000</td>\n",
       "    </tr>\n",
       "    <tr>\n",
       "      <th>Envio Padrão</th>\n",
       "      <td>9</td>\n",
       "      <td>22400</td>\n",
       "    </tr>\n",
       "    <tr>\n",
       "      <th>Envío normal</th>\n",
       "      <td>5</td>\n",
       "      <td>16100</td>\n",
       "    </tr>\n",
       "    <tr>\n",
       "      <th>Expediere Standard</th>\n",
       "      <td>6</td>\n",
       "      <td>2400</td>\n",
       "    </tr>\n",
       "    <tr>\n",
       "      <th>Livraison Express</th>\n",
       "      <td>3</td>\n",
       "      <td>1200</td>\n",
       "    </tr>\n",
       "    <tr>\n",
       "      <th>Livraison standard</th>\n",
       "      <td>1474</td>\n",
       "      <td>6591647</td>\n",
       "    </tr>\n",
       "    <tr>\n",
       "      <th>Spedizione standard</th>\n",
       "      <td>2</td>\n",
       "      <td>1100</td>\n",
       "    </tr>\n",
       "    <tr>\n",
       "      <th>Standard Shipping</th>\n",
       "      <td>21</td>\n",
       "      <td>88550</td>\n",
       "    </tr>\n",
       "    <tr>\n",
       "      <th>Standardowa wysyłka</th>\n",
       "      <td>3</td>\n",
       "      <td>30100</td>\n",
       "    </tr>\n",
       "    <tr>\n",
       "      <th>Standardversand</th>\n",
       "      <td>3</td>\n",
       "      <td>300</td>\n",
       "    </tr>\n",
       "    <tr>\n",
       "      <th>Standart Gönderi</th>\n",
       "      <td>2</td>\n",
       "      <td>11000</td>\n",
       "    </tr>\n",
       "    <tr>\n",
       "      <th>Стандартная доставка</th>\n",
       "      <td>3</td>\n",
       "      <td>10100</td>\n",
       "    </tr>\n",
       "    <tr>\n",
       "      <th>الشحن القياسي</th>\n",
       "      <td>4</td>\n",
       "      <td>1300</td>\n",
       "    </tr>\n",
       "    <tr>\n",
       "      <th>การส่งสินค้ามาตรฐาน</th>\n",
       "      <td>2</td>\n",
       "      <td>10000</td>\n",
       "    </tr>\n",
       "    <tr>\n",
       "      <th>ការដឹកជញ្ជូនតាមស្តង់ដារ</th>\n",
       "      <td>1</td>\n",
       "      <td>10000</td>\n",
       "    </tr>\n",
       "  </tbody>\n",
       "</table>\n",
       "</div>"
      ],
      "text/plain": [
       "                         count      sum\n",
       "shipping_option_name                   \n",
       "Ekspresowa wysyłka           1    10000\n",
       "Envio Padrão                 9    22400\n",
       "Envío normal                 5    16100\n",
       "Expediere Standard           6     2400\n",
       "Livraison Express            3     1200\n",
       "Livraison standard        1474  6591647\n",
       "Spedizione standard          2     1100\n",
       "Standard Shipping           21    88550\n",
       "Standardowa wysyłka          3    30100\n",
       "Standardversand              3      300\n",
       "Standart Gönderi             2    11000\n",
       "Стандартная доставка         3    10100\n",
       "الشحن القياسي                4     1300\n",
       "การส่งสินค้ามาตรฐาน          2    10000\n",
       "ការដឹកជញ្ជូនតាមស្តង់ដារ      1    10000"
      ]
     },
     "execution_count": 203,
     "metadata": {},
     "output_type": "execute_result"
    }
   ],
   "source": [
    "data.groupby('shipping_option_name').agg(['count', 'sum'])['units_sold']"
   ]
  },
  {
   "cell_type": "code",
   "execution_count": 204,
   "id": "twelve-washington",
   "metadata": {},
   "outputs": [],
   "source": [
    "data.drop('shipping_option_name', axis=1, inplace=True)  # removed"
   ]
  },
  {
   "cell_type": "markdown",
   "id": "forty-conclusion",
   "metadata": {},
   "source": [
    "## <span style='color:blue'>origin_country</span>"
   ]
  },
  {
   "cell_type": "code",
   "execution_count": 205,
   "id": "experienced-trash",
   "metadata": {},
   "outputs": [
    {
     "data": {
      "text/html": [
       "<div>\n",
       "<style scoped>\n",
       "    .dataframe tbody tr th:only-of-type {\n",
       "        vertical-align: middle;\n",
       "    }\n",
       "\n",
       "    .dataframe tbody tr th {\n",
       "        vertical-align: top;\n",
       "    }\n",
       "\n",
       "    .dataframe thead th {\n",
       "        text-align: right;\n",
       "    }\n",
       "</style>\n",
       "<table border=\"1\" class=\"dataframe\">\n",
       "  <thead>\n",
       "    <tr style=\"text-align: right;\">\n",
       "      <th></th>\n",
       "      <th>count</th>\n",
       "      <th>sum</th>\n",
       "    </tr>\n",
       "    <tr>\n",
       "      <th>origin_country</th>\n",
       "      <th></th>\n",
       "      <th></th>\n",
       "    </tr>\n",
       "  </thead>\n",
       "  <tbody>\n",
       "    <tr>\n",
       "      <th>AT</th>\n",
       "      <td>1</td>\n",
       "      <td>100</td>\n",
       "    </tr>\n",
       "    <tr>\n",
       "      <th>CN</th>\n",
       "      <td>1484</td>\n",
       "      <td>6632337</td>\n",
       "    </tr>\n",
       "    <tr>\n",
       "      <th>GB</th>\n",
       "      <td>1</td>\n",
       "      <td>1000</td>\n",
       "    </tr>\n",
       "    <tr>\n",
       "      <th>SG</th>\n",
       "      <td>2</td>\n",
       "      <td>20100</td>\n",
       "    </tr>\n",
       "    <tr>\n",
       "      <th>US</th>\n",
       "      <td>31</td>\n",
       "      <td>43560</td>\n",
       "    </tr>\n",
       "    <tr>\n",
       "      <th>VE</th>\n",
       "      <td>4</td>\n",
       "      <td>300</td>\n",
       "    </tr>\n",
       "  </tbody>\n",
       "</table>\n",
       "</div>"
      ],
      "text/plain": [
       "                count      sum\n",
       "origin_country                \n",
       "AT                  1      100\n",
       "CN               1484  6632337\n",
       "GB                  1     1000\n",
       "SG                  2    20100\n",
       "US                 31    43560\n",
       "VE                  4      300"
      ]
     },
     "execution_count": 205,
     "metadata": {},
     "output_type": "execute_result"
    }
   ],
   "source": [
    "data.groupby('origin_country').agg(['count', 'sum'])['units_sold']\n"
   ]
  },
  {
   "cell_type": "code",
   "execution_count": 206,
   "id": "determined-humidity",
   "metadata": {},
   "outputs": [
    {
     "data": {
      "text/plain": [
       "16"
      ]
     },
     "execution_count": 206,
     "metadata": {},
     "output_type": "execute_result"
    }
   ],
   "source": [
    "data['origin_country'].isna().sum()  # missing values"
   ]
  },
  {
   "cell_type": "code",
   "execution_count": 207,
   "id": "foreign-slovenia",
   "metadata": {},
   "outputs": [
    {
     "data": {
      "text/plain": [
       "0    CN\n",
       "dtype: object"
      ]
     },
     "execution_count": 207,
     "metadata": {},
     "output_type": "execute_result"
    }
   ],
   "source": [
    "data.origin_country.mode()"
   ]
  },
  {
   "cell_type": "code",
   "execution_count": 208,
   "id": "bridal-winter",
   "metadata": {},
   "outputs": [],
   "source": [
    "data['origin_country'].fillna('CN', inplace=True)"
   ]
  },
  {
   "cell_type": "code",
   "execution_count": 209,
   "id": "superb-french",
   "metadata": {},
   "outputs": [
    {
     "data": {
      "text/plain": [
       "0"
      ]
     },
     "execution_count": 209,
     "metadata": {},
     "output_type": "execute_result"
    }
   ],
   "source": [
    "data['origin_country'].isna().sum()  # correct, no more missing values"
   ]
  },
  {
   "cell_type": "markdown",
   "id": "negative-perth",
   "metadata": {},
   "source": [
    "# processing numerical feature"
   ]
  },
  {
   "cell_type": "code",
   "execution_count": 210,
   "id": "impressed-unknown",
   "metadata": {},
   "outputs": [
    {
     "name": "stdout",
     "output_type": "stream",
     "text": [
      "price\n",
      "retail_price\n",
      "units_sold\n",
      "uses_ad_boosts\n",
      "rating\n",
      "rating_count\n",
      "rating_five_count\n",
      "rating_four_count\n",
      "rating_three_count\n",
      "rating_two_count\n",
      "rating_one_count\n",
      "badges_count\n",
      "badge_local_product\n",
      "badge_product_quality\n",
      "badge_fast_shipping\n",
      "product_variation_inventory\n",
      "shipping_option_price\n",
      "countries_shipped_to\n",
      "has_urgency_banner\n",
      "merchant_rating_count\n",
      "merchant_rating\n",
      "merchant_has_profile_picture\n"
     ]
    }
   ],
   "source": [
    "for f in numerical:\n",
    "    print(f)"
   ]
  },
  {
   "cell_type": "markdown",
   "id": "assigned-annual",
   "metadata": {},
   "source": [
    "## <span style='color:blue'>units_sold</span>\n",
    "target variable"
   ]
  },
  {
   "cell_type": "code",
   "execution_count": 211,
   "id": "green-configuration",
   "metadata": {},
   "outputs": [
    {
     "name": "stdout",
     "output_type": "stream",
     "text": [
      "units_sold has 15 unique categories\n",
      "[   100  20000   5000     10  50000   1000  10000 100000     50      1\n",
      "      7      2      3      8      6]\n"
     ]
    }
   ],
   "source": [
    "inspect_feature(data, 'units_sold')"
   ]
  },
  {
   "cell_type": "code",
   "execution_count": 212,
   "id": "aquatic-cookie",
   "metadata": {},
   "outputs": [
    {
     "data": {
      "text/plain": [
       "1000.0"
      ]
     },
     "execution_count": 212,
     "metadata": {},
     "output_type": "execute_result"
    }
   ],
   "source": [
    "data.units_sold.median()"
   ]
  },
  {
   "cell_type": "markdown",
   "id": "dynamic-worst",
   "metadata": {},
   "source": [
    "creating new feature that I will use as label for classification models:"
   ]
  },
  {
   "cell_type": "code",
   "execution_count": 213,
   "id": "armed-kidney",
   "metadata": {},
   "outputs": [],
   "source": [
    "# if number of sales is above the median, the product is successful (1) otherwise not (0)\n",
    "data['successful'] = data['units_sold'].apply(lambda x: 1 if x > 1000 else 0)"
   ]
  },
  {
   "cell_type": "code",
   "execution_count": 214,
   "id": "parallel-inquiry",
   "metadata": {},
   "outputs": [
    {
     "data": {
      "text/plain": [
       "0    1021\n",
       "1     518\n",
       "Name: successful, dtype: int64"
      ]
     },
     "execution_count": 214,
     "metadata": {},
     "output_type": "execute_result"
    }
   ],
   "source": [
    "data['successful'].value_counts()"
   ]
  },
  {
   "cell_type": "markdown",
   "id": "respective-buffer",
   "metadata": {},
   "source": [
    "## <span style='color:blue'>rating related features</span>"
   ]
  },
  {
   "cell_type": "code",
   "execution_count": 215,
   "id": "civilian-leader",
   "metadata": {},
   "outputs": [
    {
     "name": "stdout",
     "output_type": "stream",
     "text": [
      "rating_five_count feature has 43 missing values\n",
      "rating_four_count feature has 43 missing values\n",
      "rating_three_count feature has 43 missing values\n",
      "rating_two_count feature has 43 missing values\n",
      "rating_one_count feature has 43 missing values\n"
     ]
    }
   ],
   "source": [
    "rating_f = ['rating_five_count', 'rating_four_count', 'rating_three_count', 'rating_two_count', 'rating_one_count']\n",
    "\n",
    "for f in rating_f:\n",
    "    missing = data[f].isna().sum()\n",
    "    print('{} feature has {} missing values'.format(f, missing))"
   ]
  },
  {
   "cell_type": "markdown",
   "id": "polished-prototype",
   "metadata": {},
   "source": [
    "let's check if missing values correspond to rating count zero, as we would expect"
   ]
  },
  {
   "cell_type": "code",
   "execution_count": 216,
   "id": "assured-absorption",
   "metadata": {},
   "outputs": [
    {
     "data": {
      "text/html": [
       "<div>\n",
       "<style scoped>\n",
       "    .dataframe tbody tr th:only-of-type {\n",
       "        vertical-align: middle;\n",
       "    }\n",
       "\n",
       "    .dataframe tbody tr th {\n",
       "        vertical-align: top;\n",
       "    }\n",
       "\n",
       "    .dataframe thead th {\n",
       "        text-align: right;\n",
       "    }\n",
       "</style>\n",
       "<table border=\"1\" class=\"dataframe\">\n",
       "  <thead>\n",
       "    <tr style=\"text-align: right;\">\n",
       "      <th></th>\n",
       "      <th>rating_count</th>\n",
       "      <th>rating</th>\n",
       "    </tr>\n",
       "  </thead>\n",
       "  <tbody>\n",
       "    <tr>\n",
       "      <th>74</th>\n",
       "      <td>0</td>\n",
       "      <td>5.0</td>\n",
       "    </tr>\n",
       "    <tr>\n",
       "      <th>112</th>\n",
       "      <td>0</td>\n",
       "      <td>5.0</td>\n",
       "    </tr>\n",
       "    <tr>\n",
       "      <th>126</th>\n",
       "      <td>0</td>\n",
       "      <td>5.0</td>\n",
       "    </tr>\n",
       "    <tr>\n",
       "      <th>189</th>\n",
       "      <td>0</td>\n",
       "      <td>5.0</td>\n",
       "    </tr>\n",
       "    <tr>\n",
       "      <th>216</th>\n",
       "      <td>0</td>\n",
       "      <td>5.0</td>\n",
       "    </tr>\n",
       "    <tr>\n",
       "      <th>248</th>\n",
       "      <td>0</td>\n",
       "      <td>5.0</td>\n",
       "    </tr>\n",
       "    <tr>\n",
       "      <th>309</th>\n",
       "      <td>0</td>\n",
       "      <td>5.0</td>\n",
       "    </tr>\n",
       "    <tr>\n",
       "      <th>346</th>\n",
       "      <td>0</td>\n",
       "      <td>5.0</td>\n",
       "    </tr>\n",
       "    <tr>\n",
       "      <th>348</th>\n",
       "      <td>0</td>\n",
       "      <td>5.0</td>\n",
       "    </tr>\n",
       "    <tr>\n",
       "      <th>375</th>\n",
       "      <td>0</td>\n",
       "      <td>5.0</td>\n",
       "    </tr>\n",
       "    <tr>\n",
       "      <th>438</th>\n",
       "      <td>0</td>\n",
       "      <td>5.0</td>\n",
       "    </tr>\n",
       "    <tr>\n",
       "      <th>481</th>\n",
       "      <td>0</td>\n",
       "      <td>5.0</td>\n",
       "    </tr>\n",
       "    <tr>\n",
       "      <th>487</th>\n",
       "      <td>0</td>\n",
       "      <td>5.0</td>\n",
       "    </tr>\n",
       "    <tr>\n",
       "      <th>555</th>\n",
       "      <td>0</td>\n",
       "      <td>5.0</td>\n",
       "    </tr>\n",
       "    <tr>\n",
       "      <th>597</th>\n",
       "      <td>0</td>\n",
       "      <td>5.0</td>\n",
       "    </tr>\n",
       "    <tr>\n",
       "      <th>618</th>\n",
       "      <td>0</td>\n",
       "      <td>5.0</td>\n",
       "    </tr>\n",
       "    <tr>\n",
       "      <th>634</th>\n",
       "      <td>0</td>\n",
       "      <td>5.0</td>\n",
       "    </tr>\n",
       "    <tr>\n",
       "      <th>670</th>\n",
       "      <td>0</td>\n",
       "      <td>5.0</td>\n",
       "    </tr>\n",
       "    <tr>\n",
       "      <th>732</th>\n",
       "      <td>0</td>\n",
       "      <td>5.0</td>\n",
       "    </tr>\n",
       "    <tr>\n",
       "      <th>746</th>\n",
       "      <td>0</td>\n",
       "      <td>5.0</td>\n",
       "    </tr>\n",
       "    <tr>\n",
       "      <th>774</th>\n",
       "      <td>0</td>\n",
       "      <td>5.0</td>\n",
       "    </tr>\n",
       "    <tr>\n",
       "      <th>781</th>\n",
       "      <td>0</td>\n",
       "      <td>5.0</td>\n",
       "    </tr>\n",
       "    <tr>\n",
       "      <th>864</th>\n",
       "      <td>0</td>\n",
       "      <td>5.0</td>\n",
       "    </tr>\n",
       "    <tr>\n",
       "      <th>865</th>\n",
       "      <td>0</td>\n",
       "      <td>5.0</td>\n",
       "    </tr>\n",
       "    <tr>\n",
       "      <th>904</th>\n",
       "      <td>0</td>\n",
       "      <td>5.0</td>\n",
       "    </tr>\n",
       "    <tr>\n",
       "      <th>959</th>\n",
       "      <td>0</td>\n",
       "      <td>5.0</td>\n",
       "    </tr>\n",
       "    <tr>\n",
       "      <th>976</th>\n",
       "      <td>0</td>\n",
       "      <td>5.0</td>\n",
       "    </tr>\n",
       "    <tr>\n",
       "      <th>1094</th>\n",
       "      <td>0</td>\n",
       "      <td>5.0</td>\n",
       "    </tr>\n",
       "    <tr>\n",
       "      <th>1117</th>\n",
       "      <td>0</td>\n",
       "      <td>5.0</td>\n",
       "    </tr>\n",
       "    <tr>\n",
       "      <th>1127</th>\n",
       "      <td>0</td>\n",
       "      <td>5.0</td>\n",
       "    </tr>\n",
       "    <tr>\n",
       "      <th>1148</th>\n",
       "      <td>0</td>\n",
       "      <td>5.0</td>\n",
       "    </tr>\n",
       "    <tr>\n",
       "      <th>1156</th>\n",
       "      <td>0</td>\n",
       "      <td>5.0</td>\n",
       "    </tr>\n",
       "    <tr>\n",
       "      <th>1186</th>\n",
       "      <td>0</td>\n",
       "      <td>5.0</td>\n",
       "    </tr>\n",
       "    <tr>\n",
       "      <th>1190</th>\n",
       "      <td>0</td>\n",
       "      <td>5.0</td>\n",
       "    </tr>\n",
       "    <tr>\n",
       "      <th>1192</th>\n",
       "      <td>0</td>\n",
       "      <td>5.0</td>\n",
       "    </tr>\n",
       "    <tr>\n",
       "      <th>1242</th>\n",
       "      <td>0</td>\n",
       "      <td>5.0</td>\n",
       "    </tr>\n",
       "    <tr>\n",
       "      <th>1245</th>\n",
       "      <td>0</td>\n",
       "      <td>5.0</td>\n",
       "    </tr>\n",
       "    <tr>\n",
       "      <th>1270</th>\n",
       "      <td>0</td>\n",
       "      <td>5.0</td>\n",
       "    </tr>\n",
       "    <tr>\n",
       "      <th>1292</th>\n",
       "      <td>0</td>\n",
       "      <td>5.0</td>\n",
       "    </tr>\n",
       "    <tr>\n",
       "      <th>1355</th>\n",
       "      <td>0</td>\n",
       "      <td>5.0</td>\n",
       "    </tr>\n",
       "    <tr>\n",
       "      <th>1468</th>\n",
       "      <td>0</td>\n",
       "      <td>5.0</td>\n",
       "    </tr>\n",
       "    <tr>\n",
       "      <th>1488</th>\n",
       "      <td>0</td>\n",
       "      <td>5.0</td>\n",
       "    </tr>\n",
       "    <tr>\n",
       "      <th>1532</th>\n",
       "      <td>0</td>\n",
       "      <td>5.0</td>\n",
       "    </tr>\n",
       "  </tbody>\n",
       "</table>\n",
       "</div>"
      ],
      "text/plain": [
       "      rating_count  rating\n",
       "74               0     5.0\n",
       "112              0     5.0\n",
       "126              0     5.0\n",
       "189              0     5.0\n",
       "216              0     5.0\n",
       "248              0     5.0\n",
       "309              0     5.0\n",
       "346              0     5.0\n",
       "348              0     5.0\n",
       "375              0     5.0\n",
       "438              0     5.0\n",
       "481              0     5.0\n",
       "487              0     5.0\n",
       "555              0     5.0\n",
       "597              0     5.0\n",
       "618              0     5.0\n",
       "634              0     5.0\n",
       "670              0     5.0\n",
       "732              0     5.0\n",
       "746              0     5.0\n",
       "774              0     5.0\n",
       "781              0     5.0\n",
       "864              0     5.0\n",
       "865              0     5.0\n",
       "904              0     5.0\n",
       "959              0     5.0\n",
       "976              0     5.0\n",
       "1094             0     5.0\n",
       "1117             0     5.0\n",
       "1127             0     5.0\n",
       "1148             0     5.0\n",
       "1156             0     5.0\n",
       "1186             0     5.0\n",
       "1190             0     5.0\n",
       "1192             0     5.0\n",
       "1242             0     5.0\n",
       "1245             0     5.0\n",
       "1270             0     5.0\n",
       "1292             0     5.0\n",
       "1355             0     5.0\n",
       "1468             0     5.0\n",
       "1488             0     5.0\n",
       "1532             0     5.0"
      ]
     },
     "execution_count": 216,
     "metadata": {},
     "output_type": "execute_result"
    }
   ],
   "source": [
    "rating_feature = 'rating_five_count'  # change this to check others\n",
    "data.loc[data[rating_feature].isna()][['rating_count', 'rating']]"
   ]
  },
  {
   "cell_type": "markdown",
   "id": "confused-luther",
   "metadata": {},
   "source": [
    "as expected, missing values are zeros, let's fill them.\n",
    "Also, the rating for those is 5 which is not reasonable, let's replace with zero."
   ]
  },
  {
   "cell_type": "code",
   "execution_count": 217,
   "id": "stunning-thomas",
   "metadata": {},
   "outputs": [],
   "source": [
    "data.update(data[['rating_five_count', 'rating_four_count', 'rating_three_count', 'rating_two_count', 'rating_one_count']]\\\n",
    "           .fillna(0))\n",
    "\n",
    "data.loc[data['rating_count'] == 0, 'rating'] = 0  # assigning rating zero to all products without ratings"
   ]
  },
  {
   "cell_type": "code",
   "execution_count": 218,
   "id": "voluntary-ozone",
   "metadata": {},
   "outputs": [
    {
     "data": {
      "text/html": [
       "<div>\n",
       "<style scoped>\n",
       "    .dataframe tbody tr th:only-of-type {\n",
       "        vertical-align: middle;\n",
       "    }\n",
       "\n",
       "    .dataframe tbody tr th {\n",
       "        vertical-align: top;\n",
       "    }\n",
       "\n",
       "    .dataframe thead th {\n",
       "        text-align: right;\n",
       "    }\n",
       "</style>\n",
       "<table border=\"1\" class=\"dataframe\">\n",
       "  <thead>\n",
       "    <tr style=\"text-align: right;\">\n",
       "      <th></th>\n",
       "      <th>rating_five_count</th>\n",
       "      <th>rating_four_count</th>\n",
       "      <th>rating_three_count</th>\n",
       "      <th>rating_two_count</th>\n",
       "      <th>rating_one_count</th>\n",
       "    </tr>\n",
       "  </thead>\n",
       "  <tbody>\n",
       "    <tr>\n",
       "      <th>0</th>\n",
       "      <td>26.0</td>\n",
       "      <td>8.0</td>\n",
       "      <td>10.0</td>\n",
       "      <td>1.0</td>\n",
       "      <td>9.0</td>\n",
       "    </tr>\n",
       "    <tr>\n",
       "      <th>1</th>\n",
       "      <td>2269.0</td>\n",
       "      <td>1027.0</td>\n",
       "      <td>1118.0</td>\n",
       "      <td>644.0</td>\n",
       "      <td>1077.0</td>\n",
       "    </tr>\n",
       "    <tr>\n",
       "      <th>2</th>\n",
       "      <td>5.0</td>\n",
       "      <td>4.0</td>\n",
       "      <td>2.0</td>\n",
       "      <td>0.0</td>\n",
       "      <td>3.0</td>\n",
       "    </tr>\n",
       "    <tr>\n",
       "      <th>3</th>\n",
       "      <td>295.0</td>\n",
       "      <td>119.0</td>\n",
       "      <td>87.0</td>\n",
       "      <td>42.0</td>\n",
       "      <td>36.0</td>\n",
       "    </tr>\n",
       "    <tr>\n",
       "      <th>4</th>\n",
       "      <td>6.0</td>\n",
       "      <td>4.0</td>\n",
       "      <td>2.0</td>\n",
       "      <td>2.0</td>\n",
       "      <td>6.0</td>\n",
       "    </tr>\n",
       "  </tbody>\n",
       "</table>\n",
       "</div>"
      ],
      "text/plain": [
       "   rating_five_count  rating_four_count  rating_three_count  rating_two_count  \\\n",
       "0               26.0                8.0                10.0               1.0   \n",
       "1             2269.0             1027.0              1118.0             644.0   \n",
       "2                5.0                4.0                 2.0               0.0   \n",
       "3              295.0              119.0                87.0              42.0   \n",
       "4                6.0                4.0                 2.0               2.0   \n",
       "\n",
       "   rating_one_count  \n",
       "0               9.0  \n",
       "1            1077.0  \n",
       "2               3.0  \n",
       "3              36.0  \n",
       "4               6.0  "
      ]
     },
     "execution_count": 218,
     "metadata": {},
     "output_type": "execute_result"
    }
   ],
   "source": [
    "data[['rating_five_count', 'rating_four_count', 'rating_three_count', 'rating_two_count', 'rating_one_count']].head()"
   ]
  },
  {
   "cell_type": "markdown",
   "id": "clinical-indie",
   "metadata": {},
   "source": [
    "we saw that rating related features all have high correlations with units sold,\\\n",
    "although this makes sense with high rating, it does not with products rated one or two,\\\n",
    "because they should not be successful.\n",
    "\n",
    "For this reason we need to normalise those features.\\\n",
    "In fact, the high correlation for low rating products might be explained by the fact that typically a product\\\n",
    "is rated once it has been purchased.\\\n",
    "Normalising them will make it possible to retrieve proportions which make more sense for the classification."
   ]
  },
  {
   "cell_type": "code",
   "execution_count": 219,
   "id": "fatal-bermuda",
   "metadata": {},
   "outputs": [
    {
     "data": {
      "image/png": "[encoded data removed]",
      "text/plain": [
       "<Figure size 432x288 with 1 Axes>"
      ]
     },
     "metadata": {
      "needs_background": "light"
     },
     "output_type": "display_data"
    }
   ],
   "source": [
    "sns.barplot(x='successful', y='rating_one_count', data=data);"
   ]
  },
  {
   "cell_type": "code",
   "execution_count": 220,
   "id": "aggregate-sterling",
   "metadata": {},
   "outputs": [
    {
     "data": {
      "image/png": "[encoded data removed]",
      "text/plain": [
       "<Figure size 432x288 with 1 Axes>"
      ]
     },
     "metadata": {
      "needs_background": "light"
     },
     "output_type": "display_data"
    }
   ],
   "source": [
    "sns.barplot(x='successful', y='rating_five_count', data=data);"
   ]
  },
  {
   "cell_type": "markdown",
   "id": "informative-scholarship",
   "metadata": {},
   "source": [
    "Above we see that the chance of being successful for product with one star rating is equal to those with five stars.\n",
    "\n",
    "Let's normalise:"
   ]
  },
  {
   "cell_type": "code",
   "execution_count": 221,
   "id": "running-melbourne",
   "metadata": {},
   "outputs": [],
   "source": [
    "data['rating_one_count_prop'] = data['rating_one_count'] / data['rating_count']\n",
    "data['rating_two_count_prop'] = data['rating_two_count'] / data['rating_count']\n",
    "data['rating_three_count_prop'] = data['rating_three_count'] / data['rating_count']\n",
    "data['rating_four_count_prop'] = data['rating_four_count'] / data['rating_count']\n",
    "data['rating_five_count_prop'] = data['rating_five_count'] / data['rating_count']"
   ]
  },
  {
   "cell_type": "code",
   "execution_count": 222,
   "id": "collected-patch",
   "metadata": {},
   "outputs": [],
   "source": [
    "# removing nan values due to dividing by zero (for those products with zero ratings)\n",
    "data.update(data[['rating_one_count_prop','rating_two_count_prop','rating_three_count_prop','rating_four_count_prop'\\\n",
    "                 ,'rating_five_count_prop']].fillna(0))"
   ]
  },
  {
   "cell_type": "markdown",
   "id": "coordinated-salad",
   "metadata": {},
   "source": [
    "Let's recheck the bar plots now:"
   ]
  },
  {
   "cell_type": "code",
   "execution_count": 223,
   "id": "social-lodge",
   "metadata": {},
   "outputs": [
    {
     "data": {
      "image/png": "[encoded data removed]",
      "text/plain": [
       "<Figure size 432x288 with 1 Axes>"
      ]
     },
     "metadata": {
      "needs_background": "light"
     },
     "output_type": "display_data"
    }
   ],
   "source": [
    "sns.barplot(x='successful', y='rating_one_count_prop', data=data);"
   ]
  },
  {
   "cell_type": "code",
   "execution_count": 224,
   "id": "medium-elephant",
   "metadata": {},
   "outputs": [
    {
     "data": {
      "image/png": "[encoded data removed]",
      "text/plain": [
       "<Figure size 432x288 with 1 Axes>"
      ]
     },
     "metadata": {
      "needs_background": "light"
     },
     "output_type": "display_data"
    }
   ],
   "source": [
    "sns.barplot(x='successful', y='rating_five_count_prop', data=data);"
   ]
  },
  {
   "cell_type": "markdown",
   "id": "instructional-selling",
   "metadata": {},
   "source": [
    "Now we see the difference: products with rating five have more chances to be successful,\\\n",
    "while products with one star rating are more likely to be NOT successful."
   ]
  },
  {
   "cell_type": "code",
   "execution_count": 225,
   "id": "liable-albuquerque",
   "metadata": {},
   "outputs": [],
   "source": [
    "# removing the rating count absolute values that we do not need anymore\n",
    "data.drop(columns=['rating_five_count', 'rating_four_count', 'rating_three_count', 'rating_two_count', 'rating_one_count'],\\\n",
    "         inplace=True)"
   ]
  },
  {
   "cell_type": "markdown",
   "id": "introductory-diamond",
   "metadata": {},
   "source": [
    "## <span style='color:blue'>merchant_has_profile_picture</span>"
   ]
  },
  {
   "cell_type": "code",
   "execution_count": 226,
   "id": "forty-commander",
   "metadata": {},
   "outputs": [
    {
     "data": {
      "image/png": "[encoded data removed]",
      "text/plain": [
       "<Figure size 1152x720 with 1 Axes>"
      ]
     },
     "metadata": {
      "needs_background": "light"
     },
     "output_type": "display_data"
    }
   ],
   "source": [
    "prof_fig = plt.gcf()\n",
    "prof_fig.set_size_inches( 16, 10)\n",
    "sns.countplot(data=data, x='merchant_has_profile_picture', hue='successful');"
   ]
  },
  {
   "cell_type": "markdown",
   "id": "defensive-hierarchy",
   "metadata": {},
   "source": [
    "if the merchant has a profile picture, the chances of its product being successful increase"
   ]
  },
  {
   "cell_type": "markdown",
   "id": "southeast-bonus",
   "metadata": {},
   "source": [
    "## <span style='color:blue'>merchant_rating</span>"
   ]
  },
  {
   "cell_type": "code",
   "execution_count": 227,
   "id": "sublime-burst",
   "metadata": {},
   "outputs": [],
   "source": [
    "# mer_fig = plt.gcf()\n",
    "# mer_fig.set_size_inches(16,10)\n",
    "# sns.violinplot(data=data, y='merchant_rating', x='successful');"
   ]
  },
  {
   "cell_type": "markdown",
   "id": "future-spell",
   "metadata": {},
   "source": [
    "we see that the distribution of the average rating in successful product is different than the one \\\n",
    "of less successful product: for successful product it does not go below 3.7, while for unsuccessful ones\n",
    "is skewed towards lower values. "
   ]
  },
  {
   "cell_type": "markdown",
   "id": "automatic-capability",
   "metadata": {},
   "source": [
    "## <span style='color:blue'>merchant_rating</span>"
   ]
  },
  {
   "cell_type": "code",
   "execution_count": 228,
   "id": "amateur-hormone",
   "metadata": {},
   "outputs": [
    {
     "data": {
      "text/plain": [
       "1.0    468\n",
       "Name: has_urgency_banner, dtype: int64"
      ]
     },
     "execution_count": 228,
     "metadata": {},
     "output_type": "execute_result"
    }
   ],
   "source": [
    "data['has_urgency_banner'].value_counts()"
   ]
  },
  {
   "cell_type": "code",
   "execution_count": 229,
   "id": "plastic-logan",
   "metadata": {},
   "outputs": [],
   "source": [
    "data.update(data['has_urgency_banner'].fillna(0))  # fill missing values with 0 category (no urgency banner)"
   ]
  },
  {
   "cell_type": "code",
   "execution_count": 230,
   "id": "lined-liberal",
   "metadata": {},
   "outputs": [
    {
     "data": {
      "text/plain": [
       "0.0    1071\n",
       "1.0     468\n",
       "Name: has_urgency_banner, dtype: int64"
      ]
     },
     "execution_count": 230,
     "metadata": {},
     "output_type": "execute_result"
    }
   ],
   "source": [
    "data['has_urgency_banner'].value_counts()"
   ]
  },
  {
   "cell_type": "markdown",
   "id": "armed-ground",
   "metadata": {},
   "source": [
    "## <span style='color:blue'>badge features</span>"
   ]
  },
  {
   "cell_type": "code",
   "execution_count": 231,
   "id": "legendary-calculator",
   "metadata": {},
   "outputs": [
    {
     "data": {
      "text/plain": [
       "0    1510\n",
       "1      29\n",
       "Name: badge_local_product, dtype: int64"
      ]
     },
     "execution_count": 231,
     "metadata": {},
     "output_type": "execute_result"
    }
   ],
   "source": [
    "data['badge_local_product'].value_counts()"
   ]
  },
  {
   "cell_type": "code",
   "execution_count": 232,
   "id": "celtic-outline",
   "metadata": {},
   "outputs": [
    {
     "data": {
      "text/plain": [
       "0    1519\n",
       "1      20\n",
       "Name: badge_fast_shipping, dtype: int64"
      ]
     },
     "execution_count": 232,
     "metadata": {},
     "output_type": "execute_result"
    }
   ],
   "source": [
    "data['badge_fast_shipping'].value_counts()"
   ]
  },
  {
   "cell_type": "markdown",
   "id": "straight-consortium",
   "metadata": {},
   "source": [
    "removing those as the positive class is very rare for both"
   ]
  },
  {
   "cell_type": "code",
   "execution_count": 233,
   "id": "pretty-radio",
   "metadata": {},
   "outputs": [],
   "source": [
    "data.drop(columns=['badge_local_product', 'badge_fast_shipping'], inplace=True)"
   ]
  },
  {
   "cell_type": "markdown",
   "id": "desirable-sleep",
   "metadata": {},
   "source": [
    "# Data Engineering (preparation)"
   ]
  },
  {
   "cell_type": "markdown",
   "id": "intermediate-niger",
   "metadata": {},
   "source": [
    "numerical features will be scaled,\\\n",
    "while categorical features will be encoded"
   ]
  },
  {
   "cell_type": "code",
   "execution_count": 234,
   "id": "flying-execution",
   "metadata": {},
   "outputs": [],
   "source": [
    "numerical = []\n",
    "categorical = []\n",
    "\n",
    "for feature in data.columns:\n",
    "    if data[feature].dtype == 'object':\n",
    "        categorical.append(feature)\n",
    "    else:\n",
    "        numerical.append(feature)"
   ]
  },
  {
   "cell_type": "code",
   "execution_count": 235,
   "id": "criminal-environment",
   "metadata": {},
   "outputs": [
    {
     "data": {
      "text/plain": [
       "['product_color', 'origin_country', 'product_size']"
      ]
     },
     "execution_count": 235,
     "metadata": {},
     "output_type": "execute_result"
    }
   ],
   "source": [
    "categorical"
   ]
  },
  {
   "cell_type": "code",
   "execution_count": 236,
   "id": "lonely-detroit",
   "metadata": {},
   "outputs": [
    {
     "data": {
      "text/plain": [
       "'price, retail_price, units_sold, uses_ad_boosts, rating, rating_count, badges_count, badge_product_quality, product_variation_inventory, shipping_option_price, countries_shipped_to, has_urgency_banner, merchant_rating_count, merchant_rating, merchant_has_profile_picture, tags_count, successful, rating_one_count_prop, rating_two_count_prop, rating_three_count_prop, rating_four_count_prop, rating_five_count_prop'"
      ]
     },
     "execution_count": 236,
     "metadata": {},
     "output_type": "execute_result"
    }
   ],
   "source": [
    "', '.join(numerical)"
   ]
  },
  {
   "cell_type": "markdown",
   "id": "serious-sailing",
   "metadata": {},
   "source": [
    "creating dummy variables for the three categorical features:"
   ]
  },
  {
   "cell_type": "code",
   "execution_count": 237,
   "id": "experienced-drill",
   "metadata": {},
   "outputs": [],
   "source": [
    "draft = pd.get_dummies(data, columns=['product_color'], prefix='color_', drop_first=True)"
   ]
  },
  {
   "cell_type": "code",
   "execution_count": 238,
   "id": "conscious-praise",
   "metadata": {},
   "outputs": [],
   "source": [
    "draft = pd.get_dummies(draft, columns=['origin_country'], prefix='origin_', drop_first=True)"
   ]
  },
  {
   "cell_type": "code",
   "execution_count": 239,
   "id": "exotic-target",
   "metadata": {},
   "outputs": [],
   "source": [
    "draft = pd.get_dummies(draft, columns=['product_size'], prefix='size_', drop_first=True)"
   ]
  },
  {
   "cell_type": "code",
   "execution_count": 240,
   "id": "unknown-metadata",
   "metadata": {},
   "outputs": [
    {
     "data": {
      "text/plain": [
       "47"
      ]
     },
     "execution_count": 240,
     "metadata": {},
     "output_type": "execute_result"
    }
   ],
   "source": [
    "len(draft.columns)"
   ]
  },
  {
   "cell_type": "code",
   "execution_count": 241,
   "id": "rubber-remove",
   "metadata": {},
   "outputs": [
    {
     "data": {
      "text/plain": [
       "price                           float64\n",
       "retail_price                      int64\n",
       "units_sold                        int64\n",
       "uses_ad_boosts                    int64\n",
       "rating                          float64\n",
       "rating_count                      int64\n",
       "badges_count                      int64\n",
       "badge_product_quality             int64\n",
       "product_variation_inventory       int64\n",
       "shipping_option_price             int64\n",
       "countries_shipped_to              int64\n",
       "has_urgency_banner              float64\n",
       "merchant_rating_count             int64\n",
       "merchant_rating                 float64\n",
       "merchant_has_profile_picture      int64\n",
       "tags_count                        int64\n",
       "successful                        int64\n",
       "rating_one_count_prop           float64\n",
       "rating_two_count_prop           float64\n",
       "rating_three_count_prop         float64\n",
       "rating_four_count_prop          float64\n",
       "rating_five_count_prop          float64\n",
       "color__blue                       uint8\n",
       "color__brown                      uint8\n",
       "color__floral                     uint8\n",
       "color__green                      uint8\n",
       "color__grey                       uint8\n",
       "color__leopardprint               uint8\n",
       "color__multicolor                 uint8\n",
       "color__orange                     uint8\n",
       "color__others                     uint8\n",
       "color__pink                       uint8\n",
       "color__purple                     uint8\n",
       "color__red                        uint8\n",
       "color__white                      uint8\n",
       "color__yellow                     uint8\n",
       "origin__CN                        uint8\n",
       "origin__GB                        uint8\n",
       "origin__SG                        uint8\n",
       "origin__US                        uint8\n",
       "origin__VE                        uint8\n",
       "size__m                           uint8\n",
       "size__other                       uint8\n",
       "size__s                           uint8\n",
       "size__xl                          uint8\n",
       "size__xs                          uint8\n",
       "size__xxs                         uint8\n",
       "dtype: object"
      ]
     },
     "execution_count": 241,
     "metadata": {},
     "output_type": "execute_result"
    }
   ],
   "source": [
    "draft.dtypes"
   ]
  },
  {
   "cell_type": "code",
   "execution_count": 242,
   "id": "plain-polyester",
   "metadata": {},
   "outputs": [],
   "source": [
    "data = draft.copy()"
   ]
  },
  {
   "cell_type": "code",
   "execution_count": 243,
   "id": "refined-gross",
   "metadata": {},
   "outputs": [
    {
     "data": {
      "text/html": [
       "<div>\n",
       "<style scoped>\n",
       "    .dataframe tbody tr th:only-of-type {\n",
       "        vertical-align: middle;\n",
       "    }\n",
       "\n",
       "    .dataframe tbody tr th {\n",
       "        vertical-align: top;\n",
       "    }\n",
       "\n",
       "    .dataframe thead th {\n",
       "        text-align: right;\n",
       "    }\n",
       "</style>\n",
       "<table border=\"1\" class=\"dataframe\">\n",
       "  <thead>\n",
       "    <tr style=\"text-align: right;\">\n",
       "      <th></th>\n",
       "      <th>0</th>\n",
       "    </tr>\n",
       "  </thead>\n",
       "  <tbody>\n",
       "    <tr>\n",
       "      <th>price</th>\n",
       "      <td>False</td>\n",
       "    </tr>\n",
       "    <tr>\n",
       "      <th>retail_price</th>\n",
       "      <td>False</td>\n",
       "    </tr>\n",
       "    <tr>\n",
       "      <th>units_sold</th>\n",
       "      <td>False</td>\n",
       "    </tr>\n",
       "    <tr>\n",
       "      <th>uses_ad_boosts</th>\n",
       "      <td>False</td>\n",
       "    </tr>\n",
       "    <tr>\n",
       "      <th>rating</th>\n",
       "      <td>False</td>\n",
       "    </tr>\n",
       "    <tr>\n",
       "      <th>rating_count</th>\n",
       "      <td>False</td>\n",
       "    </tr>\n",
       "    <tr>\n",
       "      <th>badges_count</th>\n",
       "      <td>False</td>\n",
       "    </tr>\n",
       "    <tr>\n",
       "      <th>badge_product_quality</th>\n",
       "      <td>False</td>\n",
       "    </tr>\n",
       "    <tr>\n",
       "      <th>product_variation_inventory</th>\n",
       "      <td>False</td>\n",
       "    </tr>\n",
       "    <tr>\n",
       "      <th>shipping_option_price</th>\n",
       "      <td>False</td>\n",
       "    </tr>\n",
       "    <tr>\n",
       "      <th>countries_shipped_to</th>\n",
       "      <td>False</td>\n",
       "    </tr>\n",
       "    <tr>\n",
       "      <th>has_urgency_banner</th>\n",
       "      <td>False</td>\n",
       "    </tr>\n",
       "    <tr>\n",
       "      <th>merchant_rating_count</th>\n",
       "      <td>False</td>\n",
       "    </tr>\n",
       "    <tr>\n",
       "      <th>merchant_rating</th>\n",
       "      <td>False</td>\n",
       "    </tr>\n",
       "    <tr>\n",
       "      <th>merchant_has_profile_picture</th>\n",
       "      <td>False</td>\n",
       "    </tr>\n",
       "    <tr>\n",
       "      <th>tags_count</th>\n",
       "      <td>False</td>\n",
       "    </tr>\n",
       "    <tr>\n",
       "      <th>successful</th>\n",
       "      <td>False</td>\n",
       "    </tr>\n",
       "    <tr>\n",
       "      <th>rating_one_count_prop</th>\n",
       "      <td>False</td>\n",
       "    </tr>\n",
       "    <tr>\n",
       "      <th>rating_two_count_prop</th>\n",
       "      <td>False</td>\n",
       "    </tr>\n",
       "    <tr>\n",
       "      <th>rating_three_count_prop</th>\n",
       "      <td>False</td>\n",
       "    </tr>\n",
       "    <tr>\n",
       "      <th>rating_four_count_prop</th>\n",
       "      <td>False</td>\n",
       "    </tr>\n",
       "    <tr>\n",
       "      <th>rating_five_count_prop</th>\n",
       "      <td>False</td>\n",
       "    </tr>\n",
       "    <tr>\n",
       "      <th>color__blue</th>\n",
       "      <td>False</td>\n",
       "    </tr>\n",
       "    <tr>\n",
       "      <th>color__brown</th>\n",
       "      <td>False</td>\n",
       "    </tr>\n",
       "    <tr>\n",
       "      <th>color__floral</th>\n",
       "      <td>False</td>\n",
       "    </tr>\n",
       "    <tr>\n",
       "      <th>color__green</th>\n",
       "      <td>False</td>\n",
       "    </tr>\n",
       "    <tr>\n",
       "      <th>color__grey</th>\n",
       "      <td>False</td>\n",
       "    </tr>\n",
       "    <tr>\n",
       "      <th>color__leopardprint</th>\n",
       "      <td>False</td>\n",
       "    </tr>\n",
       "    <tr>\n",
       "      <th>color__multicolor</th>\n",
       "      <td>False</td>\n",
       "    </tr>\n",
       "    <tr>\n",
       "      <th>color__orange</th>\n",
       "      <td>False</td>\n",
       "    </tr>\n",
       "    <tr>\n",
       "      <th>color__others</th>\n",
       "      <td>False</td>\n",
       "    </tr>\n",
       "    <tr>\n",
       "      <th>color__pink</th>\n",
       "      <td>False</td>\n",
       "    </tr>\n",
       "    <tr>\n",
       "      <th>color__purple</th>\n",
       "      <td>False</td>\n",
       "    </tr>\n",
       "    <tr>\n",
       "      <th>color__red</th>\n",
       "      <td>False</td>\n",
       "    </tr>\n",
       "    <tr>\n",
       "      <th>color__white</th>\n",
       "      <td>False</td>\n",
       "    </tr>\n",
       "    <tr>\n",
       "      <th>color__yellow</th>\n",
       "      <td>False</td>\n",
       "    </tr>\n",
       "    <tr>\n",
       "      <th>origin__CN</th>\n",
       "      <td>False</td>\n",
       "    </tr>\n",
       "    <tr>\n",
       "      <th>origin__GB</th>\n",
       "      <td>False</td>\n",
       "    </tr>\n",
       "    <tr>\n",
       "      <th>origin__SG</th>\n",
       "      <td>False</td>\n",
       "    </tr>\n",
       "    <tr>\n",
       "      <th>origin__US</th>\n",
       "      <td>False</td>\n",
       "    </tr>\n",
       "    <tr>\n",
       "      <th>origin__VE</th>\n",
       "      <td>False</td>\n",
       "    </tr>\n",
       "    <tr>\n",
       "      <th>size__m</th>\n",
       "      <td>False</td>\n",
       "    </tr>\n",
       "    <tr>\n",
       "      <th>size__other</th>\n",
       "      <td>False</td>\n",
       "    </tr>\n",
       "    <tr>\n",
       "      <th>size__s</th>\n",
       "      <td>False</td>\n",
       "    </tr>\n",
       "    <tr>\n",
       "      <th>size__xl</th>\n",
       "      <td>False</td>\n",
       "    </tr>\n",
       "    <tr>\n",
       "      <th>size__xs</th>\n",
       "      <td>False</td>\n",
       "    </tr>\n",
       "    <tr>\n",
       "      <th>size__xxs</th>\n",
       "      <td>False</td>\n",
       "    </tr>\n",
       "  </tbody>\n",
       "</table>\n",
       "</div>"
      ],
      "text/plain": [
       "                                  0\n",
       "price                         False\n",
       "retail_price                  False\n",
       "units_sold                    False\n",
       "uses_ad_boosts                False\n",
       "rating                        False\n",
       "rating_count                  False\n",
       "badges_count                  False\n",
       "badge_product_quality         False\n",
       "product_variation_inventory   False\n",
       "shipping_option_price         False\n",
       "countries_shipped_to          False\n",
       "has_urgency_banner            False\n",
       "merchant_rating_count         False\n",
       "merchant_rating               False\n",
       "merchant_has_profile_picture  False\n",
       "tags_count                    False\n",
       "successful                    False\n",
       "rating_one_count_prop         False\n",
       "rating_two_count_prop         False\n",
       "rating_three_count_prop       False\n",
       "rating_four_count_prop        False\n",
       "rating_five_count_prop        False\n",
       "color__blue                   False\n",
       "color__brown                  False\n",
       "color__floral                 False\n",
       "color__green                  False\n",
       "color__grey                   False\n",
       "color__leopardprint           False\n",
       "color__multicolor             False\n",
       "color__orange                 False\n",
       "color__others                 False\n",
       "color__pink                   False\n",
       "color__purple                 False\n",
       "color__red                    False\n",
       "color__white                  False\n",
       "color__yellow                 False\n",
       "origin__CN                    False\n",
       "origin__GB                    False\n",
       "origin__SG                    False\n",
       "origin__US                    False\n",
       "origin__VE                    False\n",
       "size__m                       False\n",
       "size__other                   False\n",
       "size__s                       False\n",
       "size__xl                      False\n",
       "size__xs                      False\n",
       "size__xxs                     False"
      ]
     },
     "execution_count": 243,
     "metadata": {},
     "output_type": "execute_result"
    }
   ],
   "source": [
    "data.isna().any().to_frame()  # no missing values"
   ]
  },
  {
   "cell_type": "markdown",
   "id": "brave-requirement",
   "metadata": {},
   "source": [
    "# BINARY CLASSIFICATION\n",
    "predicting if product is successful or not"
   ]
  },
  {
   "cell_type": "code",
   "execution_count": 244,
   "id": "confused-deviation",
   "metadata": {},
   "outputs": [],
   "source": [
    "data1 = data.copy()"
   ]
  },
  {
   "cell_type": "markdown",
   "id": "significant-metadata",
   "metadata": {},
   "source": [
    "## Train, Test sets"
   ]
  },
  {
   "cell_type": "markdown",
   "id": "prospective-premium",
   "metadata": {},
   "source": [
    "I am going to create a training and testing set for both predictors and the label.\\\n",
    "Here I am focusing on the classification task of predicting whether a product is successful or not.\n",
    "\n",
    "The following code takes as parameters the predictors dataset and the label, returning for each of them\\\n",
    "a training and a testing set."
   ]
  },
  {
   "cell_type": "code",
   "execution_count": 245,
   "id": "occasional-watts",
   "metadata": {},
   "outputs": [
    {
     "data": {
      "text/plain": [
       "successful\n",
       "0             1021\n",
       "1              518\n",
       "dtype: int64"
      ]
     },
     "execution_count": 245,
     "metadata": {},
     "output_type": "execute_result"
    }
   ],
   "source": [
    "data1['successful'].to_frame().value_counts()"
   ]
  },
  {
   "cell_type": "code",
   "execution_count": 246,
   "id": "catholic-shower",
   "metadata": {},
   "outputs": [],
   "source": [
    "from sklearn.model_selection import train_test_split\n",
    "\n",
    "predictors = data1.drop(['successful', 'units_sold'], axis=1)\n",
    "label = data1['successful']\n",
    "\n",
    "X_train, X_test, y_train, y_test  = train_test_split(predictors, label, test_size=0.2, random_state=10, stratify=label)"
   ]
  },
  {
   "cell_type": "code",
   "execution_count": 247,
   "id": "documentary-indian",
   "metadata": {},
   "outputs": [
    {
     "data": {
      "text/html": [
       "<div>\n",
       "<style scoped>\n",
       "    .dataframe tbody tr th:only-of-type {\n",
       "        vertical-align: middle;\n",
       "    }\n",
       "\n",
       "    .dataframe tbody tr th {\n",
       "        vertical-align: top;\n",
       "    }\n",
       "\n",
       "    .dataframe thead th {\n",
       "        text-align: right;\n",
       "    }\n",
       "</style>\n",
       "<table border=\"1\" class=\"dataframe\">\n",
       "  <thead>\n",
       "    <tr style=\"text-align: right;\">\n",
       "      <th></th>\n",
       "      <th>successful</th>\n",
       "    </tr>\n",
       "  </thead>\n",
       "  <tbody>\n",
       "    <tr>\n",
       "      <th>0</th>\n",
       "      <td>0</td>\n",
       "    </tr>\n",
       "    <tr>\n",
       "      <th>1</th>\n",
       "      <td>1</td>\n",
       "    </tr>\n",
       "    <tr>\n",
       "      <th>2</th>\n",
       "      <td>0</td>\n",
       "    </tr>\n",
       "    <tr>\n",
       "      <th>3</th>\n",
       "      <td>1</td>\n",
       "    </tr>\n",
       "    <tr>\n",
       "      <th>4</th>\n",
       "      <td>0</td>\n",
       "    </tr>\n",
       "    <tr>\n",
       "      <th>...</th>\n",
       "      <td>...</td>\n",
       "    </tr>\n",
       "    <tr>\n",
       "      <th>1568</th>\n",
       "      <td>1</td>\n",
       "    </tr>\n",
       "    <tr>\n",
       "      <th>1569</th>\n",
       "      <td>0</td>\n",
       "    </tr>\n",
       "    <tr>\n",
       "      <th>1570</th>\n",
       "      <td>0</td>\n",
       "    </tr>\n",
       "    <tr>\n",
       "      <th>1571</th>\n",
       "      <td>0</td>\n",
       "    </tr>\n",
       "    <tr>\n",
       "      <th>1572</th>\n",
       "      <td>0</td>\n",
       "    </tr>\n",
       "  </tbody>\n",
       "</table>\n",
       "<p>1539 rows × 1 columns</p>\n",
       "</div>"
      ],
      "text/plain": [
       "      successful\n",
       "0              0\n",
       "1              1\n",
       "2              0\n",
       "3              1\n",
       "4              0\n",
       "...          ...\n",
       "1568           1\n",
       "1569           0\n",
       "1570           0\n",
       "1571           0\n",
       "1572           0\n",
       "\n",
       "[1539 rows x 1 columns]"
      ]
     },
     "execution_count": 247,
     "metadata": {},
     "output_type": "execute_result"
    }
   ],
   "source": [
    "label.to_frame()"
   ]
  },
  {
   "cell_type": "markdown",
   "id": "suffering-petersburg",
   "metadata": {},
   "source": [
    "stratifying according to the label means that the split will capture the same proportions of\\\n",
    "positive and negative class in both training and testing data.\n",
    "\n",
    "Let's confirm that:"
   ]
  },
  {
   "cell_type": "code",
   "execution_count": 248,
   "id": "later-coordinate",
   "metadata": {},
   "outputs": [
    {
     "name": "stdout",
     "output_type": "stream",
     "text": [
      "33.63119415109667 % of positives in training data\n",
      "66.36880584890332 % of negatives in training data\n",
      "\n",
      "33.76623376623377 % of positives in testing data\n",
      "66.23376623376623 % of negatives in testing data\n"
     ]
    }
   ],
   "source": [
    "# proportion of positive class in training\n",
    "tot_pos_train = len(y_train[y_train == 1])\n",
    "prop_pos_train = tot_pos_train / len(y_train) * 100\n",
    "\n",
    "print('{} % of positives in training data'.format(prop_pos_train))\n",
    "print('{} % of negatives in training data'.format(100 - prop_pos_train))\n",
    "\n",
    "print()\n",
    "\n",
    "# proportion of positive class in testing\n",
    "tot_pos_test = len(y_test[y_test == 1])\n",
    "prop_pos_test = tot_pos_test / len(y_test) * 100\n",
    "\n",
    "print('{} % of positives in testing data'.format(prop_pos_test))\n",
    "print('{} % of negatives in testing data'.format(100 - prop_pos_test))"
   ]
  },
  {
   "cell_type": "code",
   "execution_count": 249,
   "id": "devoted-casino",
   "metadata": {},
   "outputs": [],
   "source": [
    "# # alternative and quicker method:\n",
    "# # proportion of class 1 in training data\n",
    "# y_train_c.value_counts(1)\n",
    "# # proportion of class 1 in testing data\n",
    "# y_test_c.value_counts(1)"
   ]
  },
  {
   "cell_type": "markdown",
   "id": "super-scope",
   "metadata": {},
   "source": [
    "## scaling features\n",
    "since we already handled the categorical variables through dummy encoding, we can scale the entire dataset"
   ]
  },
  {
   "cell_type": "code",
   "execution_count": 250,
   "id": "lyric-prior",
   "metadata": {},
   "outputs": [
    {
     "data": {
      "text/plain": [
       "array([[-0.64844352, -0.60128748, -0.9031247 , ..., -0.19702428,\n",
       "         1.83446129, -0.28753035],\n",
       "       [ 0.69856659, -0.29926708,  1.10726681, ..., -0.19702428,\n",
       "        -0.54511916, -0.28753035],\n",
       "       [-0.61944722, -0.56772966,  1.10726681, ..., -0.19702428,\n",
       "        -0.54511916, -0.28753035],\n",
       "       ...,\n",
       "       [-0.35584446, -0.56772966,  1.10726681, ..., -0.19702428,\n",
       "        -0.54511916, -0.28753035],\n",
       "       [-0.88304998, -0.60128748, -0.9031247 , ..., -0.19702428,\n",
       "        -0.54511916, -0.28753035],\n",
       "       [-0.91995437, -0.50061402,  1.10726681, ..., -0.19702428,\n",
       "         1.83446129, -0.28753035]])"
      ]
     },
     "execution_count": 250,
     "metadata": {},
     "output_type": "execute_result"
    }
   ],
   "source": [
    "from sklearn.preprocessing import StandardScaler\n",
    "\n",
    "scaler = StandardScaler()\n",
    "X_train_scaled = scaler.fit_transform(X_train)  # fitting and transforming training set\n",
    "X_train_scaled"
   ]
  },
  {
   "cell_type": "markdown",
   "id": "raising-dynamics",
   "metadata": {},
   "source": [
    "## select and train ML models"
   ]
  },
  {
   "cell_type": "code",
   "execution_count": 251,
   "id": "brave-resource",
   "metadata": {},
   "outputs": [],
   "source": [
    "from sklearn.linear_model import SGDClassifier\n",
    "from sklearn.ensemble import RandomForestClassifier\n",
    "from sklearn.naive_bayes import GaussianNB\n",
    "from sklearn.tree import DecisionTreeClassifier\n",
    "from sklearn.linear_model import LogisticRegression\n",
    "from sklearn.svm import SVC"
   ]
  },
  {
   "cell_type": "code",
   "execution_count": 252,
   "id": "political-oklahoma",
   "metadata": {},
   "outputs": [],
   "source": [
    "models = [SGDClassifier, RandomForestClassifier, GaussianNB, DecisionTreeClassifier, LogisticRegression, SVC]\n",
    "names = ['SGD Classifier', 'Random Forest Classifier', 'Gaussian NB Classifier', 'Decision Tree Classifier',\\\n",
    "        'Logistic Regressor', 'Support Vector Classifier']"
   ]
  },
  {
   "cell_type": "code",
   "execution_count": 253,
   "id": "sacred-christmas",
   "metadata": {},
   "outputs": [
    {
     "name": "stdout",
     "output_type": "stream",
     "text": [
      "accuracy of SGD Classifier:  0.9431356620633631\n",
      "accuracy of Random Forest Classifier:  1.0\n",
      "accuracy of Gaussian NB Classifier:  0.5588952071486596\n",
      "accuracy of Decision Tree Classifier:  1.0\n",
      "accuracy of Logistic Regressor:  0.9553208773354996\n",
      "accuracy of Support Vector Classifier:  0.9187652315190902\n"
     ]
    }
   ],
   "source": [
    "from sklearn.metrics import accuracy_score\n",
    "\n",
    "for i in range(len(models)):\n",
    "    model = models[i]()  # initializing model\n",
    "    name = names[i] \n",
    "    model.fit(X_train_scaled, y_train)\n",
    "    y_pred = model.predict(X_train_scaled)\n",
    "    print(f'accuracy of {name}: ',accuracy_score(y_pred, y_train))"
   ]
  },
  {
   "cell_type": "markdown",
   "id": "beautiful-given",
   "metadata": {},
   "source": [
    "## evaluating through cross validation"
   ]
  },
  {
   "cell_type": "code",
   "execution_count": 254,
   "id": "amino-sector",
   "metadata": {},
   "outputs": [
    {
     "name": "stdout",
     "output_type": "stream",
     "text": [
      "cross validation accuracy of SGD Classifier:  0.9285112405779928\n",
      "cross validation accuracy of Random Forest Classifier:  0.9439485204568644\n",
      "cross validation accuracy of Gaussian NB Classifier:  0.5783845166386887\n",
      "cross validation accuracy of Decision Tree Classifier:  0.9268885158487213\n",
      "cross validation accuracy of Logistic Regressor:  0.9439485204568644\n",
      "cross validation accuracy of Support Vector Classifier:  0.8643593035120635\n"
     ]
    }
   ],
   "source": [
    "from sklearn.model_selection import cross_val_score\n",
    "\n",
    "for i in range(len(models)):\n",
    "    model = models[i]()\n",
    "    name = names[i] \n",
    "    acc = cross_val_score(model, X_train_scaled, y_train, cv=5, scoring='accuracy')\n",
    "    print(f'cross validation accuracy of {name}: ',acc.mean())"
   ]
  },
  {
   "cell_type": "markdown",
   "id": "necessary-watts",
   "metadata": {},
   "source": [
    "# focusing on Random Forest Classifier and Logistic Regressor"
   ]
  },
  {
   "cell_type": "markdown",
   "id": "assured-mattress",
   "metadata": {},
   "source": [
    "## Random Forest"
   ]
  },
  {
   "cell_type": "code",
   "execution_count": 255,
   "id": "cultural-mercury",
   "metadata": {},
   "outputs": [],
   "source": [
    "from sklearn.model_selection import cross_val_predict\n",
    "\n",
    "rf = RandomForestClassifier(random_state=1)\n",
    "y_pred_rf = cross_val_predict(rf, X_train_scaled, y_train, cv=5)"
   ]
  },
  {
   "cell_type": "code",
   "execution_count": 256,
   "id": "behind-settlement",
   "metadata": {},
   "outputs": [
    {
     "data": {
      "text/plain": [
       "0.9398862713241267"
      ]
     },
     "execution_count": 256,
     "metadata": {},
     "output_type": "execute_result"
    }
   ],
   "source": [
    "accuracy_score(y_train, y_pred_rf)"
   ]
  },
  {
   "cell_type": "code",
   "execution_count": 257,
   "id": "choice-coalition",
   "metadata": {},
   "outputs": [
    {
     "data": {
      "text/plain": [
       "array([0, 1, 0, 1, 1, 0, 0, 1, 1, 0, 0, 0, 1, 0, 0, 0, 1, 0, 1, 0],\n",
       "      dtype=int64)"
      ]
     },
     "execution_count": 257,
     "metadata": {},
     "output_type": "execute_result"
    }
   ],
   "source": [
    "y_pred_rf[:20]"
   ]
  },
  {
   "cell_type": "code",
   "execution_count": 258,
   "id": "velvet-kennedy",
   "metadata": {},
   "outputs": [
    {
     "data": {
      "text/plain": [
       "array([[789,  28],\n",
       "       [ 46, 368]], dtype=int64)"
      ]
     },
     "execution_count": 258,
     "metadata": {},
     "output_type": "execute_result"
    }
   ],
   "source": [
    "from sklearn.metrics import confusion_matrix\n",
    "\n",
    "cm_rf = confusion_matrix(y_train, y_pred_rf)\n",
    "cm_rf"
   ]
  },
  {
   "cell_type": "code",
   "execution_count": 259,
   "id": "afraid-blocking",
   "metadata": {},
   "outputs": [
    {
     "name": "stdout",
     "output_type": "stream",
     "text": [
      "precision score is 92.92929292929293 %\n",
      "recall score is 88.88888888888889 %\n",
      "f1 score is 90.86419753086419 %\n"
     ]
    }
   ],
   "source": [
    "from sklearn.metrics import precision_score, recall_score, f1_score\n",
    "\n",
    "ps_rf = precision_score(y_train, y_pred_rf)  # accuracy of positive predictions\n",
    "rs_rf = recall_score(y_train, y_pred_rf)  # ratio of positives detected\n",
    "print('precision score is {} %'.format(ps_rf*100))\n",
    "print('recall score is {} %'.format(rs_rf*100))\n",
    "f1s_rf = f1_score(y_train, y_pred_rf)\n",
    "print('f1 score is {} %'.format(f1s_rf*100))"
   ]
  },
  {
   "cell_type": "markdown",
   "id": "requested-courtesy",
   "metadata": {},
   "source": [
    "### looking into decision scores"
   ]
  },
  {
   "cell_type": "code",
   "execution_count": 260,
   "id": "portuguese-framing",
   "metadata": {},
   "outputs": [
    {
     "data": {
      "text/plain": [
       "array([1, 1, 0, 1, 1, 0, 0, 1, 1, 0], dtype=int64)"
      ]
     },
     "execution_count": 260,
     "metadata": {},
     "output_type": "execute_result"
    }
   ],
   "source": [
    "# first let's return some predictions\n",
    "rf = RandomForestClassifier(random_state=1)\n",
    "rf.fit(X_train_scaled, y_train)\n",
    "some_pred = rf.predict(X_train_scaled[:10])\n",
    "some_pred"
   ]
  },
  {
   "cell_type": "code",
   "execution_count": 261,
   "id": "conscious-wages",
   "metadata": {},
   "outputs": [
    {
     "data": {
      "text/plain": [
       "367     1\n",
       "654     1\n",
       "374     0\n",
       "1162    1\n",
       "1463    1\n",
       "576     0\n",
       "457     0\n",
       "724     1\n",
       "400     1\n",
       "295     0\n",
       "Name: successful, dtype: int64"
      ]
     },
     "execution_count": 261,
     "metadata": {},
     "output_type": "execute_result"
    }
   ],
   "source": [
    "some_labels = y_train[:10]\n",
    "some_labels"
   ]
  },
  {
   "cell_type": "code",
   "execution_count": 262,
   "id": "polish-question",
   "metadata": {},
   "outputs": [
    {
     "data": {
      "text/plain": [
       "array([[0.29, 0.71],\n",
       "       [0.01, 0.99],\n",
       "       [1.  , 0.  ],\n",
       "       [0.1 , 0.9 ],\n",
       "       [0.02, 0.98],\n",
       "       [1.  , 0.  ],\n",
       "       [0.89, 0.11],\n",
       "       [0.  , 1.  ],\n",
       "       [0.  , 1.  ],\n",
       "       [0.93, 0.07]])"
      ]
     },
     "execution_count": 262,
     "metadata": {},
     "output_type": "execute_result"
    }
   ],
   "source": [
    "# returning the decision score of the first 10 observations\n",
    "some_scores = rf.predict_proba(X_train_scaled[:10])\n",
    "some_scores"
   ]
  },
  {
   "cell_type": "markdown",
   "id": "italian-tackle",
   "metadata": {},
   "source": [
    "## precision, recall trade-off"
   ]
  },
  {
   "cell_type": "code",
   "execution_count": 263,
   "id": "dietary-joining",
   "metadata": {},
   "outputs": [],
   "source": [
    "y_probas_rf = cross_val_predict(rf, X_train_scaled, y_train, cv=5, method='predict_proba')\n",
    "y_probas_rf = y_probas_rf[:,1]  # taking second column which correspond to probability of being class 1"
   ]
  },
  {
   "cell_type": "code",
   "execution_count": 264,
   "id": "permanent-gardening",
   "metadata": {},
   "outputs": [
    {
     "data": {
      "text/plain": [
       "array([0.27, 0.94, 0.02, ..., 0.1 , 0.15, 0.07])"
      ]
     },
     "execution_count": 264,
     "metadata": {},
     "output_type": "execute_result"
    }
   ],
   "source": [
    "y_probas_rf"
   ]
  },
  {
   "cell_type": "code",
   "execution_count": 265,
   "id": "molecular-semiconductor",
   "metadata": {},
   "outputs": [
    {
     "data": {
      "image/png": "[encoded data removed]",
      "text/plain": [
       "<Figure size 1008x504 with 1 Axes>"
      ]
     },
     "metadata": {
      "needs_background": "light"
     },
     "output_type": "display_data"
    }
   ],
   "source": [
    "from sklearn.metrics import precision_recall_curve\n",
    "\n",
    "precisions_rf, recalls_rf, thresholds_rf = precision_recall_curve(y_train, y_probas_rf)\n",
    "\n",
    "def plot_precision_and_recall(precisions, recalls, thresholds):\n",
    "    plt.plot(thresholds, precisions[:-1], 'b--', label='precision', linewidth=3)\n",
    "    plt.plot(thresholds, recalls[:-1], 'g-', label='recall', linewidth=3)\n",
    "    plt.xlabel('threshold', fontsize=19)\n",
    "    plt.legend(loc='lower left', fontsize=19)\n",
    "    plt.axis([0,1,0,1.2])\n",
    "    plt.grid()\n",
    "    \n",
    "plt.figure(figsize=(14, 7))\n",
    "plot_precision_and_recall(precisions_rf, recalls_rf, thresholds_rf)\n",
    "plt.show()"
   ]
  },
  {
   "cell_type": "markdown",
   "id": "suitable-cricket",
   "metadata": {},
   "source": [
    "## the ROC curve"
   ]
  },
  {
   "cell_type": "code",
   "execution_count": 266,
   "id": "controversial-dancing",
   "metadata": {},
   "outputs": [
    {
     "data": {
      "image/png": "[encoded data removed]",
      "text/plain": [
       "<Figure size 864x432 with 1 Axes>"
      ]
     },
     "metadata": {
      "needs_background": "light"
     },
     "output_type": "display_data"
    }
   ],
   "source": [
    "from sklearn.metrics import roc_curve\n",
    "\n",
    "fpr_rf, tpr_rf, thresholds_rf = roc_curve(y_train, y_probas_rf)\n",
    "\n",
    "def plot_roc_curve(fpr, tpr, label=None):\n",
    "    plt.plot(fpr, tpr, linewidth=2, label=label)\n",
    "    plt.plot([0, 1], [0, 1], 'k--')  # dashed diagonal\n",
    "    plt.grid(linestyle='--')\n",
    "    plt.title(\"ROC curve\", color='red')\n",
    "    plt.xlabel(\"false positive rate\", color='blue', size=15)\n",
    "    plt.ylabel(\"true positive rate\", color='blue', size=15)\n",
    "    \n",
    "plt.figure(figsize=(12, 6))                                   \n",
    "plot_roc_curve(fpr_rf, tpr_rf)\n",
    "plt.show()"
   ]
  },
  {
   "cell_type": "code",
   "execution_count": 267,
   "id": "enormous-australian",
   "metadata": {},
   "outputs": [
    {
     "data": {
      "text/plain": [
       "0.984824295318681"
      ]
     },
     "execution_count": 267,
     "metadata": {},
     "output_type": "execute_result"
    }
   ],
   "source": [
    "from sklearn.metrics import roc_auc_score\n",
    "\n",
    "roc_auc_rf = roc_auc_score(y_train, y_probas_rf)\n",
    "roc_auc_rf"
   ]
  },
  {
   "cell_type": "markdown",
   "id": "extra-compatibility",
   "metadata": {},
   "source": [
    "## Logistic Regressor"
   ]
  },
  {
   "cell_type": "code",
   "execution_count": 268,
   "id": "occupied-heart",
   "metadata": {},
   "outputs": [],
   "source": [
    "lr = LogisticRegression(random_state=11)\n",
    "y_pred_lr = cross_val_predict(lr, X_train_scaled, y_train, cv=5)"
   ]
  },
  {
   "cell_type": "code",
   "execution_count": 269,
   "id": "threaded-medication",
   "metadata": {},
   "outputs": [
    {
     "data": {
      "text/plain": [
       "0.9439480097481722"
      ]
     },
     "execution_count": 269,
     "metadata": {},
     "output_type": "execute_result"
    }
   ],
   "source": [
    "accuracy_score(y_train, y_pred_lr)"
   ]
  },
  {
   "cell_type": "code",
   "execution_count": 270,
   "id": "afraid-clarity",
   "metadata": {},
   "outputs": [
    {
     "data": {
      "text/plain": [
       "array([[801,  16],\n",
       "       [ 53, 361]], dtype=int64)"
      ]
     },
     "execution_count": 270,
     "metadata": {},
     "output_type": "execute_result"
    }
   ],
   "source": [
    "cm_lr = confusion_matrix(y_train, y_pred_lr)\n",
    "cm_lr"
   ]
  },
  {
   "cell_type": "code",
   "execution_count": 271,
   "id": "average-circuit",
   "metadata": {},
   "outputs": [
    {
     "name": "stdout",
     "output_type": "stream",
     "text": [
      "precision score is 95.75596816976127 %\n",
      "recall score is 87.19806763285024 %\n",
      "f1 score is 91.27686472819217 %\n"
     ]
    }
   ],
   "source": [
    "ps_lr = precision_score(y_train, y_pred_lr)  # accuracy of positive predictions\n",
    "rs_lr = recall_score(y_train, y_pred_lr)  # ratio of positives detected\n",
    "print('precision score is {} %'.format(ps_lr*100))\n",
    "print('recall score is {} %'.format(rs_lr*100))\n",
    "f1s_lr = f1_score(y_train, y_pred_lr)\n",
    "print('f1 score is {} %'.format(f1s_lr*100))"
   ]
  },
  {
   "cell_type": "code",
   "execution_count": 272,
   "id": "mexican-poster",
   "metadata": {},
   "outputs": [
    {
     "data": {
      "text/plain": [
       "array([-2.60592305, 34.36053491, -2.18049077,  1.25988623,  4.24515311,\n",
       "       -3.42170598, -1.21264816,  9.363912  ,  5.62568895, -2.15028473])"
      ]
     },
     "execution_count": 272,
     "metadata": {},
     "output_type": "execute_result"
    }
   ],
   "source": [
    "y_scores_lr = cross_val_predict(lr, X_train_scaled, y_train, cv=5, method='decision_function')\n",
    "y_scores_lr[:10]"
   ]
  },
  {
   "cell_type": "code",
   "execution_count": 273,
   "id": "smaller-mixer",
   "metadata": {},
   "outputs": [
    {
     "data": {
      "image/png": "[encoded data removed]",
      "text/plain": [
       "<Figure size 1008x504 with 1 Axes>"
      ]
     },
     "metadata": {
      "needs_background": "light"
     },
     "output_type": "display_data"
    }
   ],
   "source": [
    "precisions_lr, recalls_lr, thresholds_lr = precision_recall_curve(y_train, y_scores_lr)\n",
    "\n",
    "def plot_precision_and_recall(precisions, recalls, thresholds):\n",
    "    plt.plot(thresholds, precisions[:-1], 'b--', label='precision', linewidth=3)\n",
    "    plt.plot(thresholds, recalls[:-1], 'g-', label='recall', linewidth=3)\n",
    "    plt.xlabel('threshold', fontsize=19)\n",
    "    plt.legend(loc='lower left', fontsize=19)\n",
    "    plt.axis([-5,5,0,1.2])\n",
    "    plt.grid()\n",
    "    \n",
    "plt.figure(figsize=(14, 7))\n",
    "plot_precision_and_recall(precisions_lr, recalls_lr, thresholds_lr)\n",
    "plt.show()"
   ]
  },
  {
   "cell_type": "code",
   "execution_count": 274,
   "id": "gorgeous-ballot",
   "metadata": {},
   "outputs": [
    {
     "data": {
      "image/png": "[encoded data removed]",
      "text/plain": [
       "<Figure size 864x432 with 1 Axes>"
      ]
     },
     "metadata": {
      "needs_background": "light"
     },
     "output_type": "display_data"
    }
   ],
   "source": [
    "fpr_lr, tpr_lr, thresholds_lr = roc_curve(y_train, y_scores_lr)\n",
    "\n",
    "def plot_roc_curve(fpr, tpr, label=None):\n",
    "    plt.plot(fpr, tpr, linewidth=2, label=label)\n",
    "    plt.plot([0, 1], [0, 1], 'k--')  # dashed diagonal\n",
    "    plt.grid(linestyle='--')\n",
    "    plt.title(\"ROC curve\", color='red')\n",
    "    plt.xlabel(\"false positive rate\", color='blue', size=15)\n",
    "    plt.ylabel(\"true positive rate\", color='blue', size=15)\n",
    "    \n",
    "plt.figure(figsize=(12, 6))                                   \n",
    "plot_roc_curve(fpr_lr, tpr_lr)\n",
    "plt.show()"
   ]
  },
  {
   "cell_type": "code",
   "execution_count": 275,
   "id": "dental-tackle",
   "metadata": {},
   "outputs": [
    {
     "data": {
      "text/plain": [
       "0.9825625742820144"
      ]
     },
     "execution_count": 275,
     "metadata": {},
     "output_type": "execute_result"
    }
   ],
   "source": [
    "roc_auc_lr = roc_auc_score(y_train, y_scores_lr)\n",
    "roc_auc_lr"
   ]
  },
  {
   "cell_type": "markdown",
   "id": "silver-sacrifice",
   "metadata": {},
   "source": [
    "## Plotting ROC curve of RF vs LR"
   ]
  },
  {
   "cell_type": "code",
   "execution_count": 155,
   "id": "favorite-organic",
   "metadata": {},
   "outputs": [
    {
     "data": {
      "image/png": "[encoded data removed]",
      "text/plain": [
       "<Figure size 864x432 with 1 Axes>"
      ]
     },
     "metadata": {
      "needs_background": "light"
     },
     "output_type": "display_data"
    }
   ],
   "source": [
    "plt.figure(figsize=(12, 6))  \n",
    "plt.plot(fpr_rf, tpr_rf, \"b:\", label='Random Forest')\n",
    "#plot_roc_curve(fpr_rf, tpr_rf, label=\"Random Forest\")\n",
    "plot_roc_curve(fpr_lr, tpr_lr, label=\"Logistic Regression\")\n",
    "plt.legend()\n",
    "plt.show()"
   ]
  },
  {
   "cell_type": "markdown",
   "id": "funny-local",
   "metadata": {},
   "source": [
    "we see that the Random Forest has a slightly higher ROC AUC score than Logistic Regression"
   ]
  },
  {
   "cell_type": "markdown",
   "id": "artificial-season",
   "metadata": {},
   "source": [
    "## hyperparameters tuning of Random Forest"
   ]
  },
  {
   "cell_type": "code",
   "execution_count": 292,
   "id": "smoking-medline",
   "metadata": {},
   "outputs": [],
   "source": [
    "from sklearn.model_selection import GridSearchCV\n",
    "\n",
    "\n",
    "n_estimators = [80, 100, 120]\n",
    "max_depth = [15, 18]\n",
    "min_samples_split = [2]\n",
    "min_samples_leaf = [1] \n",
    "\n",
    "hyperF = dict(n_estimators = n_estimators, max_depth = max_depth,  \n",
    "              min_samples_split = min_samples_split, \n",
    "             min_samples_leaf = min_samples_leaf)\n",
    "\n",
    "rf = RandomForestClassifier()\n",
    "\n",
    "gridF = GridSearchCV(estimator = rf, param_grid = hyperF, cv = 3, verbose = 2, \n",
    "                      n_jobs = -1)"
   ]
  },
  {
   "cell_type": "code",
   "execution_count": 293,
   "id": "compact-division",
   "metadata": {},
   "outputs": [
    {
     "name": "stdout",
     "output_type": "stream",
     "text": [
      "Fitting 3 folds for each of 6 candidates, totalling 18 fits\n"
     ]
    }
   ],
   "source": [
    "bestF = gridF.fit(X_train_scaled, y_train)"
   ]
  },
  {
   "cell_type": "code",
   "execution_count": 294,
   "id": "norman-depth",
   "metadata": {},
   "outputs": [
    {
     "data": {
      "text/plain": [
       "{'max_depth': 15,\n",
       " 'min_samples_leaf': 1,\n",
       " 'min_samples_split': 2,\n",
       " 'n_estimators': 100}"
      ]
     },
     "execution_count": 294,
     "metadata": {},
     "output_type": "execute_result"
    }
   ],
   "source": [
    "bestF.best_params_"
   ]
  },
  {
   "cell_type": "code",
   "execution_count": 295,
   "id": "given-trinidad",
   "metadata": {},
   "outputs": [
    {
     "data": {
      "text/plain": [
       "RandomForestClassifier(max_depth=15)"
      ]
     },
     "execution_count": 295,
     "metadata": {},
     "output_type": "execute_result"
    }
   ],
   "source": [
    "best_model = bestF.best_estimator_\n",
    "best_model"
   ]
  },
  {
   "cell_type": "code",
   "execution_count": 280,
   "id": "european-friday",
   "metadata": {},
   "outputs": [],
   "source": [
    "# forestOpt = RandomForestClassifier(random_state = 1,\n",
    "#                                    max_depth = 15,\n",
    "#                                    n_estimators = 500,\n",
    "#                                    min_samples_split = 2,\n",
    "#                                    min_samples_leaf = 1)"
   ]
  },
  {
   "cell_type": "markdown",
   "id": "statistical-mailing",
   "metadata": {},
   "source": [
    "## scaling testing predictors before applying fine-tuned model"
   ]
  },
  {
   "cell_type": "code",
   "execution_count": 296,
   "id": "authentic-margin",
   "metadata": {},
   "outputs": [
    {
     "data": {
      "text/plain": [
       "array([[-0.09224169,  1.74776009, -0.9031247 , ..., -0.19702428,\n",
       "        -0.54511916, -0.28753035],\n",
       "       [-0.09224169,  2.31824308, -0.9031247 , ..., -0.19702428,\n",
       "        -0.54511916, -0.28753035],\n",
       "       [-0.90941026, -0.60128748, -0.9031247 , ..., -0.19702428,\n",
       "         1.83446129, -0.28753035],\n",
       "       ...,\n",
       "       [ 0.17136107,  1.94910703, -0.9031247 , ..., -0.19702428,\n",
       "        -0.54511916, -0.28753035],\n",
       "       [-1.46034003, -0.66840313,  1.10726681, ..., -0.19702428,\n",
       "        -0.54511916, -0.28753035],\n",
       "       [-0.88304998,  0.17054244,  1.10726681, ..., -0.19702428,\n",
       "        -0.54511916, -0.28753035]])"
      ]
     },
     "execution_count": 296,
     "metadata": {},
     "output_type": "execute_result"
    }
   ],
   "source": [
    "X_test_scaled = scaler.transform(X_test)  # transforming test set (no fitting)\n",
    "X_test_scaled"
   ]
  },
  {
   "cell_type": "markdown",
   "id": "brown-saskatchewan",
   "metadata": {},
   "source": [
    "# predicting on test data"
   ]
  },
  {
   "cell_type": "code",
   "execution_count": 297,
   "id": "coated-ownership",
   "metadata": {},
   "outputs": [
    {
     "data": {
      "text/plain": [
       "array([1, 0, 0, 1, 0, 0, 0, 0, 0, 0, 1, 0, 0, 0, 0, 0, 1, 1, 0, 0, 0, 0,\n",
       "       0, 0, 0, 0, 0, 0, 1, 0, 0, 0, 1, 1, 0, 0, 0, 0, 0, 0, 0, 1, 0, 0,\n",
       "       0, 0, 0, 0, 0, 1, 0, 0, 0, 1, 0, 0, 0, 0, 0, 0, 0, 0, 1, 0, 1, 0,\n",
       "       0, 1, 1, 0, 0, 1, 0, 1, 0, 0, 0, 1, 0, 1, 0, 0, 1, 0, 0, 1, 0, 0,\n",
       "       0, 1, 0, 1, 0, 0, 0, 0, 0, 1, 0, 0, 0, 0, 1, 0, 1, 1, 0, 0, 0, 0,\n",
       "       0, 0, 0, 0, 1, 0, 1, 1, 0, 0, 0, 0, 0, 0, 0, 0, 1, 1, 0, 1, 0, 0,\n",
       "       1, 1, 0, 0, 0, 0, 1, 1, 0, 1, 1, 0, 1, 0, 0, 0, 0, 0, 1, 0, 0, 0,\n",
       "       0, 1, 1, 1, 0, 0, 0, 0, 0, 1, 0, 0, 0, 0, 0, 1, 1, 0, 1, 0, 0, 0,\n",
       "       0, 0, 0, 0, 0, 0, 0, 0, 0, 0, 1, 0, 0, 0, 1, 0, 1, 0, 0, 1, 1, 1,\n",
       "       1, 1, 0, 0, 0, 0, 1, 0, 1, 0, 0, 0, 0, 0, 0, 0, 0, 1, 0, 0, 0, 0,\n",
       "       1, 0, 0, 0, 0, 0, 0, 0, 1, 1, 1, 0, 0, 0, 0, 0, 1, 1, 1, 0, 0, 0,\n",
       "       0, 1, 0, 0, 0, 0, 0, 1, 1, 0, 1, 1, 0, 0, 0, 0, 0, 1, 0, 0, 1, 0,\n",
       "       1, 0, 0, 0, 0, 1, 1, 1, 1, 0, 1, 1, 0, 0, 1, 0, 1, 0, 0, 0, 0, 0,\n",
       "       0, 1, 0, 1, 1, 1, 1, 0, 0, 0, 0, 1, 1, 0, 1, 0, 1, 0, 0, 1, 0, 1],\n",
       "      dtype=int64)"
      ]
     },
     "execution_count": 297,
     "metadata": {},
     "output_type": "execute_result"
    }
   ],
   "source": [
    "y_pred = best_model.predict(X_test_scaled)\n",
    "y_pred"
   ]
  },
  {
   "cell_type": "code",
   "execution_count": 298,
   "id": "basic-lightning",
   "metadata": {},
   "outputs": [
    {
     "data": {
      "text/plain": [
       "0.9383116883116883"
      ]
     },
     "execution_count": 298,
     "metadata": {},
     "output_type": "execute_result"
    }
   ],
   "source": [
    "accuracy_score(y_test, y_pred)"
   ]
  },
  {
   "cell_type": "code",
   "execution_count": null,
   "id": "turkish-punishment",
   "metadata": {},
   "outputs": [],
   "source": []
  }
 ],
 "metadata": {
  "kernelspec": {
   "name": "python3",
   "display_name": "Python 3.7.9 64-bit ('ml': virtualenvwrapper)"
  },
  "language_info": {
   "codemirror_mode": {
    "name": "ipython",
    "version": 3
   },
   "file_extension": ".py",
   "mimetype": "text/x-python",
   "name": "python",
   "nbconvert_exporter": "python",
   "pygments_lexer": "ipython3",
   "version": "3.7.9"
  }
 },
 "nbformat": 4,
 "nbformat_minor": 5
}